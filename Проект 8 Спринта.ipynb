{
 "cells": [
  {
   "cell_type": "markdown",
   "id": "e06910dd",
   "metadata": {
    "id": "e06910dd"
   },
   "source": [
    "# Проект 8 спринта\n",
    "\n",
    "- Автор: Марков Максим\n",
    "- Дата: 27.07.2025"
   ]
  },
  {
   "cell_type": "markdown",
   "id": "4149134c",
   "metadata": {
    "id": "4149134c"
   },
   "source": [
    "### Цели и задачи проекта\n",
    "\n",
    "  Основная цель проекта сделать анализ рынка общественного питания в Москве, а также проведения исследовательского анализа рынка Москвы для определения подходящего инвесторам места."
   ]
  },
  {
   "cell_type": "markdown",
   "id": "728986ea",
   "metadata": {
    "id": "728986ea"
   },
   "source": [
    "### Описание данных\n",
    "\n",
    "В проекте будут использованы данные из двух файлов.\n",
    "\n",
    "Файл `/datasets/rest_info.csv` содержит информацию о заведениях общественного питания:\n",
    "- `name` — название заведения;\n",
    "- `address` — адрес заведения;\n",
    "- `district` — административный район, в котором находится заведение, например Центральный административный округ;\n",
    "- `category` — категория заведения, например «кафе», «пиццерия» или «кофейня»;\n",
    "- `hours` — информация о днях и часах работы;\n",
    "- `rating` — рейтинг заведения по оценкам пользователей в Яндекс Картах (высшая оценка — 5.0);\n",
    "- `chain` — число, выраженное 0 или 1, которое показывает, является ли заведение сетевым (для маленьких сетей могут встречаться ошибки):\n",
    "    - `0` — заведение не является сетевым;\n",
    "    - `1` — заведение является сетевым.\n",
    "- `seats` — количество посадочных мест.\n",
    "\n",
    "Файл `/datasets/rest_price.csv` содержит информацию о среднем чеке в заведениях общественного питания:\n",
    "- `price` — категория цен в заведении, например «средние», «ниже среднего», «выше среднего» и так далее;\n",
    "- `avg_bill` — строка, которая хранит среднюю стоимость заказа в виде диапазона, например:\n",
    "    - «Средний счёт: 1000–1500 ₽»;\n",
    "    - «Цена чашки капучино: 130–220 ₽»;\n",
    "    - «Цена бокала пива: 400–600 ₽» и так далее.\n",
    "- `middle_avg_bill` — число с оценкой среднего чека, которое указано только для значений из столбца avg_bill, начинающихся с подстроки «Средний счёт»:\n",
    "    - Если в строке указан ценовой диапазон из двух значений, в столбец войдёт медиана этих двух значений.\n",
    "    - Если в строке указано одно число — цена без диапазона, то в столбец войдёт это число.\n",
    "    - Если значения нет или оно не начинается с подстроки «Средний счёт», то в столбец ничего не войдёт.\n",
    "- `middle_coffee_cup` — число с оценкой одной чашки капучино, которое указано только для значений из столбца avg_bill, начинающихся с подстроки «Цена одной чашки капучино»:\n",
    "    - Если в строке указан ценовой диапазон из двух значений, в столбец войдёт медиана этих двух значений.\n",
    "    - Если в строке указано одно число — цена без диапазона, то в столбец войдёт это число.\n",
    "    - Если значения нет или оно не начинается с подстроки «Цена одной чашки капучино», то в столбец ничего не войдёт."
   ]
  },
  {
   "cell_type": "markdown",
   "id": "4fecaf95",
   "metadata": {
    "id": "4fecaf95"
   },
   "source": [
    "### Содержимое проекта\n",
    "\n",
    "\n",
    "1. [Загрузка и знакомство с данными](#1-bullet)<br>\n",
    "2. [Предобработка данных](#2-bullet)<br>\n",
    "3. [Исследовательский анализ данных](#3-bullet)<br>\n",
    "4. [Категоризация данных](#4-bullet)\n"
   ]
  },
  {
   "cell_type": "markdown",
   "id": "6f7d21d6",
   "metadata": {
    "id": "6f7d21d6"
   },
   "source": [
    "## Загрузка данных и знакомство с ними\n"
   ]
  },
  {
   "cell_type": "code",
   "execution_count": 1,
   "id": "15f4c8e2",
   "metadata": {},
   "outputs": [],
   "source": [
    "#pip install matplotlib==3.7.3"
   ]
  },
  {
   "cell_type": "code",
   "execution_count": 2,
   "id": "ce99d9f0",
   "metadata": {},
   "outputs": [],
   "source": [
    "#!pip install phik -U"
   ]
  },
  {
   "cell_type": "code",
   "execution_count": 3,
   "id": "f68a7419",
   "metadata": {
    "id": "f68a7419"
   },
   "outputs": [],
   "source": [
    "#импортируем библиотеки\n",
    "import pandas as pd\n",
    "import matplotlib.pyplot as plt\n",
    "import seaborn as sns\n",
    "from phik import phik_matrix"
   ]
  },
  {
   "cell_type": "code",
   "execution_count": 4,
   "id": "dd415c80",
   "metadata": {
    "id": "dd415c80"
   },
   "outputs": [],
   "source": [
    "#считываем файлы\n",
    "df_rest = pd.read_csv('https://code.s3.yandex.net/datasets/rest_info.csv')\n",
    "df_rest_price= pd.read_csv('https://code.s3.yandex.net/datasets/rest_price.csv')"
   ]
  },
  {
   "cell_type": "code",
   "execution_count": 5,
   "id": "3158ad37",
   "metadata": {
    "id": "3158ad37"
   },
   "outputs": [
    {
     "data": {
      "text/html": [
       "<div>\n",
       "<style scoped>\n",
       "    .dataframe tbody tr th:only-of-type {\n",
       "        vertical-align: middle;\n",
       "    }\n",
       "\n",
       "    .dataframe tbody tr th {\n",
       "        vertical-align: top;\n",
       "    }\n",
       "\n",
       "    .dataframe thead th {\n",
       "        text-align: right;\n",
       "    }\n",
       "</style>\n",
       "<table border=\"1\" class=\"dataframe\">\n",
       "  <thead>\n",
       "    <tr style=\"text-align: right;\">\n",
       "      <th></th>\n",
       "      <th>id</th>\n",
       "      <th>name</th>\n",
       "      <th>category</th>\n",
       "      <th>address</th>\n",
       "      <th>district</th>\n",
       "      <th>hours</th>\n",
       "      <th>rating</th>\n",
       "      <th>chain</th>\n",
       "      <th>seats</th>\n",
       "    </tr>\n",
       "  </thead>\n",
       "  <tbody>\n",
       "    <tr>\n",
       "      <th>0</th>\n",
       "      <td>0c3e3439a8c64ea5bf6ecd6ca6ae19f0</td>\n",
       "      <td>WoWфли</td>\n",
       "      <td>кафе</td>\n",
       "      <td>Москва, улица Дыбенко, 7/1</td>\n",
       "      <td>Северный административный округ</td>\n",
       "      <td>ежедневно, 10:00–22:00</td>\n",
       "      <td>5.0</td>\n",
       "      <td>0</td>\n",
       "      <td>NaN</td>\n",
       "    </tr>\n",
       "    <tr>\n",
       "      <th>1</th>\n",
       "      <td>045780ada3474c57a2112e505d74b633</td>\n",
       "      <td>Четыре комнаты</td>\n",
       "      <td>ресторан</td>\n",
       "      <td>Москва, улица Дыбенко, 36, корп. 1</td>\n",
       "      <td>Северный административный округ</td>\n",
       "      <td>ежедневно, 10:00–22:00</td>\n",
       "      <td>4.5</td>\n",
       "      <td>0</td>\n",
       "      <td>4.0</td>\n",
       "    </tr>\n",
       "    <tr>\n",
       "      <th>2</th>\n",
       "      <td>1070b6b59144425896c65889347fcff6</td>\n",
       "      <td>Хазри</td>\n",
       "      <td>кафе</td>\n",
       "      <td>Москва, Клязьминская улица, 15</td>\n",
       "      <td>Северный административный округ</td>\n",
       "      <td>пн-чт 11:00–02:00; пт,сб 11:00–05:00; вс 11:00...</td>\n",
       "      <td>4.6</td>\n",
       "      <td>0</td>\n",
       "      <td>45.0</td>\n",
       "    </tr>\n",
       "    <tr>\n",
       "      <th>3</th>\n",
       "      <td>03ac7cd772104f65b58b349dc59f03ee</td>\n",
       "      <td>Dormouse Coffee Shop</td>\n",
       "      <td>кофейня</td>\n",
       "      <td>Москва, улица Маршала Федоренко, 12</td>\n",
       "      <td>Северный административный округ</td>\n",
       "      <td>ежедневно, 09:00–22:00</td>\n",
       "      <td>5.0</td>\n",
       "      <td>0</td>\n",
       "      <td>NaN</td>\n",
       "    </tr>\n",
       "    <tr>\n",
       "      <th>4</th>\n",
       "      <td>a163aada139c4c7f87b0b1c0b466a50f</td>\n",
       "      <td>Иль Марко</td>\n",
       "      <td>пиццерия</td>\n",
       "      <td>Москва, Правобережная улица, 1Б</td>\n",
       "      <td>Северный административный округ</td>\n",
       "      <td>ежедневно, 10:00–22:00</td>\n",
       "      <td>5.0</td>\n",
       "      <td>1</td>\n",
       "      <td>148.0</td>\n",
       "    </tr>\n",
       "  </tbody>\n",
       "</table>\n",
       "</div>"
      ],
      "text/plain": [
       "                                 id                  name  category  \\\n",
       "0  0c3e3439a8c64ea5bf6ecd6ca6ae19f0                WoWфли      кафе   \n",
       "1  045780ada3474c57a2112e505d74b633        Четыре комнаты  ресторан   \n",
       "2  1070b6b59144425896c65889347fcff6                 Хазри      кафе   \n",
       "3  03ac7cd772104f65b58b349dc59f03ee  Dormouse Coffee Shop   кофейня   \n",
       "4  a163aada139c4c7f87b0b1c0b466a50f             Иль Марко  пиццерия   \n",
       "\n",
       "                               address                         district  \\\n",
       "0           Москва, улица Дыбенко, 7/1  Северный административный округ   \n",
       "1   Москва, улица Дыбенко, 36, корп. 1  Северный административный округ   \n",
       "2       Москва, Клязьминская улица, 15  Северный административный округ   \n",
       "3  Москва, улица Маршала Федоренко, 12  Северный административный округ   \n",
       "4      Москва, Правобережная улица, 1Б  Северный административный округ   \n",
       "\n",
       "                                               hours  rating  chain  seats  \n",
       "0                             ежедневно, 10:00–22:00     5.0      0    NaN  \n",
       "1                             ежедневно, 10:00–22:00     4.5      0    4.0  \n",
       "2  пн-чт 11:00–02:00; пт,сб 11:00–05:00; вс 11:00...     4.6      0   45.0  \n",
       "3                             ежедневно, 09:00–22:00     5.0      0    NaN  \n",
       "4                             ежедневно, 10:00–22:00     5.0      1  148.0  "
      ]
     },
     "execution_count": 5,
     "metadata": {},
     "output_type": "execute_result"
    }
   ],
   "source": [
    "#знакомимся с данными файла rest_info\n",
    "df_rest.head()"
   ]
  },
  {
   "cell_type": "code",
   "execution_count": 6,
   "id": "57187793",
   "metadata": {},
   "outputs": [
    {
     "name": "stdout",
     "output_type": "stream",
     "text": [
      "<class 'pandas.core.frame.DataFrame'>\n",
      "RangeIndex: 8406 entries, 0 to 8405\n",
      "Data columns (total 9 columns):\n",
      " #   Column    Non-Null Count  Dtype  \n",
      "---  ------    --------------  -----  \n",
      " 0   id        8406 non-null   object \n",
      " 1   name      8406 non-null   object \n",
      " 2   category  8406 non-null   object \n",
      " 3   address   8406 non-null   object \n",
      " 4   district  8406 non-null   object \n",
      " 5   hours     7870 non-null   object \n",
      " 6   rating    8406 non-null   float64\n",
      " 7   chain     8406 non-null   int64  \n",
      " 8   seats     4795 non-null   float64\n",
      "dtypes: float64(2), int64(1), object(6)\n",
      "memory usage: 591.2+ KB\n"
     ]
    }
   ],
   "source": [
    "#вывыдим общую информацию о данных \n",
    "df_rest.info()"
   ]
  },
  {
   "cell_type": "code",
   "execution_count": 7,
   "id": "516aaafe",
   "metadata": {},
   "outputs": [
    {
     "data": {
      "text/html": [
       "<div>\n",
       "<style scoped>\n",
       "    .dataframe tbody tr th:only-of-type {\n",
       "        vertical-align: middle;\n",
       "    }\n",
       "\n",
       "    .dataframe tbody tr th {\n",
       "        vertical-align: top;\n",
       "    }\n",
       "\n",
       "    .dataframe thead th {\n",
       "        text-align: right;\n",
       "    }\n",
       "</style>\n",
       "<table border=\"1\" class=\"dataframe\">\n",
       "  <thead>\n",
       "    <tr style=\"text-align: right;\">\n",
       "      <th></th>\n",
       "      <th>id</th>\n",
       "      <th>price</th>\n",
       "      <th>avg_bill</th>\n",
       "      <th>middle_avg_bill</th>\n",
       "      <th>middle_coffee_cup</th>\n",
       "    </tr>\n",
       "  </thead>\n",
       "  <tbody>\n",
       "    <tr>\n",
       "      <th>0</th>\n",
       "      <td>045780ada3474c57a2112e505d74b633</td>\n",
       "      <td>выше среднего</td>\n",
       "      <td>Средний счёт:1500–1600 ₽</td>\n",
       "      <td>1550.0</td>\n",
       "      <td>NaN</td>\n",
       "    </tr>\n",
       "    <tr>\n",
       "      <th>1</th>\n",
       "      <td>1070b6b59144425896c65889347fcff6</td>\n",
       "      <td>средние</td>\n",
       "      <td>Средний счёт:от 1000 ₽</td>\n",
       "      <td>1000.0</td>\n",
       "      <td>NaN</td>\n",
       "    </tr>\n",
       "    <tr>\n",
       "      <th>2</th>\n",
       "      <td>03ac7cd772104f65b58b349dc59f03ee</td>\n",
       "      <td>NaN</td>\n",
       "      <td>Цена чашки капучино:155–185 ₽</td>\n",
       "      <td>NaN</td>\n",
       "      <td>170.0</td>\n",
       "    </tr>\n",
       "    <tr>\n",
       "      <th>3</th>\n",
       "      <td>a163aada139c4c7f87b0b1c0b466a50f</td>\n",
       "      <td>средние</td>\n",
       "      <td>Средний счёт:400–600 ₽</td>\n",
       "      <td>500.0</td>\n",
       "      <td>NaN</td>\n",
       "    </tr>\n",
       "    <tr>\n",
       "      <th>4</th>\n",
       "      <td>8a343546b24e4a499ad96eb7d0797a8a</td>\n",
       "      <td>средние</td>\n",
       "      <td>NaN</td>\n",
       "      <td>NaN</td>\n",
       "      <td>NaN</td>\n",
       "    </tr>\n",
       "  </tbody>\n",
       "</table>\n",
       "</div>"
      ],
      "text/plain": [
       "                                 id          price  \\\n",
       "0  045780ada3474c57a2112e505d74b633  выше среднего   \n",
       "1  1070b6b59144425896c65889347fcff6        средние   \n",
       "2  03ac7cd772104f65b58b349dc59f03ee            NaN   \n",
       "3  a163aada139c4c7f87b0b1c0b466a50f        средние   \n",
       "4  8a343546b24e4a499ad96eb7d0797a8a        средние   \n",
       "\n",
       "                        avg_bill  middle_avg_bill  middle_coffee_cup  \n",
       "0       Средний счёт:1500–1600 ₽           1550.0                NaN  \n",
       "1         Средний счёт:от 1000 ₽           1000.0                NaN  \n",
       "2  Цена чашки капучино:155–185 ₽              NaN              170.0  \n",
       "3         Средний счёт:400–600 ₽            500.0                NaN  \n",
       "4                            NaN              NaN                NaN  "
      ]
     },
     "execution_count": 7,
     "metadata": {},
     "output_type": "execute_result"
    }
   ],
   "source": [
    "#знакомимся с данными файла rest_price\n",
    "df_rest_price.head()"
   ]
  },
  {
   "cell_type": "code",
   "execution_count": 8,
   "id": "68d5ba68",
   "metadata": {},
   "outputs": [
    {
     "name": "stdout",
     "output_type": "stream",
     "text": [
      "<class 'pandas.core.frame.DataFrame'>\n",
      "RangeIndex: 4058 entries, 0 to 4057\n",
      "Data columns (total 5 columns):\n",
      " #   Column             Non-Null Count  Dtype  \n",
      "---  ------             --------------  -----  \n",
      " 0   id                 4058 non-null   object \n",
      " 1   price              3315 non-null   object \n",
      " 2   avg_bill           3816 non-null   object \n",
      " 3   middle_avg_bill    3149 non-null   float64\n",
      " 4   middle_coffee_cup  535 non-null    float64\n",
      "dtypes: float64(2), object(3)\n",
      "memory usage: 158.6+ KB\n"
     ]
    }
   ],
   "source": [
    "#выводим общую информацию о данных\n",
    "df_rest_price.info()"
   ]
  },
  {
   "cell_type": "markdown",
   "id": "2c614a62",
   "metadata": {
    "id": "2c614a62"
   },
   "source": [
    "---\n",
    "\n",
    "### Промежуточный вывод\n"
   ]
  },
  {
   "cell_type": "markdown",
   "id": "abde85d1-f4e7-4652-91e9-bfee813168a4",
   "metadata": {
    "id": "3593b7d5"
   },
   "source": [
    "Датасет `rest_info` содержит 9 столбцов и 8406 строк, в которых представлена информация о заведениях общественного питания Москвы.\n",
    "\n",
    "После первичного анализа данных можно сделать следующие выводы:\n",
    "- Названия колонок заданны коректно и дают представление о хранящейся в них информации, стиль написания колонок соответствует стандарту \"snake case\".\n",
    "- В 2 колонках (`hours`, `seats`) есть пропуски в данных.\n",
    "- Судя по первому знакомству с данными, значения в столбцах соответствуют своему описанию."
   ]
  },
  {
   "cell_type": "markdown",
   "id": "c12875b8-dad9-4892-a3c6-e3a67c9e5202",
   "metadata": {
    "id": "c2cc7f38"
   },
   "source": [
    "Датасет `rest_price` содержит 5 столбцов и 4058 строк, в которых представлена информация о среднем чеке в заведениях общественного питания.\n",
    "\n",
    "После первичного анализа данных можно сделать следующие выводы:\n",
    "- Названия колонок заданны коректно и дают представление о хранящейся в них информации, стиль написания колонок соответствует стандарту \"snake case\".\n",
    "- Во всех колонках, кроме `id`, есть пропуски в данных. В колонке `middle_coffee_cup` пропусков очень много, порядка 80%.\n",
    "- Судя по первому знакомству с данными, значения в столбцах соответствуют своему описанию, типы данных корректны."
   ]
  },
  {
   "cell_type": "markdown",
   "id": "8a8d1491",
   "metadata": {
    "id": "8a8d1491"
   },
   "source": [
    "### Подготовка единого датафрейма\n"
   ]
  },
  {
   "cell_type": "code",
   "execution_count": 9,
   "id": "3408e303",
   "metadata": {
    "id": "3408e303"
   },
   "outputs": [
    {
     "data": {
      "text/html": [
       "<div>\n",
       "<style scoped>\n",
       "    .dataframe tbody tr th:only-of-type {\n",
       "        vertical-align: middle;\n",
       "    }\n",
       "\n",
       "    .dataframe tbody tr th {\n",
       "        vertical-align: top;\n",
       "    }\n",
       "\n",
       "    .dataframe thead th {\n",
       "        text-align: right;\n",
       "    }\n",
       "</style>\n",
       "<table border=\"1\" class=\"dataframe\">\n",
       "  <thead>\n",
       "    <tr style=\"text-align: right;\">\n",
       "      <th></th>\n",
       "      <th>id</th>\n",
       "      <th>name</th>\n",
       "      <th>category</th>\n",
       "      <th>address</th>\n",
       "      <th>district</th>\n",
       "      <th>hours</th>\n",
       "      <th>rating</th>\n",
       "      <th>chain</th>\n",
       "      <th>seats</th>\n",
       "      <th>price</th>\n",
       "      <th>avg_bill</th>\n",
       "      <th>middle_avg_bill</th>\n",
       "      <th>middle_coffee_cup</th>\n",
       "    </tr>\n",
       "  </thead>\n",
       "  <tbody>\n",
       "    <tr>\n",
       "      <th>0</th>\n",
       "      <td>0c3e3439a8c64ea5bf6ecd6ca6ae19f0</td>\n",
       "      <td>WoWфли</td>\n",
       "      <td>кафе</td>\n",
       "      <td>Москва, улица Дыбенко, 7/1</td>\n",
       "      <td>Северный административный округ</td>\n",
       "      <td>ежедневно, 10:00–22:00</td>\n",
       "      <td>5.0</td>\n",
       "      <td>0</td>\n",
       "      <td>NaN</td>\n",
       "      <td>NaN</td>\n",
       "      <td>NaN</td>\n",
       "      <td>NaN</td>\n",
       "      <td>NaN</td>\n",
       "    </tr>\n",
       "    <tr>\n",
       "      <th>1</th>\n",
       "      <td>045780ada3474c57a2112e505d74b633</td>\n",
       "      <td>Четыре комнаты</td>\n",
       "      <td>ресторан</td>\n",
       "      <td>Москва, улица Дыбенко, 36, корп. 1</td>\n",
       "      <td>Северный административный округ</td>\n",
       "      <td>ежедневно, 10:00–22:00</td>\n",
       "      <td>4.5</td>\n",
       "      <td>0</td>\n",
       "      <td>4.0</td>\n",
       "      <td>выше среднего</td>\n",
       "      <td>Средний счёт:1500–1600 ₽</td>\n",
       "      <td>1550.0</td>\n",
       "      <td>NaN</td>\n",
       "    </tr>\n",
       "    <tr>\n",
       "      <th>2</th>\n",
       "      <td>1070b6b59144425896c65889347fcff6</td>\n",
       "      <td>Хазри</td>\n",
       "      <td>кафе</td>\n",
       "      <td>Москва, Клязьминская улица, 15</td>\n",
       "      <td>Северный административный округ</td>\n",
       "      <td>пн-чт 11:00–02:00; пт,сб 11:00–05:00; вс 11:00...</td>\n",
       "      <td>4.6</td>\n",
       "      <td>0</td>\n",
       "      <td>45.0</td>\n",
       "      <td>средние</td>\n",
       "      <td>Средний счёт:от 1000 ₽</td>\n",
       "      <td>1000.0</td>\n",
       "      <td>NaN</td>\n",
       "    </tr>\n",
       "    <tr>\n",
       "      <th>3</th>\n",
       "      <td>03ac7cd772104f65b58b349dc59f03ee</td>\n",
       "      <td>Dormouse Coffee Shop</td>\n",
       "      <td>кофейня</td>\n",
       "      <td>Москва, улица Маршала Федоренко, 12</td>\n",
       "      <td>Северный административный округ</td>\n",
       "      <td>ежедневно, 09:00–22:00</td>\n",
       "      <td>5.0</td>\n",
       "      <td>0</td>\n",
       "      <td>NaN</td>\n",
       "      <td>NaN</td>\n",
       "      <td>Цена чашки капучино:155–185 ₽</td>\n",
       "      <td>NaN</td>\n",
       "      <td>170.0</td>\n",
       "    </tr>\n",
       "    <tr>\n",
       "      <th>4</th>\n",
       "      <td>a163aada139c4c7f87b0b1c0b466a50f</td>\n",
       "      <td>Иль Марко</td>\n",
       "      <td>пиццерия</td>\n",
       "      <td>Москва, Правобережная улица, 1Б</td>\n",
       "      <td>Северный административный округ</td>\n",
       "      <td>ежедневно, 10:00–22:00</td>\n",
       "      <td>5.0</td>\n",
       "      <td>1</td>\n",
       "      <td>148.0</td>\n",
       "      <td>средние</td>\n",
       "      <td>Средний счёт:400–600 ₽</td>\n",
       "      <td>500.0</td>\n",
       "      <td>NaN</td>\n",
       "    </tr>\n",
       "  </tbody>\n",
       "</table>\n",
       "</div>"
      ],
      "text/plain": [
       "                                 id                  name  category  \\\n",
       "0  0c3e3439a8c64ea5bf6ecd6ca6ae19f0                WoWфли      кафе   \n",
       "1  045780ada3474c57a2112e505d74b633        Четыре комнаты  ресторан   \n",
       "2  1070b6b59144425896c65889347fcff6                 Хазри      кафе   \n",
       "3  03ac7cd772104f65b58b349dc59f03ee  Dormouse Coffee Shop   кофейня   \n",
       "4  a163aada139c4c7f87b0b1c0b466a50f             Иль Марко  пиццерия   \n",
       "\n",
       "                               address                         district  \\\n",
       "0           Москва, улица Дыбенко, 7/1  Северный административный округ   \n",
       "1   Москва, улица Дыбенко, 36, корп. 1  Северный административный округ   \n",
       "2       Москва, Клязьминская улица, 15  Северный административный округ   \n",
       "3  Москва, улица Маршала Федоренко, 12  Северный административный округ   \n",
       "4      Москва, Правобережная улица, 1Б  Северный административный округ   \n",
       "\n",
       "                                               hours  rating  chain  seats  \\\n",
       "0                             ежедневно, 10:00–22:00     5.0      0    NaN   \n",
       "1                             ежедневно, 10:00–22:00     4.5      0    4.0   \n",
       "2  пн-чт 11:00–02:00; пт,сб 11:00–05:00; вс 11:00...     4.6      0   45.0   \n",
       "3                             ежедневно, 09:00–22:00     5.0      0    NaN   \n",
       "4                             ежедневно, 10:00–22:00     5.0      1  148.0   \n",
       "\n",
       "           price                       avg_bill  middle_avg_bill  \\\n",
       "0            NaN                            NaN              NaN   \n",
       "1  выше среднего       Средний счёт:1500–1600 ₽           1550.0   \n",
       "2        средние         Средний счёт:от 1000 ₽           1000.0   \n",
       "3            NaN  Цена чашки капучино:155–185 ₽              NaN   \n",
       "4        средние         Средний счёт:400–600 ₽            500.0   \n",
       "\n",
       "   middle_coffee_cup  \n",
       "0                NaN  \n",
       "1                NaN  \n",
       "2                NaN  \n",
       "3              170.0  \n",
       "4                NaN  "
      ]
     },
     "execution_count": 9,
     "metadata": {},
     "output_type": "execute_result"
    }
   ],
   "source": [
    "#объединяем два датафрейма в один по столбцу id\n",
    "df = df_rest.merge(df_rest_price, on='id', how='left')\n",
    "df.head()"
   ]
  },
  {
   "cell_type": "code",
   "execution_count": 10,
   "id": "5695950b",
   "metadata": {
    "id": "5695950b"
   },
   "outputs": [
    {
     "name": "stdout",
     "output_type": "stream",
     "text": [
      "<class 'pandas.core.frame.DataFrame'>\n",
      "Int64Index: 8406 entries, 0 to 8405\n",
      "Data columns (total 13 columns):\n",
      " #   Column             Non-Null Count  Dtype  \n",
      "---  ------             --------------  -----  \n",
      " 0   id                 8406 non-null   object \n",
      " 1   name               8406 non-null   object \n",
      " 2   category           8406 non-null   object \n",
      " 3   address            8406 non-null   object \n",
      " 4   district           8406 non-null   object \n",
      " 5   hours              7870 non-null   object \n",
      " 6   rating             8406 non-null   float64\n",
      " 7   chain              8406 non-null   int64  \n",
      " 8   seats              4795 non-null   float64\n",
      " 9   price              3315 non-null   object \n",
      " 10  avg_bill           3816 non-null   object \n",
      " 11  middle_avg_bill    3149 non-null   float64\n",
      " 12  middle_coffee_cup  535 non-null    float64\n",
      "dtypes: float64(4), int64(1), object(8)\n",
      "memory usage: 919.4+ KB\n"
     ]
    }
   ],
   "source": [
    "#выводим общую информацию нового датафрейма\n",
    "df.info()"
   ]
  },
  {
   "cell_type": "code",
   "execution_count": 11,
   "id": "6577c71c",
   "metadata": {
    "id": "6577c71c"
   },
   "outputs": [
    {
     "data": {
      "text/html": [
       "<div>\n",
       "<style scoped>\n",
       "    .dataframe tbody tr th:only-of-type {\n",
       "        vertical-align: middle;\n",
       "    }\n",
       "\n",
       "    .dataframe tbody tr th {\n",
       "        vertical-align: top;\n",
       "    }\n",
       "\n",
       "    .dataframe thead th {\n",
       "        text-align: right;\n",
       "    }\n",
       "</style>\n",
       "<table border=\"1\" class=\"dataframe\">\n",
       "  <thead>\n",
       "    <tr style=\"text-align: right;\">\n",
       "      <th></th>\n",
       "      <th>rating</th>\n",
       "      <th>chain</th>\n",
       "      <th>seats</th>\n",
       "      <th>middle_avg_bill</th>\n",
       "      <th>middle_coffee_cup</th>\n",
       "    </tr>\n",
       "  </thead>\n",
       "  <tbody>\n",
       "    <tr>\n",
       "      <th>count</th>\n",
       "      <td>8406.000000</td>\n",
       "      <td>8406.000000</td>\n",
       "      <td>4795.000000</td>\n",
       "      <td>3149.000000</td>\n",
       "      <td>535.000000</td>\n",
       "    </tr>\n",
       "    <tr>\n",
       "      <th>mean</th>\n",
       "      <td>4.229895</td>\n",
       "      <td>0.381275</td>\n",
       "      <td>108.421689</td>\n",
       "      <td>958.053668</td>\n",
       "      <td>174.721495</td>\n",
       "    </tr>\n",
       "    <tr>\n",
       "      <th>std</th>\n",
       "      <td>0.470348</td>\n",
       "      <td>0.485729</td>\n",
       "      <td>122.833396</td>\n",
       "      <td>1009.732845</td>\n",
       "      <td>88.951103</td>\n",
       "    </tr>\n",
       "    <tr>\n",
       "      <th>min</th>\n",
       "      <td>1.000000</td>\n",
       "      <td>0.000000</td>\n",
       "      <td>0.000000</td>\n",
       "      <td>0.000000</td>\n",
       "      <td>60.000000</td>\n",
       "    </tr>\n",
       "    <tr>\n",
       "      <th>25%</th>\n",
       "      <td>4.100000</td>\n",
       "      <td>0.000000</td>\n",
       "      <td>40.000000</td>\n",
       "      <td>375.000000</td>\n",
       "      <td>124.500000</td>\n",
       "    </tr>\n",
       "    <tr>\n",
       "      <th>50%</th>\n",
       "      <td>4.300000</td>\n",
       "      <td>0.000000</td>\n",
       "      <td>75.000000</td>\n",
       "      <td>750.000000</td>\n",
       "      <td>169.000000</td>\n",
       "    </tr>\n",
       "    <tr>\n",
       "      <th>75%</th>\n",
       "      <td>4.400000</td>\n",
       "      <td>1.000000</td>\n",
       "      <td>140.000000</td>\n",
       "      <td>1250.000000</td>\n",
       "      <td>225.000000</td>\n",
       "    </tr>\n",
       "    <tr>\n",
       "      <th>max</th>\n",
       "      <td>5.000000</td>\n",
       "      <td>1.000000</td>\n",
       "      <td>1288.000000</td>\n",
       "      <td>35000.000000</td>\n",
       "      <td>1568.000000</td>\n",
       "    </tr>\n",
       "  </tbody>\n",
       "</table>\n",
       "</div>"
      ],
      "text/plain": [
       "            rating        chain        seats  middle_avg_bill  \\\n",
       "count  8406.000000  8406.000000  4795.000000      3149.000000   \n",
       "mean      4.229895     0.381275   108.421689       958.053668   \n",
       "std       0.470348     0.485729   122.833396      1009.732845   \n",
       "min       1.000000     0.000000     0.000000         0.000000   \n",
       "25%       4.100000     0.000000    40.000000       375.000000   \n",
       "50%       4.300000     0.000000    75.000000       750.000000   \n",
       "75%       4.400000     1.000000   140.000000      1250.000000   \n",
       "max       5.000000     1.000000  1288.000000     35000.000000   \n",
       "\n",
       "       middle_coffee_cup  \n",
       "count         535.000000  \n",
       "mean          174.721495  \n",
       "std            88.951103  \n",
       "min            60.000000  \n",
       "25%           124.500000  \n",
       "50%           169.000000  \n",
       "75%           225.000000  \n",
       "max          1568.000000  "
      ]
     },
     "execution_count": 11,
     "metadata": {},
     "output_type": "execute_result"
    }
   ],
   "source": [
    "#выводим статистические показатели числовых столбцов\n",
    "df.describe()"
   ]
  },
  {
   "cell_type": "markdown",
   "id": "956e82e2",
   "metadata": {
    "id": "956e82e2"
   },
   "source": [
    "## Предобработка данных\n"
   ]
  },
  {
   "cell_type": "code",
   "execution_count": 12,
   "id": "67956690",
   "metadata": {
    "id": "67956690"
   },
   "outputs": [],
   "source": [
    "#оптимизируем столбцы с данными типа float\n",
    "for column in ['rating', 'seats', 'middle_avg_bill', 'middle_coffee_cup']:\n",
    "    df[column] = pd.to_numeric(df[column], downcast = 'float')\n",
    "\n",
    "#оптимизируем столбцы с данными типа int    \n",
    "df['chain'] = pd.to_numeric(df['chain'], downcast = 'integer')"
   ]
  },
  {
   "cell_type": "code",
   "execution_count": 13,
   "id": "b5f2a94d",
   "metadata": {
    "id": "b5f2a94d"
   },
   "outputs": [
    {
     "data": {
      "text/plain": [
       "id                    object\n",
       "name                  object\n",
       "category              object\n",
       "address               object\n",
       "district              object\n",
       "hours                 object\n",
       "rating               float32\n",
       "chain                   int8\n",
       "seats                float32\n",
       "price                 object\n",
       "avg_bill              object\n",
       "middle_avg_bill      float32\n",
       "middle_coffee_cup    float32\n",
       "dtype: object"
      ]
     },
     "execution_count": 13,
     "metadata": {},
     "output_type": "execute_result"
    }
   ],
   "source": [
    "#проверяем новые типы данных\n",
    "df.dtypes"
   ]
  },
  {
   "cell_type": "code",
   "execution_count": 14,
   "id": "3d8840ca",
   "metadata": {
    "id": "3d8840ca"
   },
   "outputs": [
    {
     "data": {
      "text/plain": [
       "id                      0\n",
       "name                    0\n",
       "category                0\n",
       "address                 0\n",
       "district                0\n",
       "hours                 536\n",
       "rating                  0\n",
       "chain                   0\n",
       "seats                3611\n",
       "price                5091\n",
       "avg_bill             4590\n",
       "middle_avg_bill      5257\n",
       "middle_coffee_cup    7871\n",
       "dtype: int64"
      ]
     },
     "execution_count": 14,
     "metadata": {},
     "output_type": "execute_result"
    }
   ],
   "source": [
    "#считаем количество пропусков в каждом столбце\n",
    "df.isna().sum()"
   ]
  },
  {
   "cell_type": "code",
   "execution_count": 15,
   "id": "2ea145ca",
   "metadata": {
    "id": "2ea145ca"
   },
   "outputs": [
    {
     "data": {
      "text/plain": [
       "id                   0.000000\n",
       "name                 0.000000\n",
       "category             0.000000\n",
       "address              0.000000\n",
       "district             0.000000\n",
       "hours                0.063764\n",
       "rating               0.000000\n",
       "chain                0.000000\n",
       "seats                0.429574\n",
       "price                0.605639\n",
       "avg_bill             0.546039\n",
       "middle_avg_bill      0.625387\n",
       "middle_coffee_cup    0.936355\n",
       "dtype: float64"
      ]
     },
     "execution_count": 15,
     "metadata": {},
     "output_type": "execute_result"
    }
   ],
   "source": [
    "#осчитаем долю пропусков в каждом столбце\n",
    "df.isna().sum()/df.shape[0]"
   ]
  },
  {
   "cell_type": "code",
   "execution_count": 16,
   "id": "d9e7c358",
   "metadata": {
    "id": "d9e7c358"
   },
   "outputs": [],
   "source": [
    "#удалим строки с пропущенными часами работы, так как таких строк несущественное количество\n",
    "#df = df.dropna(subset = ['hours'])"
   ]
  },
  {
   "cell_type": "code",
   "execution_count": 17,
   "id": "c716c42e",
   "metadata": {},
   "outputs": [],
   "source": [
    "#заменим пропуски в столбце с количеством мест на значение-индикатор -1\n",
    "df['seats'] = df['seats'].fillna(-1)"
   ]
  },
  {
   "cell_type": "code",
   "execution_count": 18,
   "id": "06867351",
   "metadata": {},
   "outputs": [],
   "source": [
    "#удалим строки с пропущенными значениями в столбце со средним чеком, так как таких значений меньше 10%, и у таких строк также \\\n",
    "#отсутствуют значения в столбцах middle_avg_bill и middle_coffee_cup\n",
    "#df = df.dropna(subset = ['avg_bill'])"
   ]
  },
  {
   "cell_type": "code",
   "execution_count": 19,
   "id": "67003676",
   "metadata": {},
   "outputs": [
    {
     "data": {
      "text/plain": [
       "array([nan, 'выше среднего', 'средние', 'высокие', 'низкие'], dtype=object)"
      ]
     },
     "execution_count": 19,
     "metadata": {},
     "output_type": "execute_result"
    }
   ],
   "source": [
    "#выведем названия ценовых категорий\n",
    "df['price'].unique()"
   ]
  },
  {
   "cell_type": "code",
   "execution_count": 20,
   "id": "3dd32445",
   "metadata": {},
   "outputs": [
    {
     "data": {
      "text/html": [
       "<div>\n",
       "<style scoped>\n",
       "    .dataframe tbody tr th:only-of-type {\n",
       "        vertical-align: middle;\n",
       "    }\n",
       "\n",
       "    .dataframe tbody tr th {\n",
       "        vertical-align: top;\n",
       "    }\n",
       "\n",
       "    .dataframe thead th {\n",
       "        text-align: right;\n",
       "    }\n",
       "</style>\n",
       "<table border=\"1\" class=\"dataframe\">\n",
       "  <thead>\n",
       "    <tr style=\"text-align: right;\">\n",
       "      <th></th>\n",
       "      <th>middle_avg_bill</th>\n",
       "      <th>middle_coffee_cup</th>\n",
       "    </tr>\n",
       "    <tr>\n",
       "      <th>price</th>\n",
       "      <th></th>\n",
       "      <th></th>\n",
       "    </tr>\n",
       "  </thead>\n",
       "  <tbody>\n",
       "    <tr>\n",
       "      <th>высокие</th>\n",
       "      <td>2000.0</td>\n",
       "      <td>250.0</td>\n",
       "    </tr>\n",
       "    <tr>\n",
       "      <th>выше среднего</th>\n",
       "      <td>1250.0</td>\n",
       "      <td>203.0</td>\n",
       "    </tr>\n",
       "    <tr>\n",
       "      <th>средние</th>\n",
       "      <td>500.0</td>\n",
       "      <td>200.0</td>\n",
       "    </tr>\n",
       "    <tr>\n",
       "      <th>низкие</th>\n",
       "      <td>180.0</td>\n",
       "      <td>139.0</td>\n",
       "    </tr>\n",
       "  </tbody>\n",
       "</table>\n",
       "</div>"
      ],
      "text/plain": [
       "               middle_avg_bill  middle_coffee_cup\n",
       "price                                            \n",
       "высокие                 2000.0              250.0\n",
       "выше среднего           1250.0              203.0\n",
       "средние                  500.0              200.0\n",
       "низкие                   180.0              139.0"
      ]
     },
     "execution_count": 20,
     "metadata": {},
     "output_type": "execute_result"
    }
   ],
   "source": [
    "#выыдем медианные значения для среднего чека и цены за чашку кофе в разрезе ценовых категорий \n",
    "df.groupby('price').agg({\n",
    "    'middle_avg_bill': 'median',\n",
    "    'middle_coffee_cup': 'median'\n",
    "}).sort_values(by = 'middle_avg_bill', ascending = False)"
   ]
  },
  {
   "cell_type": "code",
   "execution_count": 21,
   "id": "3bd7ada5-9fab-4c04-bd8e-abe6cf584b65",
   "metadata": {},
   "outputs": [
    {
     "data": {
      "text/html": [
       "<div>\n",
       "<style scoped>\n",
       "    .dataframe tbody tr th:only-of-type {\n",
       "        vertical-align: middle;\n",
       "    }\n",
       "\n",
       "    .dataframe tbody tr th {\n",
       "        vertical-align: top;\n",
       "    }\n",
       "\n",
       "    .dataframe thead th {\n",
       "        text-align: right;\n",
       "    }\n",
       "</style>\n",
       "<table border=\"1\" class=\"dataframe\">\n",
       "  <thead>\n",
       "    <tr style=\"text-align: right;\">\n",
       "      <th></th>\n",
       "      <th>middle_avg_bill</th>\n",
       "      <th>middle_coffee_cup</th>\n",
       "    </tr>\n",
       "    <tr>\n",
       "      <th>price</th>\n",
       "      <th></th>\n",
       "      <th></th>\n",
       "    </tr>\n",
       "  </thead>\n",
       "  <tbody>\n",
       "    <tr>\n",
       "      <th>высокие</th>\n",
       "      <td>2472.631592</td>\n",
       "      <td>250.000000</td>\n",
       "    </tr>\n",
       "    <tr>\n",
       "      <th>выше среднего</th>\n",
       "      <td>1344.189209</td>\n",
       "      <td>203.000000</td>\n",
       "    </tr>\n",
       "    <tr>\n",
       "      <th>средние</th>\n",
       "      <td>598.908264</td>\n",
       "      <td>209.403671</td>\n",
       "    </tr>\n",
       "    <tr>\n",
       "      <th>низкие</th>\n",
       "      <td>217.311829</td>\n",
       "      <td>136.614029</td>\n",
       "    </tr>\n",
       "  </tbody>\n",
       "</table>\n",
       "</div>"
      ],
      "text/plain": [
       "               middle_avg_bill  middle_coffee_cup\n",
       "price                                            \n",
       "высокие            2472.631592         250.000000\n",
       "выше среднего      1344.189209         203.000000\n",
       "средние             598.908264         209.403671\n",
       "низкие              217.311829         136.614029"
      ]
     },
     "execution_count": 21,
     "metadata": {},
     "output_type": "execute_result"
    }
   ],
   "source": [
    "df.groupby('price').agg({\n",
    "    'middle_avg_bill': 'mean',\n",
    "    'middle_coffee_cup': 'mean'\n",
    "}).sort_values(by = 'middle_avg_bill', ascending = False)"
   ]
  },
  {
   "cell_type": "code",
   "execution_count": 22,
   "id": "d09ccf36",
   "metadata": {},
   "outputs": [],
   "source": [
    "#удаляем строки, где сразу три столбца price, middle_coffee_cup и middle_avg_bill с пропусками, так как для таких строк невозможно оценить ценовую политику\n",
    "#df = df[df['price'].notna() | df['middle_coffee_cup'].notna() | df['middle_avg_bill'].notna()]"
   ]
  },
  {
   "cell_type": "code",
   "execution_count": 23,
   "id": "2d51efee",
   "metadata": {},
   "outputs": [],
   "source": [
    "#определяем функцию, которая заменит пропуски в столбце middle_avg_bill, на основе средних значений в разрезе категории цены и чека на кофе\n",
    "#def avg_bill(x):\n",
    "   # if pd.isna(x['middle_avg_bill']):\n",
    "    #    if (x['price'] == 'низкие') | (x['middle_coffee_cup'] <= 150):\n",
    "     #       return 180\n",
    "     #   elif (x['price'] == 'средние') | ((x['middle_coffee_cup'] > 150) & (x['middle_coffee_cup'] <= 200)):   \n",
    "     #       return 500\n",
    "      #  elif (x['price'] == 'выше среднего') | (x['middle_coffee_cup'] > 200) & (x['middle_coffee_cup'] < 250):\n",
    "     #       return 1250\n",
    "      #  else:\n",
    "      #      return 2000\n",
    "   # else:\n",
    "    #    return x['middle_avg_bill']\n",
    "#df['middle_avg_bill'] = df.apply(avg_bill, axis =1)"
   ]
  },
  {
   "cell_type": "code",
   "execution_count": 24,
   "id": "e3056bd7",
   "metadata": {},
   "outputs": [],
   "source": [
    "#объявляем функцию, которая заменяет пропуски в столбце price, на основе средних значений для middle_avg_bill и |\n",
    "#middle_coffee_cup. Каждое пороговое значение - это среднее из таблицы выше + среднее отклонение \n",
    "#def fill_price(x):\n",
    "   # if pd.isna(x['price']):\n",
    "    #    if (x['middle_avg_bill'] <= (192)) | (x['middle_coffee_cup'] <= 150):\n",
    "    #        return 'низкие'\n",
    "     #   elif ((x['middle_avg_bill'] > (192))&(x['middle_avg_bill'] <= (557))) | ((x['middle_coffee_cup'] > 150) & (x['middle_coffee_cup'] <= 200)):   \n",
    "     #       return 'средние'\n",
    "     #   elif ((x['middle_avg_bill'] > (557))&(x['middle_avg_bill'] <= (1309))) | (x['middle_coffee_cup'] > 200) & (x['middle_coffee_cup'] < 250):\n",
    "     #       return 'выше среднего'\n",
    "     #   else:\n",
    "     #       return 'высокие'\n",
    "   # else:\n",
    "  #      return x['price']\n",
    "#df['price'] = df.apply(fill_price, axis =1)"
   ]
  },
  {
   "cell_type": "code",
   "execution_count": 25,
   "id": "fbf32208",
   "metadata": {},
   "outputs": [
    {
     "data": {
      "text/plain": [
       "0"
      ]
     },
     "execution_count": 25,
     "metadata": {},
     "output_type": "execute_result"
    }
   ],
   "source": [
    "#проверяем датафрейм на наличие явных дубликатов\n",
    "df.duplicated().sum()"
   ]
  },
  {
   "cell_type": "code",
   "execution_count": 26,
   "id": "934f36e1",
   "metadata": {},
   "outputs": [
    {
     "data": {
      "text/plain": [
       "Москва, проспект Вернадского, 86В       28\n",
       "Москва, Усачёва улица, 26               26\n",
       "Москва, площадь Киевского Вокзала, 2    20\n",
       "Москва, Ярцевская улица, 19             20\n",
       "Москва, Хорошёвское шоссе, 27           16\n",
       "                                        ..\n",
       "Москва, Бауманская улица, 56/17          1\n",
       "Москва, ул. Ярославская, 8, корп. 1      1\n",
       "Москва, 2-й Боткинский проезд, 8         1\n",
       "Москва, Песочная аллея                   1\n",
       "Москва, Кутузовский проспект, 36А        1\n",
       "Name: address, Length: 5753, dtype: int64"
      ]
     },
     "execution_count": 26,
     "metadata": {},
     "output_type": "execute_result"
    }
   ],
   "source": [
    "#выводим название адресов и их частоту\n",
    "df['address'].value_counts()"
   ]
  },
  {
   "cell_type": "code",
   "execution_count": 27,
   "id": "d3dc3472",
   "metadata": {},
   "outputs": [],
   "source": [
    "#объявлем функцию, которая на выходе создает столбец с обозначением - круглосуточное ли заведение\n",
    "def round_clock(x):\n",
    "    if x['hours'] == 'ежедневно, круглосуточно': \n",
    "        return True\n",
    "    else: \n",
    "        return False\n",
    "df['is_24_7'] = df.apply(round_clock, axis =1)"
   ]
  },
  {
   "cell_type": "markdown",
   "id": "562f30ab",
   "metadata": {
    "id": "562f30ab"
   },
   "source": [
    "---\n",
    "\n",
    "### Промежуточный вывод\n"
   ]
  },
  {
   "cell_type": "markdown",
   "id": "03b12c1c-f693-4500-bb42-d1a395b0643d",
   "metadata": {},
   "source": [
    "В ходе предобработки данных было выполнено: 1) были выявлены пропуски значений в столбцах seats(3611), price(5091), avg_bill(4590), hours(536), middle_avg_bill(5257) и middle_coffee_cup(7871). 2) пропуски в стобце seats были заменены на значение индикатор -1, 3) был создан новый столбец, показывающий - круглостуочно ли работае заведение.  "
   ]
  },
  {
   "cell_type": "code",
   "execution_count": 28,
   "id": "d283757c-aea9-4fe2-b0f0-154616d5e44c",
   "metadata": {},
   "outputs": [
    {
     "data": {
      "text/plain": [
       "id                      0\n",
       "name                    0\n",
       "category                0\n",
       "address                 0\n",
       "district                0\n",
       "hours                 536\n",
       "rating                  0\n",
       "chain                   0\n",
       "seats                   0\n",
       "price                5091\n",
       "avg_bill             4590\n",
       "middle_avg_bill      5257\n",
       "middle_coffee_cup    7871\n",
       "is_24_7                 0\n",
       "dtype: int64"
      ]
     },
     "execution_count": 28,
     "metadata": {},
     "output_type": "execute_result"
    }
   ],
   "source": [
    "#убеждаемся в отсутсвии пропусков в нужных столбцах\n",
    "df.isna().sum()"
   ]
  },
  {
   "cell_type": "code",
   "execution_count": 29,
   "id": "b55c46cb",
   "metadata": {
    "id": "b55c46cb"
   },
   "outputs": [
    {
     "data": {
      "text/html": [
       "<div>\n",
       "<style scoped>\n",
       "    .dataframe tbody tr th:only-of-type {\n",
       "        vertical-align: middle;\n",
       "    }\n",
       "\n",
       "    .dataframe tbody tr th {\n",
       "        vertical-align: top;\n",
       "    }\n",
       "\n",
       "    .dataframe thead th {\n",
       "        text-align: right;\n",
       "    }\n",
       "</style>\n",
       "<table border=\"1\" class=\"dataframe\">\n",
       "  <thead>\n",
       "    <tr style=\"text-align: right;\">\n",
       "      <th></th>\n",
       "      <th>id</th>\n",
       "      <th>name</th>\n",
       "      <th>category</th>\n",
       "      <th>address</th>\n",
       "      <th>district</th>\n",
       "      <th>hours</th>\n",
       "      <th>rating</th>\n",
       "      <th>chain</th>\n",
       "      <th>seats</th>\n",
       "      <th>price</th>\n",
       "      <th>avg_bill</th>\n",
       "      <th>middle_avg_bill</th>\n",
       "      <th>middle_coffee_cup</th>\n",
       "      <th>is_24_7</th>\n",
       "    </tr>\n",
       "  </thead>\n",
       "  <tbody>\n",
       "    <tr>\n",
       "      <th>0</th>\n",
       "      <td>0c3e3439a8c64ea5bf6ecd6ca6ae19f0</td>\n",
       "      <td>WoWфли</td>\n",
       "      <td>кафе</td>\n",
       "      <td>Москва, улица Дыбенко, 7/1</td>\n",
       "      <td>Северный административный округ</td>\n",
       "      <td>ежедневно, 10:00–22:00</td>\n",
       "      <td>5.0</td>\n",
       "      <td>0</td>\n",
       "      <td>-1.0</td>\n",
       "      <td>NaN</td>\n",
       "      <td>NaN</td>\n",
       "      <td>NaN</td>\n",
       "      <td>NaN</td>\n",
       "      <td>False</td>\n",
       "    </tr>\n",
       "    <tr>\n",
       "      <th>1</th>\n",
       "      <td>045780ada3474c57a2112e505d74b633</td>\n",
       "      <td>Четыре комнаты</td>\n",
       "      <td>ресторан</td>\n",
       "      <td>Москва, улица Дыбенко, 36, корп. 1</td>\n",
       "      <td>Северный административный округ</td>\n",
       "      <td>ежедневно, 10:00–22:00</td>\n",
       "      <td>4.5</td>\n",
       "      <td>0</td>\n",
       "      <td>4.0</td>\n",
       "      <td>выше среднего</td>\n",
       "      <td>Средний счёт:1500–1600 ₽</td>\n",
       "      <td>1550.0</td>\n",
       "      <td>NaN</td>\n",
       "      <td>False</td>\n",
       "    </tr>\n",
       "    <tr>\n",
       "      <th>2</th>\n",
       "      <td>1070b6b59144425896c65889347fcff6</td>\n",
       "      <td>Хазри</td>\n",
       "      <td>кафе</td>\n",
       "      <td>Москва, Клязьминская улица, 15</td>\n",
       "      <td>Северный административный округ</td>\n",
       "      <td>пн-чт 11:00–02:00; пт,сб 11:00–05:00; вс 11:00...</td>\n",
       "      <td>4.6</td>\n",
       "      <td>0</td>\n",
       "      <td>45.0</td>\n",
       "      <td>средние</td>\n",
       "      <td>Средний счёт:от 1000 ₽</td>\n",
       "      <td>1000.0</td>\n",
       "      <td>NaN</td>\n",
       "      <td>False</td>\n",
       "    </tr>\n",
       "    <tr>\n",
       "      <th>3</th>\n",
       "      <td>03ac7cd772104f65b58b349dc59f03ee</td>\n",
       "      <td>Dormouse Coffee Shop</td>\n",
       "      <td>кофейня</td>\n",
       "      <td>Москва, улица Маршала Федоренко, 12</td>\n",
       "      <td>Северный административный округ</td>\n",
       "      <td>ежедневно, 09:00–22:00</td>\n",
       "      <td>5.0</td>\n",
       "      <td>0</td>\n",
       "      <td>-1.0</td>\n",
       "      <td>NaN</td>\n",
       "      <td>Цена чашки капучино:155–185 ₽</td>\n",
       "      <td>NaN</td>\n",
       "      <td>170.0</td>\n",
       "      <td>False</td>\n",
       "    </tr>\n",
       "    <tr>\n",
       "      <th>4</th>\n",
       "      <td>a163aada139c4c7f87b0b1c0b466a50f</td>\n",
       "      <td>Иль Марко</td>\n",
       "      <td>пиццерия</td>\n",
       "      <td>Москва, Правобережная улица, 1Б</td>\n",
       "      <td>Северный административный округ</td>\n",
       "      <td>ежедневно, 10:00–22:00</td>\n",
       "      <td>5.0</td>\n",
       "      <td>1</td>\n",
       "      <td>148.0</td>\n",
       "      <td>средние</td>\n",
       "      <td>Средний счёт:400–600 ₽</td>\n",
       "      <td>500.0</td>\n",
       "      <td>NaN</td>\n",
       "      <td>False</td>\n",
       "    </tr>\n",
       "  </tbody>\n",
       "</table>\n",
       "</div>"
      ],
      "text/plain": [
       "                                 id                  name  category  \\\n",
       "0  0c3e3439a8c64ea5bf6ecd6ca6ae19f0                WoWфли      кафе   \n",
       "1  045780ada3474c57a2112e505d74b633        Четыре комнаты  ресторан   \n",
       "2  1070b6b59144425896c65889347fcff6                 Хазри      кафе   \n",
       "3  03ac7cd772104f65b58b349dc59f03ee  Dormouse Coffee Shop   кофейня   \n",
       "4  a163aada139c4c7f87b0b1c0b466a50f             Иль Марко  пиццерия   \n",
       "\n",
       "                               address                         district  \\\n",
       "0           Москва, улица Дыбенко, 7/1  Северный административный округ   \n",
       "1   Москва, улица Дыбенко, 36, корп. 1  Северный административный округ   \n",
       "2       Москва, Клязьминская улица, 15  Северный административный округ   \n",
       "3  Москва, улица Маршала Федоренко, 12  Северный административный округ   \n",
       "4      Москва, Правобережная улица, 1Б  Северный административный округ   \n",
       "\n",
       "                                               hours  rating  chain  seats  \\\n",
       "0                             ежедневно, 10:00–22:00     5.0      0   -1.0   \n",
       "1                             ежедневно, 10:00–22:00     4.5      0    4.0   \n",
       "2  пн-чт 11:00–02:00; пт,сб 11:00–05:00; вс 11:00...     4.6      0   45.0   \n",
       "3                             ежедневно, 09:00–22:00     5.0      0   -1.0   \n",
       "4                             ежедневно, 10:00–22:00     5.0      1  148.0   \n",
       "\n",
       "           price                       avg_bill  middle_avg_bill  \\\n",
       "0            NaN                            NaN              NaN   \n",
       "1  выше среднего       Средний счёт:1500–1600 ₽           1550.0   \n",
       "2        средние         Средний счёт:от 1000 ₽           1000.0   \n",
       "3            NaN  Цена чашки капучино:155–185 ₽              NaN   \n",
       "4        средние         Средний счёт:400–600 ₽            500.0   \n",
       "\n",
       "   middle_coffee_cup  is_24_7  \n",
       "0                NaN    False  \n",
       "1                NaN    False  \n",
       "2                NaN    False  \n",
       "3              170.0    False  \n",
       "4                NaN    False  "
      ]
     },
     "execution_count": 29,
     "metadata": {},
     "output_type": "execute_result"
    }
   ],
   "source": [
    "df.head()"
   ]
  },
  {
   "cell_type": "markdown",
   "id": "6953e84c",
   "metadata": {
    "id": "6953e84c"
   },
   "source": [
    "## Исследовательский анализ данных\n"
   ]
  },
  {
   "cell_type": "markdown",
   "id": "8555d840",
   "metadata": {
    "id": "8555d840"
   },
   "source": [
    "---\n",
    "\n",
    "### Задача 1\n",
    "\n",
    "Какие категории заведений представлены в данных? Исследуйте количество объектов общественного питания по каждой категории. Результат сопроводите подходящей визуализацией."
   ]
  },
  {
   "cell_type": "code",
   "execution_count": 30,
   "id": "ef2bffe9",
   "metadata": {
    "id": "ef2bffe9"
   },
   "outputs": [
    {
     "data": {
      "text/plain": [
       "кафе               2378\n",
       "ресторан           2043\n",
       "кофейня            1413\n",
       "бар,паб             765\n",
       "пиццерия            633\n",
       "быстрое питание     603\n",
       "столовая            315\n",
       "булочная            256\n",
       "Name: category, dtype: int64"
      ]
     },
     "execution_count": 30,
     "metadata": {},
     "output_type": "execute_result"
    }
   ],
   "source": [
    "#выводим количество заведений по категориям\n",
    "category_counts = df['category'].value_counts()\n",
    "category_counts"
   ]
  },
  {
   "cell_type": "code",
   "execution_count": 31,
   "id": "71ab5e91",
   "metadata": {
    "id": "71ab5e91"
   },
   "outputs": [
    {
     "data": {
      "image/png": "[encoded data removed]",
      "text/plain": [
       "<Figure size 720x432 with 1 Axes>"
      ]
     },
     "metadata": {
      "needs_background": "light"
     },
     "output_type": "display_data"
    }
   ],
   "source": [
    "#строим график \n",
    "plt.figure(figsize=(10, 6))\n",
    "category_counts.plot(kind='bar', color='darkmagenta', edgecolor='black')\n",
    "plt.title('Распределение заведений общественного питания по категориям')\n",
    "plt.xlabel('Категория заведения')\n",
    "plt.ylabel('Количество заведений')\n",
    "plt.xticks(rotation=45)\n",
    "plt.grid(axis='y', linestyle='--', alpha=0.5)\n",
    "\n",
    "for i, count in enumerate(category_counts):\n",
    "    plt.text(i, count + 10, str(count), ha='center')\n",
    "\n",
    "plt.tight_layout()"
   ]
  },
  {
   "cell_type": "markdown",
   "id": "18084e7f-f01e-4da0-86c6-05135273ddcf",
   "metadata": {},
   "source": [
    "Вывод: наибольшее количество заведений у категорий: ресторан (2378), кофейня(2043) и кафе(1413)."
   ]
  },
  {
   "cell_type": "markdown",
   "id": "6821e1d0",
   "metadata": {
    "id": "6821e1d0"
   },
   "source": [
    "---\n",
    "\n",
    "### Задача 2\n",
    "\n",
    "Какие административные районы Москвы присутствуют в данных? Исследуйте распределение количества заведений по административным районам Москвы, а также отдельно распределение заведений каждой категории в Центральном административном округе Москвы. Результат сопроводите подходящими визуализациями."
   ]
  },
  {
   "cell_type": "code",
   "execution_count": 32,
   "id": "3aea2a70",
   "metadata": {},
   "outputs": [
    {
     "data": {
      "text/plain": [
       "Центральный административный округ         2242\n",
       "Северный административный округ             900\n",
       "Южный административный округ                892\n",
       "Северо-Восточный административный округ     891\n",
       "Западный административный округ             851\n",
       "Восточный административный округ            798\n",
       "Юго-Восточный административный округ        714\n",
       "Юго-Западный административный округ         709\n",
       "Северо-Западный административный округ      409\n",
       "Name: district, dtype: int64"
      ]
     },
     "execution_count": 32,
     "metadata": {},
     "output_type": "execute_result"
    }
   ],
   "source": [
    "#выводим колечество заведений по административным районам\n",
    "district_counts = df['district'].value_counts()\n",
    "district_counts"
   ]
  },
  {
   "cell_type": "code",
   "execution_count": 33,
   "id": "443cb738",
   "metadata": {},
   "outputs": [
    {
     "data": {
      "image/png": "[encoded data removed]",
      "text/plain": [
       "<Figure size 720x432 with 1 Axes>"
      ]
     },
     "metadata": {
      "needs_background": "light"
     },
     "output_type": "display_data"
    }
   ],
   "source": [
    "#строим график\n",
    "plt.figure(figsize=(10, 6))\n",
    "district_counts.sort_values().plot(kind='barh', color='darkmagenta', edgecolor='black')\n",
    "plt.title('Распределение заведений общественного питания по районам Москвы')\n",
    "plt.xlabel('Количество заведений')\n",
    "plt.ylabel('Район заведений')\n",
    "plt.grid(axis='y', linestyle='--', alpha=0.5)\n",
    "\n",
    "for i, count in enumerate(district_counts.sort_values()):\n",
    "    plt.text(count + 5, i - 0.1, str(count), color='black')\n",
    "\n",
    "plt.tight_layout()"
   ]
  },
  {
   "cell_type": "code",
   "execution_count": 34,
   "id": "0a290cd1",
   "metadata": {
    "id": "0a290cd1"
   },
   "outputs": [],
   "source": [
    "#фильтруем данные по ЦАО\n",
    "central_count = df[(df['district'] == 'Центральный административный округ')]['category'].value_counts()"
   ]
  },
  {
   "cell_type": "code",
   "execution_count": 35,
   "id": "41f1654a",
   "metadata": {
    "id": "41f1654a"
   },
   "outputs": [
    {
     "data": {
      "image/png": "[encoded data removed]",
      "text/plain": [
       "<Figure size 720x432 with 1 Axes>"
      ]
     },
     "metadata": {
      "needs_background": "light"
     },
     "output_type": "display_data"
    }
   ],
   "source": [
    "#строим график распределения заведений в ЦАО\n",
    "plt.figure(figsize=(10, 6))\n",
    "central_count.plot(kind='bar', color='darkmagenta', edgecolor='black')\n",
    "plt.title('Распределение заведений общественного питания по категориям в Центральном районе Москвы')\n",
    "plt.xlabel('Категория заведения')\n",
    "plt.ylabel('Количество заведений')\n",
    "plt.xticks(rotation=45)\n",
    "plt.grid(axis='y', linestyle='--', alpha=0.5)\n",
    "\n",
    "for i, count in enumerate(central_count):\n",
    "    plt.text(i, count + 5, str(count), ha='center')\n",
    "\n",
    "plt.tight_layout()"
   ]
  },
  {
   "cell_type": "markdown",
   "id": "be9b7885-f9b1-474f-9da0-dbf48adfed0d",
   "metadata": {},
   "source": [
    "Вывод: наибольшее количество заведений Москвы находится в Центральном округе(2242). Из них самые популярные: ресторан(670),  кафе(464) и кофейня(428)."
   ]
  },
  {
   "cell_type": "markdown",
   "id": "7c824f58",
   "metadata": {
    "id": "7c824f58"
   },
   "source": [
    "---\n",
    "\n",
    "### Задача 3\n",
    "\n",
    "Изучите соотношение сетевых и несетевых заведений в целом по всем данным и в разрезе категорий заведения. Каких заведений больше — сетевых или несетевых? Какие категории заведений чаще являются сетевыми? Исследуйте данные, ответьте на вопросы и постройте необходимые визуализации."
   ]
  },
  {
   "cell_type": "code",
   "execution_count": 36,
   "id": "ef442d1a",
   "metadata": {
    "id": "ef442d1a"
   },
   "outputs": [
    {
     "data": {
      "image/png": "[encoded data removed]",
      "text/plain": [
       "<Figure size 720x432 with 1 Axes>"
      ]
     },
     "metadata": {
      "needs_background": "light"
     },
     "output_type": "display_data"
    }
   ],
   "source": [
    "#Строим график соотношения сетевых и несетевых заведений\n",
    "plt.figure(figsize = (10,6))\n",
    "df['chain'].value_counts().plot(kind ='bar', rot =0, color='darkmagenta', edgecolor='black')\n",
    "plt.title('Соотношение сетевых и несетевых заведений')\n",
    "plt.xlabel('Статус заведения')\n",
    "plt.ylabel('Количество заведений')\n",
    "plt.grid(axis='y', linestyle='--', alpha=0.5)\n",
    "for i, count in enumerate(df['chain'].value_counts()):\n",
    "    plt.text(i, count + 20, str(count), ha='center')\n",
    "plt.tight_layout()"
   ]
  },
  {
   "cell_type": "code",
   "execution_count": 37,
   "id": "a139bd72",
   "metadata": {
    "id": "a139bd72"
   },
   "outputs": [
    {
     "data": {
      "text/plain": [
       "<function matplotlib.pyplot.tight_layout(*, pad=1.08, h_pad=None, w_pad=None, rect=None)>"
      ]
     },
     "execution_count": 37,
     "metadata": {},
     "output_type": "execute_result"
    },
    {
     "data": {
      "text/plain": [
       "<Figure size 720x432 with 0 Axes>"
      ]
     },
     "metadata": {},
     "output_type": "display_data"
    },
    {
     "data": {
      "image/png": "[encoded data removed]",
      "text/plain": [
       "<Figure size 432x288 with 1 Axes>"
      ]
     },
     "metadata": {
      "needs_background": "light"
     },
     "output_type": "display_data"
    }
   ],
   "source": [
    "#Строим график соотношения сетевых и несетвых заведений по категориям\n",
    "plt.figure(figsize = (10,6))\n",
    "grouped_category = df.groupby('category')['chain'].value_counts(normalize=True).unstack(fill_value=0)\n",
    "#grouped_category['total'] = grouped_category.sum(axis=1)\n",
    "#grouped_category = grouped_category.sort_values(by = 'total', ascending = False).drop('total', axis=1)\n",
    "grouped_category = grouped_category.sort_values(by = 0, ascending = False)\n",
    "grouped_category.plot(kind ='bar', rot =45, color = ['darkmagenta', 'midnightblue'], edgecolor = 'black')\n",
    "plt.xlabel('Категория заведения')\n",
    "plt.ylabel('Количество заведений')\n",
    "plt.title('Соотношение сетевых и несетвых заведений по категориям')\n",
    "plt.grid(axis='y', linestyle='--', alpha=0.5)\n",
    "    \n",
    "plt.tight_layout"
   ]
  },
  {
   "cell_type": "code",
   "execution_count": 38,
   "id": "20f24ee7",
   "metadata": {},
   "outputs": [
    {
     "data": {
      "image/png": "[encoded data removed]",
      "text/plain": [
       "<Figure size 720x432 with 1 Axes>"
      ]
     },
     "metadata": {
      "needs_background": "light"
     },
     "output_type": "display_data"
    }
   ],
   "source": [
    "#Строим график количества сетевых заведений по категориям\n",
    "true_chain = df[(df['chain'] == True)]['category'].value_counts()\n",
    "plt.figure(figsize = (10,6))\n",
    "true_chain.plot(kind ='bar', rot =45, color='darkmagenta', edgecolor='black')\n",
    "plt.xlabel('Категория заведения')\n",
    "plt.ylabel('Количество заведений')\n",
    "plt.title('Количество сетевых заведений по категориям')\n",
    "plt.grid(axis='y', linestyle='--', alpha=0.5)\n",
    "for i, count in enumerate(true_chain):\n",
    "    plt.text(i, count + 5, str(count), ha='center')\n",
    "plt.tight_layout()"
   ]
  },
  {
   "cell_type": "markdown",
   "id": "03602068-9ce8-4d3d-9415-cbca0f0739a7",
   "metadata": {},
   "source": [
    "Вывод: несетевых заведений в Москве существенно больше (примерно в 1,6 раз). В большей части сетевыми являются кофейни (соотношения сетевых и несетевых крайне близко). Наибольший разброс наблюдается у баров и пабов. Наибольшее количество сетевых заведений - у кафе (779), а наименьшее - у столовых (88)."
   ]
  },
  {
   "cell_type": "markdown",
   "id": "5913c3e3",
   "metadata": {
    "id": "5913c3e3"
   },
   "source": [
    "---\n",
    "\n",
    "### Задача 4\n",
    "\n",
    "Исследуйте количество посадочных мест в заведениях. Встречаются ли в данных аномальные значения или выбросы? Если да, то с чем они могут быть связаны? Приведите для каждой категории заведений наиболее типичное для него количество посадочных мест. Результат сопроводите подходящими визуализациями.\n"
   ]
  },
  {
   "cell_type": "code",
   "execution_count": 39,
   "id": "0ae0bee4",
   "metadata": {},
   "outputs": [
    {
     "data": {
      "text/plain": [
       "-1.0      3611\n",
       " 40.0      253\n",
       " 100.0     213\n",
       " 60.0      175\n",
       " 50.0      168\n",
       "          ... \n",
       " 185.0       1\n",
       " 151.0       1\n",
       " 268.0       1\n",
       " 252.0       1\n",
       " 760.0       1\n",
       "Name: seats, Length: 230, dtype: int64"
      ]
     },
     "execution_count": 39,
     "metadata": {},
     "output_type": "execute_result"
    }
   ],
   "source": [
    "#выводим количество мест и зведений с ними\n",
    "df['seats'].value_counts()"
   ]
  },
  {
   "cell_type": "code",
   "execution_count": 40,
   "id": "6cb238d2",
   "metadata": {
    "id": "6cb238d2"
   },
   "outputs": [
    {
     "data": {
      "image/png": "[encoded data removed]",
      "text/plain": [
       "<Figure size 720x432 with 1 Axes>"
      ]
     },
     "metadata": {
      "needs_background": "light"
     },
     "output_type": "display_data"
    }
   ],
   "source": [
    "#Строим график распределения количества посадочных мест, убираея значения индикаторы\n",
    "plt.figure(figsize=(10, 6))\n",
    "sns.histplot(df[df['seats']>0]['seats'], bins=30, kde=True, color='midnightblue')\n",
    "plt.title('Распределение количества посадочных мест')\n",
    "plt.xlabel('Количество мест')\n",
    "plt.ylabel('Частота')\n",
    "plt.grid(axis='y', linestyle='--', alpha=0.7)"
   ]
  },
  {
   "cell_type": "code",
   "execution_count": 41,
   "id": "d8017df7",
   "metadata": {},
   "outputs": [
    {
     "data": {
      "text/plain": [
       "Text(0.5, 0, 'Количество мест')"
      ]
     },
     "execution_count": 41,
     "metadata": {},
     "output_type": "execute_result"
    },
    {
     "data": {
      "image/png": "[encoded data removed]",
      "text/plain": [
       "<Figure size 720x432 with 1 Axes>"
      ]
     },
     "metadata": {
      "needs_background": "light"
     },
     "output_type": "display_data"
    }
   ],
   "source": [
    "#Строим график распределения количества посадочных мест для оценки выбросов\n",
    "plt.figure(figsize=(10, 6))\n",
    "plt.boxplot(df[df['seats']>0]['seats'], vert= False, flierprops= dict(markerfacecolor= 'r', marker ='o'))\n",
    "plt.title('Распределение количества посадочных мест')\n",
    "plt.xlabel('Количество мест')\n"
   ]
  },
  {
   "cell_type": "code",
   "execution_count": 42,
   "id": "dc6acbd3",
   "metadata": {},
   "outputs": [
    {
     "data": {
      "text/plain": [
       "79.0"
      ]
     },
     "execution_count": 42,
     "metadata": {},
     "output_type": "execute_result"
    }
   ],
   "source": [
    "#получаем медиану\n",
    "med = df[df['seats']>0]['seats'].quantile(0.5)\n",
    "med"
   ]
  },
  {
   "cell_type": "code",
   "execution_count": 43,
   "id": "d0dd7ec5",
   "metadata": {},
   "outputs": [
    {
     "data": {
      "text/plain": [
       "297.5"
      ]
     },
     "execution_count": 43,
     "metadata": {},
     "output_type": "execute_result"
    }
   ],
   "source": [
    "#получеам верхнюю границу количества мест\n",
    "Q1 = df[df['seats']>0]['seats'].quantile(0.25)\n",
    "Q3 = df[df['seats']>0]['seats'].quantile(0.75)\n",
    "IQR = Q3 - Q1\n",
    "lower_bound = Q1 - 1.5 * IQR\n",
    "upper_bound = Q3 + 1.5 * IQR\n",
    "upper_bound"
   ]
  },
  {
   "cell_type": "code",
   "execution_count": 44,
   "id": "05b4919d",
   "metadata": {},
   "outputs": [
    {
     "data": {
      "image/png": "[encoded data removed]",
      "text/plain": [
       "<Figure size 720x432 with 1 Axes>"
      ]
     },
     "metadata": {
      "needs_background": "light"
     },
     "output_type": "display_data"
    }
   ],
   "source": [
    "#Строим график распределения количества посадочных мест по категориям\n",
    "df_filtered = df[df['seats'] > 0]\n",
    "median_values = df_filtered.groupby('category')['seats'].median().sort_values()\n",
    "plt.figure(figsize=(10, 6))\n",
    "sns.boxplot(\n",
    "    x='seats',\n",
    "    y='category',\n",
    "    hue = 'category',\n",
    "    data=df[df['seats'] > 0],\n",
    "    order=median_values.index,\n",
    "    palette='viridis',\n",
    "    flierprops=dict(marker='o', markersize=5, markerfacecolor='r'),\n",
    ")\n",
    "plt.title('Распределение посадочных мест по категориям заведений')\n",
    "plt.xlabel('Количество мест')\n",
    "plt.ylabel('Категория')\n",
    "plt.grid(axis='x', linestyle='--', alpha=0.3)\n",
    "plt.tight_layout()"
   ]
  },
  {
   "cell_type": "code",
   "execution_count": 45,
   "id": "5bceec08",
   "metadata": {},
   "outputs": [
    {
     "data": {
      "image/png": "[encoded data removed]",
      "text/plain": [
       "<Figure size 864x432 with 1 Axes>"
      ]
     },
     "metadata": {
      "needs_background": "light"
     },
     "output_type": "display_data"
    }
   ],
   "source": [
    "#строим график типичного (медианного) количества посадочных мест\n",
    "typical_seats = df[df['seats'] > 0].groupby('category')['seats'].median().sort_values()\n",
    "\n",
    "plt.figure(figsize=(12, 6))\n",
    "typical_seats.plot(kind='barh', color='midnightblue')\n",
    "plt.title('Типичное количество посадочных мест по категориям')\n",
    "plt.xlabel('Медианное количество мест')\n",
    "plt.ylabel('')\n",
    "plt.grid(axis='x', linestyle='--', alpha=0.5)\n",
    "\n",
    "# Добавляем подписи значений\n",
    "for i, v in enumerate(typical_seats):\n",
    "    plt.text(v + 0.5, i - 0.1, f\"{int(v)}\", color='black')\n",
    "\n",
    "plt.tight_layout()"
   ]
  },
  {
   "cell_type": "markdown",
   "id": "02e98b95-9e91-449c-8ed7-73ab1bcde3c2",
   "metadata": {},
   "source": [
    "Вывод: среднее количество посадочных мест по всем данным - 79 мест. Количество мест превышающее 297,5 считается выбросом. Наибольшее типичное количество мест у ресторанов - 90 мест, наименьшее у булочных - 52."
   ]
  },
  {
   "cell_type": "markdown",
   "id": "8ed065ea",
   "metadata": {
    "id": "8ed065ea"
   },
   "source": [
    "---\n",
    "\n",
    "### Задача 5\n",
    "\n",
    "Исследуйте рейтинг заведений. Визуализируйте распределение средних рейтингов по категориям заведений. Сильно ли различаются усреднённые рейтинги для разных типов общепита?"
   ]
  },
  {
   "cell_type": "code",
   "execution_count": 46,
   "id": "3e0ec5d7",
   "metadata": {
    "id": "3e0ec5d7"
   },
   "outputs": [
    {
     "data": {
      "text/html": [
       "<div>\n",
       "<style scoped>\n",
       "    .dataframe tbody tr th:only-of-type {\n",
       "        vertical-align: middle;\n",
       "    }\n",
       "\n",
       "    .dataframe tbody tr th {\n",
       "        vertical-align: top;\n",
       "    }\n",
       "\n",
       "    .dataframe thead th {\n",
       "        text-align: right;\n",
       "    }\n",
       "</style>\n",
       "<table border=\"1\" class=\"dataframe\">\n",
       "  <thead>\n",
       "    <tr style=\"text-align: right;\">\n",
       "      <th></th>\n",
       "      <th>Category</th>\n",
       "      <th>Average Rating</th>\n",
       "    </tr>\n",
       "  </thead>\n",
       "  <tbody>\n",
       "    <tr>\n",
       "      <th>0</th>\n",
       "      <td>бар,паб</td>\n",
       "      <td>4.39</td>\n",
       "    </tr>\n",
       "    <tr>\n",
       "      <th>1</th>\n",
       "      <td>булочная</td>\n",
       "      <td>4.27</td>\n",
       "    </tr>\n",
       "    <tr>\n",
       "      <th>2</th>\n",
       "      <td>быстрое питание</td>\n",
       "      <td>4.05</td>\n",
       "    </tr>\n",
       "    <tr>\n",
       "      <th>3</th>\n",
       "      <td>кафе</td>\n",
       "      <td>4.12</td>\n",
       "    </tr>\n",
       "    <tr>\n",
       "      <th>4</th>\n",
       "      <td>кофейня</td>\n",
       "      <td>4.28</td>\n",
       "    </tr>\n",
       "    <tr>\n",
       "      <th>5</th>\n",
       "      <td>пиццерия</td>\n",
       "      <td>4.30</td>\n",
       "    </tr>\n",
       "    <tr>\n",
       "      <th>6</th>\n",
       "      <td>ресторан</td>\n",
       "      <td>4.29</td>\n",
       "    </tr>\n",
       "    <tr>\n",
       "      <th>7</th>\n",
       "      <td>столовая</td>\n",
       "      <td>4.21</td>\n",
       "    </tr>\n",
       "  </tbody>\n",
       "</table>\n",
       "</div>"
      ],
      "text/plain": [
       "          Category  Average Rating\n",
       "0          бар,паб            4.39\n",
       "1         булочная            4.27\n",
       "2  быстрое питание            4.05\n",
       "3             кафе            4.12\n",
       "4          кофейня            4.28\n",
       "5         пиццерия            4.30\n",
       "6         ресторан            4.29\n",
       "7         столовая            4.21"
      ]
     },
     "execution_count": 46,
     "metadata": {},
     "output_type": "execute_result"
    }
   ],
   "source": [
    "avg_ratings_by_category = df.groupby('category')['rating'].mean().reset_index()\n",
    "#Присваиваем названия столбцам \n",
    "avg_ratings_by_category.columns = ['Category', 'Average Rating']\n",
    "#Округляем средний рейтинг до двух знаков после запятой\n",
    "avg_ratings_by_category['Average Rating'] = round(avg_ratings_by_category['Average Rating'],2)\n",
    "avg_ratings_by_category"
   ]
  },
  {
   "cell_type": "code",
   "execution_count": 47,
   "id": "48a7b814-a1bd-47f5-8b39-5935b0bf13e7",
   "metadata": {},
   "outputs": [
    {
     "data": {
      "image/png": "[encoded data removed]",
      "text/plain": [
       "<Figure size 864x432 with 1 Axes>"
      ]
     },
     "metadata": {
      "needs_background": "light"
     },
     "output_type": "display_data"
    }
   ],
   "source": [
    "#Строим график средней оценки по категориям\n",
    "#Сортируем категории по убыванию среднего рейтинга\n",
    "sorted_avg_ratings_by_category = avg_ratings_by_category.sort_values(by='Average Rating', ascending=False)\n",
    "\n",
    "#Визуализация средней оценки по категориям\n",
    "plt.figure(figsize=(12, 6))\n",
    "bars = sns.barplot(x='Category', y='Average Rating', data=sorted_avg_ratings_by_category, hue ='Category', palette='viridis') \n",
    "\n",
    "plt.title('Средний рейтинг заведений по категориям')\n",
    "plt.xlabel('Категория заведений') \n",
    "plt.ylabel('Средний рейтинг')\n",
    "\n",
    "plt.xticks(rotation=0, ha='center') \n",
    "for bar in bars.containers:\n",
    "    bars.bar_label(bar, fmt='%.2f') \n",
    "plt.grid(axis='y', linestyle='--', alpha=0.3)\n",
    "plt.show()"
   ]
  },
  {
   "cell_type": "markdown",
   "id": "e4309d85-f7a3-438c-af7a-122780cf5724",
   "metadata": {},
   "source": [
    "Вывод:редние рейтинги примерны равны по значениям, минимальный средний рейтинг 4.05 имеют заведения быстрого питания, а максимальный средний рейтинг 4.39 имеют бары и пабы. "
   ]
  },
  {
   "cell_type": "markdown",
   "id": "dd9702d9",
   "metadata": {
    "id": "dd9702d9"
   },
   "source": [
    "---\n",
    "\n",
    "### Задача 6\n",
    "\n",
    "Изучите, с какими данными показывают самую сильную корреляцию рейтинги заведений? Постройте и визуализируйте матрицу корреляции рейтинга заведения с разными данными: его категория, положение (административный район Москвы), статус сетевого заведения, количество мест, ценовая категория и признак, является ли заведения круглосуточным. Выберите самую сильную связь и проверьте её."
   ]
  },
  {
   "cell_type": "code",
   "execution_count": 48,
   "id": "15400eb9",
   "metadata": {
    "id": "15400eb9"
   },
   "outputs": [
    {
     "name": "stdout",
     "output_type": "stream",
     "text": [
      "interval columns not set, guessing: ['rating', 'chain', 'seats']\n"
     ]
    },
    {
     "data": {
      "image/png": "[encoded data removed]",
      "text/plain": [
       "<Figure size 864x576 with 2 Axes>"
      ]
     },
     "metadata": {
      "needs_background": "light"
     },
     "output_type": "display_data"
    }
   ],
   "source": [
    "#Выделяем нужные столбцы\n",
    "data_subset = df[['rating', 'category', 'district', 'chain', 'seats', 'price', 'is_24_7']]\n",
    "\n",
    "#строим матрицу корреляции \n",
    "phi_k_matrix = data_subset.phik_matrix(interval_cols=None)\n",
    "plt.figure(figsize=(12, 8))\n",
    "sns.heatmap(phi_k_matrix, annot=True, cmap='coolwarm', fmt='.2f', square=True)\n",
    "plt.title('Матрица корреляции признаков', fontsize=16)\n",
    "plt.show()"
   ]
  },
  {
   "cell_type": "markdown",
   "id": "77201b78-bd96-4419-9e26-837b8638f742",
   "metadata": {
    "id": "8f0379af"
   },
   "source": [
    "Вывод: наилучшие связи показывают пары price-category, price-rating, category-chain."
   ]
  },
  {
   "cell_type": "code",
   "execution_count": 49,
   "id": "61f5c69a",
   "metadata": {},
   "outputs": [
    {
     "data": {
      "text/html": [
       "<div>\n",
       "<style scoped>\n",
       "    .dataframe tbody tr th:only-of-type {\n",
       "        vertical-align: middle;\n",
       "    }\n",
       "\n",
       "    .dataframe tbody tr th {\n",
       "        vertical-align: top;\n",
       "    }\n",
       "\n",
       "    .dataframe thead th {\n",
       "        text-align: right;\n",
       "    }\n",
       "</style>\n",
       "<table border=\"1\" class=\"dataframe\">\n",
       "  <thead>\n",
       "    <tr style=\"text-align: right;\">\n",
       "      <th></th>\n",
       "      <th>median</th>\n",
       "      <th>mean</th>\n",
       "    </tr>\n",
       "    <tr>\n",
       "      <th>price</th>\n",
       "      <th></th>\n",
       "      <th></th>\n",
       "    </tr>\n",
       "  </thead>\n",
       "  <tbody>\n",
       "    <tr>\n",
       "      <th>высокие</th>\n",
       "      <td>4.4</td>\n",
       "      <td>4.44</td>\n",
       "    </tr>\n",
       "    <tr>\n",
       "      <th>выше среднего</th>\n",
       "      <td>4.4</td>\n",
       "      <td>4.39</td>\n",
       "    </tr>\n",
       "    <tr>\n",
       "      <th>средние</th>\n",
       "      <td>4.3</td>\n",
       "      <td>4.30</td>\n",
       "    </tr>\n",
       "    <tr>\n",
       "      <th>низкие</th>\n",
       "      <td>4.2</td>\n",
       "      <td>4.17</td>\n",
       "    </tr>\n",
       "  </tbody>\n",
       "</table>\n",
       "</div>"
      ],
      "text/plain": [
       "               median  mean\n",
       "price                      \n",
       "высокие           4.4  4.44\n",
       "выше среднего     4.4  4.39\n",
       "средние           4.3  4.30\n",
       "низкие            4.2  4.17"
      ]
     },
     "execution_count": 49,
     "metadata": {},
     "output_type": "execute_result"
    }
   ],
   "source": [
    "#проверяем зависимость среднего и медианного рейтинга от ценовой категории\n",
    "link_df = df.groupby('price')['rating'].agg(['median', 'mean']).sort_values(by = 'mean', ascending = False).round(2)\n",
    "link_df"
   ]
  },
  {
   "cell_type": "markdown",
   "id": "614927d8",
   "metadata": {},
   "source": [
    "Вывод: зависимость среднего рейтинга от ценовой категории подтвердилась - чем выше ценовая политика заведения, тем выше средний рейтинг"
   ]
  },
  {
   "cell_type": "markdown",
   "id": "370de703",
   "metadata": {
    "id": "370de703"
   },
   "source": [
    "---\n",
    "\n",
    "### Задача 7\n",
    "\n",
    "Сгруппируйте данные по названиям заведений и найдите топ-15 популярных сетей в Москве. Для них посчитайте значения среднего рейтинга. Под популярностью понимается количество заведений этой сети в регионе. К какой категории заведений они относятся? Результат сопроводите подходящими визуализациями."
   ]
  },
  {
   "cell_type": "code",
   "execution_count": 50,
   "id": "5d828a9a",
   "metadata": {
    "id": "5d828a9a"
   },
   "outputs": [
    {
     "data": {
      "text/html": [
       "<div>\n",
       "<style scoped>\n",
       "    .dataframe tbody tr th:only-of-type {\n",
       "        vertical-align: middle;\n",
       "    }\n",
       "\n",
       "    .dataframe tbody tr th {\n",
       "        vertical-align: top;\n",
       "    }\n",
       "\n",
       "    .dataframe thead th {\n",
       "        text-align: right;\n",
       "    }\n",
       "</style>\n",
       "<table border=\"1\" class=\"dataframe\">\n",
       "  <thead>\n",
       "    <tr style=\"text-align: right;\">\n",
       "      <th></th>\n",
       "      <th>name</th>\n",
       "      <th>category</th>\n",
       "      <th>address</th>\n",
       "      <th>rating</th>\n",
       "    </tr>\n",
       "  </thead>\n",
       "  <tbody>\n",
       "    <tr>\n",
       "      <th>0</th>\n",
       "      <td>Шоколадница</td>\n",
       "      <td>кофейня</td>\n",
       "      <td>119</td>\n",
       "      <td>4.18</td>\n",
       "    </tr>\n",
       "    <tr>\n",
       "      <th>1</th>\n",
       "      <td>Домино'с Пицца</td>\n",
       "      <td>пиццерия</td>\n",
       "      <td>76</td>\n",
       "      <td>4.17</td>\n",
       "    </tr>\n",
       "    <tr>\n",
       "      <th>2</th>\n",
       "      <td>Додо Пицца</td>\n",
       "      <td>пиццерия</td>\n",
       "      <td>74</td>\n",
       "      <td>4.29</td>\n",
       "    </tr>\n",
       "    <tr>\n",
       "      <th>3</th>\n",
       "      <td>One Price Coffee</td>\n",
       "      <td>кофейня</td>\n",
       "      <td>71</td>\n",
       "      <td>4.06</td>\n",
       "    </tr>\n",
       "    <tr>\n",
       "      <th>4</th>\n",
       "      <td>Яндекс Лавка</td>\n",
       "      <td>ресторан</td>\n",
       "      <td>69</td>\n",
       "      <td>3.87</td>\n",
       "    </tr>\n",
       "    <tr>\n",
       "      <th>5</th>\n",
       "      <td>Cofix</td>\n",
       "      <td>кофейня</td>\n",
       "      <td>65</td>\n",
       "      <td>4.08</td>\n",
       "    </tr>\n",
       "    <tr>\n",
       "      <th>6</th>\n",
       "      <td>Prime</td>\n",
       "      <td>ресторан</td>\n",
       "      <td>49</td>\n",
       "      <td>4.11</td>\n",
       "    </tr>\n",
       "    <tr>\n",
       "      <th>7</th>\n",
       "      <td>КОФЕПОРТ</td>\n",
       "      <td>кофейня</td>\n",
       "      <td>42</td>\n",
       "      <td>4.15</td>\n",
       "    </tr>\n",
       "    <tr>\n",
       "      <th>8</th>\n",
       "      <td>Кулинарная лавка братьев Караваевых</td>\n",
       "      <td>кафе</td>\n",
       "      <td>39</td>\n",
       "      <td>4.39</td>\n",
       "    </tr>\n",
       "    <tr>\n",
       "      <th>9</th>\n",
       "      <td>Теремок</td>\n",
       "      <td>ресторан</td>\n",
       "      <td>36</td>\n",
       "      <td>4.11</td>\n",
       "    </tr>\n",
       "    <tr>\n",
       "      <th>10</th>\n",
       "      <td>CofeFest</td>\n",
       "      <td>кофейня</td>\n",
       "      <td>31</td>\n",
       "      <td>3.98</td>\n",
       "    </tr>\n",
       "    <tr>\n",
       "      <th>11</th>\n",
       "      <td>Чайхана</td>\n",
       "      <td>кафе</td>\n",
       "      <td>26</td>\n",
       "      <td>3.95</td>\n",
       "    </tr>\n",
       "    <tr>\n",
       "      <th>12</th>\n",
       "      <td>Буханка</td>\n",
       "      <td>булочная</td>\n",
       "      <td>25</td>\n",
       "      <td>4.42</td>\n",
       "    </tr>\n",
       "    <tr>\n",
       "      <th>13</th>\n",
       "      <td>Drive Café</td>\n",
       "      <td>кафе</td>\n",
       "      <td>24</td>\n",
       "      <td>4.02</td>\n",
       "    </tr>\n",
       "    <tr>\n",
       "      <th>14</th>\n",
       "      <td>Кофемания</td>\n",
       "      <td>кофейня</td>\n",
       "      <td>22</td>\n",
       "      <td>4.46</td>\n",
       "    </tr>\n",
       "  </tbody>\n",
       "</table>\n",
       "</div>"
      ],
      "text/plain": [
       "                                   name  category  address  rating\n",
       "0                           Шоколадница   кофейня      119    4.18\n",
       "1                        Домино'с Пицца  пиццерия       76    4.17\n",
       "2                            Додо Пицца  пиццерия       74    4.29\n",
       "3                      One Price Coffee   кофейня       71    4.06\n",
       "4                          Яндекс Лавка  ресторан       69    3.87\n",
       "5                                 Cofix   кофейня       65    4.08\n",
       "6                                 Prime  ресторан       49    4.11\n",
       "7                              КОФЕПОРТ   кофейня       42    4.15\n",
       "8   Кулинарная лавка братьев Караваевых      кафе       39    4.39\n",
       "9                               Теремок  ресторан       36    4.11\n",
       "10                             CofeFest   кофейня       31    3.98\n",
       "11                              Чайхана      кафе       26    3.95\n",
       "12                              Буханка  булочная       25    4.42\n",
       "13                           Drive Café      кафе       24    4.02\n",
       "14                            Кофемания   кофейня       22    4.46"
      ]
     },
     "execution_count": 50,
     "metadata": {},
     "output_type": "execute_result"
    }
   ],
   "source": [
    "#выделяем только сетевые заведения\n",
    "ch_df = df[(df['chain'] == 1)]\n",
    "#выделяем самые популярные и осредняем рейтинг\n",
    "top_df = ch_df.groupby(['name', 'category']).agg({'address': 'count', 'rating': 'mean'})\n",
    "top_df = top_df.sort_values(by ='address', ascending = False)\n",
    "top_df['rating'] = top_df['rating'].round(2)\n",
    "top_df = top_df.reset_index().head(15)\n",
    "top_df"
   ]
  },
  {
   "cell_type": "code",
   "execution_count": 51,
   "id": "d013c598",
   "metadata": {
    "id": "d013c598"
   },
   "outputs": [
    {
     "data": {
      "image/png": "[encoded data removed]",
      "text/plain": [
       "<Figure size 864x432 with 1 Axes>"
      ]
     },
     "metadata": {
      "needs_background": "light"
     },
     "output_type": "display_data"
    }
   ],
   "source": [
    "#строим график топ 15 сетей\n",
    "plt.figure(figsize=(12, 6))\n",
    "top_bar = sns.barplot(x='address', y='name', data=top_df, hue ='name', palette='viridis') \n",
    "\n",
    "plt.title('Топ-15 сетевых заведений')\n",
    "plt.xlabel('Количество филиалов')\n",
    "plt.ylabel('Название сети')\n",
    "\n",
    "for bar in top_bar.containers:\n",
    "    top_bar.bar_label(bar, fmt='%.2f') \n",
    "plt.grid(axis='y', linestyle='--', alpha=0.3)\n",
    "plt.show()"
   ]
  },
  {
   "cell_type": "markdown",
   "id": "5f57f876-f567-4ae8-972d-ed9f75363d81",
   "metadata": {},
   "source": [
    "Вывод: самые популярные сетевые заведения - Шоколадница и Домино'с Пицца. В топ 15 находятся заведения с разнообразными категориями, но самые популярные это клфейни и пиццерии."
   ]
  },
  {
   "cell_type": "markdown",
   "id": "85a90a94",
   "metadata": {
    "id": "85a90a94"
   },
   "source": [
    "---\n",
    "\n",
    "### Задача 8\n",
    "\n",
    "Изучите вариацию среднего чека заведения (столбец `middle_avg_bill`) в зависимости от района Москвы. Проанализируйте цены в Центральном административном округе и других. Как удалённость от центра влияет на цены в заведениях? Результат сопроводите подходящими визуализациями.\n"
   ]
  },
  {
   "cell_type": "code",
   "execution_count": 52,
   "id": "5fb4ffc6",
   "metadata": {
    "id": "5fb4ffc6"
   },
   "outputs": [
    {
     "data": {
      "text/html": [
       "<div>\n",
       "<style scoped>\n",
       "    .dataframe tbody tr th:only-of-type {\n",
       "        vertical-align: middle;\n",
       "    }\n",
       "\n",
       "    .dataframe tbody tr th {\n",
       "        vertical-align: top;\n",
       "    }\n",
       "\n",
       "    .dataframe thead th {\n",
       "        text-align: right;\n",
       "    }\n",
       "</style>\n",
       "<table border=\"1\" class=\"dataframe\">\n",
       "  <thead>\n",
       "    <tr style=\"text-align: right;\">\n",
       "      <th></th>\n",
       "      <th>middle_avg_bill</th>\n",
       "    </tr>\n",
       "    <tr>\n",
       "      <th>district</th>\n",
       "      <th></th>\n",
       "    </tr>\n",
       "  </thead>\n",
       "  <tbody>\n",
       "    <tr>\n",
       "      <th>Юго-Восточный административный округ</th>\n",
       "      <td>654.099976</td>\n",
       "    </tr>\n",
       "    <tr>\n",
       "      <th>Северо-Восточный административный округ</th>\n",
       "      <td>716.609985</td>\n",
       "    </tr>\n",
       "    <tr>\n",
       "      <th>Юго-Западный административный округ</th>\n",
       "      <td>792.559998</td>\n",
       "    </tr>\n",
       "    <tr>\n",
       "      <th>Восточный административный округ</th>\n",
       "      <td>820.630005</td>\n",
       "    </tr>\n",
       "    <tr>\n",
       "      <th>Северо-Западный административный округ</th>\n",
       "      <td>822.219971</td>\n",
       "    </tr>\n",
       "    <tr>\n",
       "      <th>Южный административный округ</th>\n",
       "      <td>834.400024</td>\n",
       "    </tr>\n",
       "    <tr>\n",
       "      <th>Северный административный округ</th>\n",
       "      <td>927.960022</td>\n",
       "    </tr>\n",
       "    <tr>\n",
       "      <th>Западный административный округ</th>\n",
       "      <td>1053.229980</td>\n",
       "    </tr>\n",
       "    <tr>\n",
       "      <th>Центральный административный округ</th>\n",
       "      <td>1191.060059</td>\n",
       "    </tr>\n",
       "  </tbody>\n",
       "</table>\n",
       "</div>"
      ],
      "text/plain": [
       "                                         middle_avg_bill\n",
       "district                                                \n",
       "Юго-Восточный административный округ          654.099976\n",
       "Северо-Восточный административный округ       716.609985\n",
       "Юго-Западный административный округ           792.559998\n",
       "Восточный административный округ              820.630005\n",
       "Северо-Западный административный округ        822.219971\n",
       "Южный административный округ                  834.400024\n",
       "Северный административный округ               927.960022\n",
       "Западный административный округ              1053.229980\n",
       "Центральный административный округ           1191.060059"
      ]
     },
     "execution_count": 52,
     "metadata": {},
     "output_type": "execute_result"
    }
   ],
   "source": [
    "#выводим средний чек для каждого округа\n",
    "bill_mean = df.groupby('district').agg({'middle_avg_bill': 'mean'}).reset_index()\n",
    "bill_mean = bill_mean.round(2).sort_values(by = 'middle_avg_bill', ascending = True)\n",
    "bill_mean = bill_mean.set_index('district')\n",
    "bill_mean"
   ]
  },
  {
   "cell_type": "code",
   "execution_count": 53,
   "id": "5980b9de-aa66-4232-a179-3b744a5e037b",
   "metadata": {},
   "outputs": [
    {
     "data": {
      "text/plain": [
       "<Figure size 864x576 with 0 Axes>"
      ]
     },
     "metadata": {},
     "output_type": "display_data"
    },
    {
     "data": {
      "image/png": "[encoded data removed]",
      "text/plain": [
       "<Figure size 432x288 with 1 Axes>"
      ]
     },
     "metadata": {
      "needs_background": "light"
     },
     "output_type": "display_data"
    }
   ],
   "source": [
    "plt.figure(figsize = (12,8))\n",
    "ax = bill_mean.plot(kind ='barh', rot =0, color='darkmagenta', edgecolor='black', legend = False)\n",
    "for i, (value, name) in enumerate(zip(bill_mean['middle_avg_bill'], bill_mean.index)):\n",
    "    ax.text(value, i, f' {value}', va='center', ha='left')\n",
    "plt.xlabel('Средний чек')\n",
    "plt.ylabel('Округ')\n",
    "plt.title('Средний чек по административным округам')\n",
    "plt.grid(axis='y', linestyle='--', alpha=0.5)\n",
    "plt.tight_layout()"
   ]
  },
  {
   "cell_type": "markdown",
   "id": "304d57bd-3179-4b2c-bbbc-6719bf531baf",
   "metadata": {
    "id": "5ee8b279"
   },
   "source": [
    "Вывод: самые дорогие чеки в центральнм округе, а дешевые - в юго-восточном"
   ]
  },
  {
   "cell_type": "markdown",
   "id": "480f3422",
   "metadata": {
    "id": "480f3422"
   },
   "source": [
    "## Итоговый вывод и рекомендации\n"
   ]
  },
  {
   "cell_type": "markdown",
   "id": "870ecbdb-df01-4bf6-9401-d7e1f6918bd7",
   "metadata": {},
   "source": [
    "В ходе реализации проекта был выполнен аналитический обзор рынка общественного питания Москвы.\n",
    "\n",
    "Исследование показало, что заведения премиум-сегмента чаще располагаются в Центральном и Западном округах столицы. Кроме того, именно в этих районах фиксируются самые высокие средние чеки, что, согласно анализу, способствует более высоким рейтингам таких заведений.\n",
    "\n",
    "Это свидетельствует о наличии в Москве значительного числа платежеспособных жителей, ценящих качество обслуживания и готовых за него платить, чем и объясняется концентрация премиальных заведений в ЦАО и ЗАО."
   ]
  }
 ],
 "metadata": {
  "ExecuteTimeLog": [
   {
    "duration": 1395,
    "start_time": "2025-07-11T11:14:44.220Z"
   },
   {
    "duration": 1243,
    "start_time": "2025-07-11T11:15:19.058Z"
   },
   {
    "duration": 93,
    "start_time": "2025-07-11T11:16:59.387Z"
   },
   {
    "duration": 2,
    "start_time": "2025-07-11T11:18:08.227Z"
   },
   {
    "duration": 131,
    "start_time": "2025-07-11T11:18:09.002Z"
   },
   {
    "duration": 21,
    "start_time": "2025-07-11T11:18:24.276Z"
   },
   {
    "duration": 13,
    "start_time": "2025-07-11T11:18:43.290Z"
   },
   {
    "duration": 89,
    "start_time": "2025-07-11T11:19:33.610Z"
   },
   {
    "duration": 10,
    "start_time": "2025-07-11T11:20:18.803Z"
   },
   {
    "duration": 4,
    "start_time": "2025-07-11T11:23:43.490Z"
   },
   {
    "duration": 15,
    "start_time": "2025-07-11T11:24:35.098Z"
   },
   {
    "duration": 13,
    "start_time": "2025-07-11T11:24:45.137Z"
   },
   {
    "duration": 14,
    "start_time": "2025-07-11T11:24:55.602Z"
   },
   {
    "duration": 10,
    "start_time": "2025-07-11T11:25:26.993Z"
   },
   {
    "duration": 11,
    "start_time": "2025-07-11T11:25:29.561Z"
   },
   {
    "duration": 15,
    "start_time": "2025-07-11T11:25:33.042Z"
   },
   {
    "duration": 11,
    "start_time": "2025-07-11T11:25:49.800Z"
   },
   {
    "duration": 24,
    "start_time": "2025-07-11T11:29:09.752Z"
   },
   {
    "duration": 20,
    "start_time": "2025-07-11T11:29:54.512Z"
   },
   {
    "duration": 4,
    "start_time": "2025-07-11T11:30:25.216Z"
   },
   {
    "duration": 90,
    "start_time": "2025-07-11T11:30:36.198Z"
   },
   {
    "duration": 13,
    "start_time": "2025-07-11T11:31:09.427Z"
   },
   {
    "duration": 13,
    "start_time": "2025-07-11T11:31:53.063Z"
   },
   {
    "duration": 17,
    "start_time": "2025-07-11T11:32:30.295Z"
   },
   {
    "duration": 10,
    "start_time": "2025-07-11T11:33:05.215Z"
   },
   {
    "duration": 12,
    "start_time": "2025-07-11T11:33:28.247Z"
   },
   {
    "duration": 13,
    "start_time": "2025-07-11T11:33:53.183Z"
   },
   {
    "duration": 15,
    "start_time": "2025-07-11T11:34:02.094Z"
   },
   {
    "duration": 29,
    "start_time": "2025-07-11T11:37:16.199Z"
   },
   {
    "duration": 20,
    "start_time": "2025-07-11T11:37:47.358Z"
   },
   {
    "duration": 27,
    "start_time": "2025-07-11T11:37:55.471Z"
   },
   {
    "duration": 21,
    "start_time": "2025-07-11T11:38:22.487Z"
   },
   {
    "duration": 15,
    "start_time": "2025-07-11T11:38:27.218Z"
   },
   {
    "duration": 23,
    "start_time": "2025-07-11T11:38:40.778Z"
   },
   {
    "duration": 20,
    "start_time": "2025-07-11T11:39:16.807Z"
   },
   {
    "duration": 13,
    "start_time": "2025-07-11T11:39:40.854Z"
   },
   {
    "duration": 24,
    "start_time": "2025-07-11T11:40:04.889Z"
   },
   {
    "duration": 1449,
    "start_time": "2025-07-14T17:52:51.353Z"
   },
   {
    "duration": 102,
    "start_time": "2025-07-14T17:52:52.805Z"
   },
   {
    "duration": 18,
    "start_time": "2025-07-14T17:52:52.909Z"
   },
   {
    "duration": 28,
    "start_time": "2025-07-14T17:52:52.930Z"
   },
   {
    "duration": 18,
    "start_time": "2025-07-14T17:52:57.229Z"
   },
   {
    "duration": 12,
    "start_time": "2025-07-14T17:52:58.056Z"
   },
   {
    "duration": 30,
    "start_time": "2025-07-14T17:53:02.156Z"
   },
   {
    "duration": 15,
    "start_time": "2025-07-14T17:53:03.867Z"
   },
   {
    "duration": 35,
    "start_time": "2025-07-14T17:53:05.523Z"
   },
   {
    "duration": 23,
    "start_time": "2025-07-14T18:01:43.666Z"
   },
   {
    "duration": 5,
    "start_time": "2025-07-14T18:01:58.060Z"
   },
   {
    "duration": 6,
    "start_time": "2025-07-14T18:02:51.252Z"
   },
   {
    "duration": 110,
    "start_time": "2025-07-14T18:03:09.449Z"
   },
   {
    "duration": 6,
    "start_time": "2025-07-14T18:03:15.800Z"
   },
   {
    "duration": 10,
    "start_time": "2025-07-14T18:03:53.936Z"
   },
   {
    "duration": 12,
    "start_time": "2025-07-14T18:04:24.652Z"
   },
   {
    "duration": 12,
    "start_time": "2025-07-14T18:04:32.241Z"
   },
   {
    "duration": 11,
    "start_time": "2025-07-14T18:04:53.227Z"
   },
   {
    "duration": 25,
    "start_time": "2025-07-14T18:05:31.112Z"
   },
   {
    "duration": 23,
    "start_time": "2025-07-14T18:06:17.708Z"
   },
   {
    "duration": 23,
    "start_time": "2025-07-14T18:08:18.105Z"
   },
   {
    "duration": 24,
    "start_time": "2025-07-14T18:09:16.368Z"
   },
   {
    "duration": 25,
    "start_time": "2025-07-14T18:10:16.246Z"
   },
   {
    "duration": 30,
    "start_time": "2025-07-14T18:11:13.832Z"
   },
   {
    "duration": 17,
    "start_time": "2025-07-14T18:13:30.111Z"
   },
   {
    "duration": 7,
    "start_time": "2025-07-14T18:13:39.207Z"
   },
   {
    "duration": 6,
    "start_time": "2025-07-14T18:13:59.200Z"
   },
   {
    "duration": 23,
    "start_time": "2025-07-14T18:14:04.638Z"
   },
   {
    "duration": 7,
    "start_time": "2025-07-14T18:14:16.318Z"
   },
   {
    "duration": 4,
    "start_time": "2025-07-14T18:15:12.464Z"
   },
   {
    "duration": 15,
    "start_time": "2025-07-14T18:15:19.270Z"
   },
   {
    "duration": 5,
    "start_time": "2025-07-14T18:15:53.253Z"
   },
   {
    "duration": 9,
    "start_time": "2025-07-14T18:16:29.150Z"
   },
   {
    "duration": 1373,
    "start_time": "2025-07-14T18:18:31.619Z"
   },
   {
    "duration": 92,
    "start_time": "2025-07-14T18:18:32.993Z"
   },
   {
    "duration": 16,
    "start_time": "2025-07-14T18:18:33.087Z"
   },
   {
    "duration": 20,
    "start_time": "2025-07-14T18:18:33.269Z"
   },
   {
    "duration": 11,
    "start_time": "2025-07-14T18:18:35.115Z"
   },
   {
    "duration": 15,
    "start_time": "2025-07-14T18:18:35.515Z"
   },
   {
    "duration": 22,
    "start_time": "2025-07-14T18:18:38.014Z"
   },
   {
    "duration": 16,
    "start_time": "2025-07-14T18:18:39.351Z"
   },
   {
    "duration": 33,
    "start_time": "2025-07-14T18:18:39.924Z"
   },
   {
    "duration": 6,
    "start_time": "2025-07-14T18:18:41.796Z"
   },
   {
    "duration": 5,
    "start_time": "2025-07-14T18:18:42.904Z"
   },
   {
    "duration": 10,
    "start_time": "2025-07-14T18:18:44.586Z"
   },
   {
    "duration": 16,
    "start_time": "2025-07-14T18:18:45.649Z"
   },
   {
    "duration": 7,
    "start_time": "2025-07-14T18:18:47.165Z"
   },
   {
    "duration": 4,
    "start_time": "2025-07-14T18:18:56.612Z"
   },
   {
    "duration": 23,
    "start_time": "2025-07-14T18:19:24.100Z"
   },
   {
    "duration": 3,
    "start_time": "2025-07-14T18:19:58.062Z"
   },
   {
    "duration": 1780,
    "start_time": "2025-07-14T18:20:31.500Z"
   },
   {
    "duration": 42,
    "start_time": "2025-07-14T18:20:35.429Z"
   },
   {
    "duration": 24,
    "start_time": "2025-07-14T18:22:18.158Z"
   },
   {
    "duration": 8,
    "start_time": "2025-07-14T18:22:54.549Z"
   },
   {
    "duration": 23,
    "start_time": "2025-07-14T18:22:59.606Z"
   },
   {
    "duration": 11,
    "start_time": "2025-07-14T18:23:12.470Z"
   },
   {
    "duration": 32,
    "start_time": "2025-07-14T18:23:17.105Z"
   },
   {
    "duration": 24,
    "start_time": "2025-07-14T18:23:25.412Z"
   },
   {
    "duration": 28,
    "start_time": "2025-07-14T18:24:02.596Z"
   },
   {
    "duration": 26,
    "start_time": "2025-07-14T18:24:21.151Z"
   },
   {
    "duration": 7,
    "start_time": "2025-07-14T18:26:26.380Z"
   },
   {
    "duration": 16,
    "start_time": "2025-07-14T18:26:34.197Z"
   },
   {
    "duration": 1271,
    "start_time": "2025-07-14T18:27:19.188Z"
   },
   {
    "duration": 100,
    "start_time": "2025-07-14T18:27:20.461Z"
   },
   {
    "duration": 18,
    "start_time": "2025-07-14T18:27:20.563Z"
   },
   {
    "duration": 16,
    "start_time": "2025-07-14T18:27:21.675Z"
   },
   {
    "duration": 14,
    "start_time": "2025-07-14T18:27:22.267Z"
   },
   {
    "duration": 20,
    "start_time": "2025-07-14T18:27:23.644Z"
   },
   {
    "duration": 23,
    "start_time": "2025-07-14T18:27:26.380Z"
   },
   {
    "duration": 15,
    "start_time": "2025-07-14T18:27:28.170Z"
   },
   {
    "duration": 26,
    "start_time": "2025-07-14T18:27:29.474Z"
   },
   {
    "duration": 7,
    "start_time": "2025-07-14T18:27:32.507Z"
   },
   {
    "duration": 7,
    "start_time": "2025-07-14T18:27:33.254Z"
   },
   {
    "duration": 9,
    "start_time": "2025-07-14T18:27:35.883Z"
   },
   {
    "duration": 13,
    "start_time": "2025-07-14T18:27:37.351Z"
   },
   {
    "duration": 7,
    "start_time": "2025-07-14T18:27:39.672Z"
   },
   {
    "duration": 16,
    "start_time": "2025-07-14T18:27:45.011Z"
   },
   {
    "duration": 6,
    "start_time": "2025-07-14T18:27:53.100Z"
   },
   {
    "duration": 4,
    "start_time": "2025-07-14T18:27:55.162Z"
   },
   {
    "duration": 16,
    "start_time": "2025-07-14T18:27:56.502Z"
   },
   {
    "duration": 16,
    "start_time": "2025-07-14T18:28:34.732Z"
   },
   {
    "duration": 13,
    "start_time": "2025-07-14T18:28:39.229Z"
   },
   {
    "duration": 22,
    "start_time": "2025-07-14T18:28:49.281Z"
   },
   {
    "duration": 9,
    "start_time": "2025-07-14T18:29:30.486Z"
   },
   {
    "duration": 24,
    "start_time": "2025-07-14T18:29:42.740Z"
   },
   {
    "duration": 7,
    "start_time": "2025-07-14T18:30:06.251Z"
   },
   {
    "duration": 25,
    "start_time": "2025-07-14T18:30:30.379Z"
   },
   {
    "duration": 24,
    "start_time": "2025-07-14T18:30:44.578Z"
   },
   {
    "duration": 23,
    "start_time": "2025-07-14T18:31:13.947Z"
   },
   {
    "duration": 24,
    "start_time": "2025-07-14T18:31:33.996Z"
   },
   {
    "duration": 30,
    "start_time": "2025-07-14T18:32:25.540Z"
   },
   {
    "duration": 29,
    "start_time": "2025-07-14T18:32:47.835Z"
   },
   {
    "duration": 28,
    "start_time": "2025-07-14T18:33:36.638Z"
   },
   {
    "duration": 24,
    "start_time": "2025-07-14T18:33:51.972Z"
   },
   {
    "duration": 22,
    "start_time": "2025-07-14T18:34:06.058Z"
   },
   {
    "duration": 123,
    "start_time": "2025-07-14T18:35:17.083Z"
   },
   {
    "duration": 7,
    "start_time": "2025-07-14T18:35:26.843Z"
   },
   {
    "duration": 12,
    "start_time": "2025-07-14T18:35:48.681Z"
   },
   {
    "duration": 10,
    "start_time": "2025-07-14T18:35:52.858Z"
   },
   {
    "duration": 28,
    "start_time": "2025-07-14T18:37:20.131Z"
   },
   {
    "duration": 24,
    "start_time": "2025-07-14T19:18:23.467Z"
   },
   {
    "duration": 97,
    "start_time": "2025-07-14T19:19:08.391Z"
   },
   {
    "duration": 15,
    "start_time": "2025-07-14T19:19:14.320Z"
   },
   {
    "duration": 15,
    "start_time": "2025-07-14T19:19:47.200Z"
   },
   {
    "duration": 26,
    "start_time": "2025-07-14T19:19:56.228Z"
   },
   {
    "duration": 14,
    "start_time": "2025-07-14T19:20:16.113Z"
   },
   {
    "duration": 14,
    "start_time": "2025-07-14T19:20:55.503Z"
   },
   {
    "duration": 23,
    "start_time": "2025-07-14T19:24:23.247Z"
   },
   {
    "duration": 15,
    "start_time": "2025-07-14T19:24:29.750Z"
   },
   {
    "duration": 30,
    "start_time": "2025-07-14T19:32:27.212Z"
   },
   {
    "duration": 761,
    "start_time": "2025-07-14T19:33:34.260Z"
   },
   {
    "duration": 20,
    "start_time": "2025-07-14T19:33:41.077Z"
   },
   {
    "duration": 24,
    "start_time": "2025-07-14T19:33:57.525Z"
   },
   {
    "duration": 9,
    "start_time": "2025-07-14T19:35:49.137Z"
   },
   {
    "duration": 9,
    "start_time": "2025-07-14T19:35:54.292Z"
   },
   {
    "duration": 1312,
    "start_time": "2025-07-14T19:36:02.611Z"
   },
   {
    "duration": 81,
    "start_time": "2025-07-14T19:36:03.925Z"
   },
   {
    "duration": 16,
    "start_time": "2025-07-14T19:36:04.008Z"
   },
   {
    "duration": 15,
    "start_time": "2025-07-14T19:36:04.818Z"
   },
   {
    "duration": 9,
    "start_time": "2025-07-14T19:36:06.323Z"
   },
   {
    "duration": 14,
    "start_time": "2025-07-14T19:36:06.602Z"
   },
   {
    "duration": 24,
    "start_time": "2025-07-14T19:36:09.291Z"
   },
   {
    "duration": 13,
    "start_time": "2025-07-14T19:36:09.563Z"
   },
   {
    "duration": 25,
    "start_time": "2025-07-14T19:36:09.923Z"
   },
   {
    "duration": 6,
    "start_time": "2025-07-14T19:36:12.177Z"
   },
   {
    "duration": 6,
    "start_time": "2025-07-14T19:36:12.442Z"
   },
   {
    "duration": 9,
    "start_time": "2025-07-14T19:36:13.147Z"
   },
   {
    "duration": 12,
    "start_time": "2025-07-14T19:36:15.003Z"
   },
   {
    "duration": 7,
    "start_time": "2025-07-14T19:36:15.244Z"
   },
   {
    "duration": 4,
    "start_time": "2025-07-14T19:36:15.612Z"
   },
   {
    "duration": 15,
    "start_time": "2025-07-14T19:36:21.443Z"
   },
   {
    "duration": 7,
    "start_time": "2025-07-14T19:36:33.587Z"
   },
   {
    "duration": 5,
    "start_time": "2025-07-14T19:36:35.330Z"
   },
   {
    "duration": 14,
    "start_time": "2025-07-14T19:36:36.923Z"
   },
   {
    "duration": 23,
    "start_time": "2025-07-14T19:40:40.234Z"
   },
   {
    "duration": 1530,
    "start_time": "2025-07-14T19:41:39.102Z"
   },
   {
    "duration": 4,
    "start_time": "2025-07-14T19:41:46.270Z"
   },
   {
    "duration": 5,
    "start_time": "2025-07-14T19:41:58.842Z"
   },
   {
    "duration": 5,
    "start_time": "2025-07-14T19:42:14.730Z"
   },
   {
    "duration": 23,
    "start_time": "2025-07-14T19:43:03.289Z"
   },
   {
    "duration": 24,
    "start_time": "2025-07-14T19:43:55.913Z"
   },
   {
    "duration": 11,
    "start_time": "2025-07-14T19:44:11.897Z"
   },
   {
    "duration": 13,
    "start_time": "2025-07-14T19:44:21.474Z"
   },
   {
    "duration": 2,
    "start_time": "2025-07-14T19:45:10.638Z"
   },
   {
    "duration": 8,
    "start_time": "2025-07-14T19:45:28.509Z"
   },
   {
    "duration": 13,
    "start_time": "2025-07-14T19:46:14.057Z"
   },
   {
    "duration": 9,
    "start_time": "2025-07-14T19:46:17.994Z"
   },
   {
    "duration": 11,
    "start_time": "2025-07-14T19:46:35.202Z"
   },
   {
    "duration": 11,
    "start_time": "2025-07-14T19:46:47.504Z"
   },
   {
    "duration": 43,
    "start_time": "2025-07-14T19:47:33.373Z"
   },
   {
    "duration": 10,
    "start_time": "2025-07-14T19:48:03.145Z"
   },
   {
    "duration": 10,
    "start_time": "2025-07-14T19:48:11.466Z"
   },
   {
    "duration": 11,
    "start_time": "2025-07-14T19:48:19.636Z"
   },
   {
    "duration": 16,
    "start_time": "2025-07-14T19:48:38.083Z"
   },
   {
    "duration": 9,
    "start_time": "2025-07-14T19:49:02.722Z"
   },
   {
    "duration": 10,
    "start_time": "2025-07-14T19:49:20.008Z"
   },
   {
    "duration": 13,
    "start_time": "2025-07-14T19:49:38.663Z"
   },
   {
    "duration": 9,
    "start_time": "2025-07-14T19:49:51.793Z"
   },
   {
    "duration": 10,
    "start_time": "2025-07-14T19:50:00.376Z"
   },
   {
    "duration": 11,
    "start_time": "2025-07-14T19:50:05.216Z"
   },
   {
    "duration": 16,
    "start_time": "2025-07-14T19:50:27.448Z"
   },
   {
    "duration": 13,
    "start_time": "2025-07-14T19:50:40.354Z"
   },
   {
    "duration": 12,
    "start_time": "2025-07-14T19:52:54.384Z"
   },
   {
    "duration": 11,
    "start_time": "2025-07-14T19:53:52.774Z"
   },
   {
    "duration": 13,
    "start_time": "2025-07-14T19:54:58.488Z"
   },
   {
    "duration": 12,
    "start_time": "2025-07-14T19:55:07.672Z"
   },
   {
    "duration": 12,
    "start_time": "2025-07-14T19:55:10.382Z"
   },
   {
    "duration": 15,
    "start_time": "2025-07-14T19:55:55.759Z"
   },
   {
    "duration": 87,
    "start_time": "2025-07-14T19:56:08.768Z"
   },
   {
    "duration": 11,
    "start_time": "2025-07-14T19:56:11.885Z"
   },
   {
    "duration": 12,
    "start_time": "2025-07-14T19:56:38.182Z"
   },
   {
    "duration": 12,
    "start_time": "2025-07-14T19:56:51.894Z"
   },
   {
    "duration": 11,
    "start_time": "2025-07-14T19:57:18.463Z"
   },
   {
    "duration": 7,
    "start_time": "2025-07-14T20:03:39.556Z"
   },
   {
    "duration": 17,
    "start_time": "2025-07-14T20:03:50.662Z"
   },
   {
    "duration": 13,
    "start_time": "2025-07-14T20:04:39.924Z"
   },
   {
    "duration": 23,
    "start_time": "2025-07-14T20:05:10.725Z"
   },
   {
    "duration": 7,
    "start_time": "2025-07-14T20:05:23.205Z"
   },
   {
    "duration": 7,
    "start_time": "2025-07-14T20:05:35.939Z"
   },
   {
    "duration": 6,
    "start_time": "2025-07-14T20:05:41.227Z"
   },
   {
    "duration": 7,
    "start_time": "2025-07-14T20:05:58.360Z"
   },
   {
    "duration": 7,
    "start_time": "2025-07-14T20:06:23.036Z"
   },
   {
    "duration": 6,
    "start_time": "2025-07-14T20:06:34.671Z"
   },
   {
    "duration": 6,
    "start_time": "2025-07-14T20:06:48.019Z"
   },
   {
    "duration": 6,
    "start_time": "2025-07-14T20:07:52.195Z"
   },
   {
    "duration": 6,
    "start_time": "2025-07-14T20:08:21.572Z"
   },
   {
    "duration": 23,
    "start_time": "2025-07-14T20:09:13.683Z"
   },
   {
    "duration": 5,
    "start_time": "2025-07-14T20:46:23.924Z"
   },
   {
    "duration": 5,
    "start_time": "2025-07-14T20:46:38.771Z"
   },
   {
    "duration": 25,
    "start_time": "2025-07-14T20:46:44.525Z"
   },
   {
    "duration": 21,
    "start_time": "2025-07-14T20:47:29.748Z"
   },
   {
    "duration": 42,
    "start_time": "2025-07-14T20:48:40.308Z"
   },
   {
    "duration": 24,
    "start_time": "2025-07-14T20:48:42.874Z"
   },
   {
    "duration": 71,
    "start_time": "2025-07-14T20:49:35.538Z"
   },
   {
    "duration": 21,
    "start_time": "2025-07-14T20:49:40.155Z"
   },
   {
    "duration": 1194,
    "start_time": "2025-07-14T20:50:46.490Z"
   },
   {
    "duration": 92,
    "start_time": "2025-07-14T20:50:47.686Z"
   },
   {
    "duration": 15,
    "start_time": "2025-07-14T20:50:47.780Z"
   },
   {
    "duration": 16,
    "start_time": "2025-07-14T20:50:48.881Z"
   },
   {
    "duration": 10,
    "start_time": "2025-07-14T20:50:49.728Z"
   },
   {
    "duration": 12,
    "start_time": "2025-07-14T20:50:51.128Z"
   },
   {
    "duration": 23,
    "start_time": "2025-07-14T20:50:52.674Z"
   },
   {
    "duration": 15,
    "start_time": "2025-07-14T20:50:54.393Z"
   },
   {
    "duration": 30,
    "start_time": "2025-07-14T20:50:54.865Z"
   },
   {
    "duration": 7,
    "start_time": "2025-07-14T20:51:00.114Z"
   },
   {
    "duration": 6,
    "start_time": "2025-07-14T20:51:00.536Z"
   },
   {
    "duration": 9,
    "start_time": "2025-07-14T20:51:01.281Z"
   },
   {
    "duration": 10,
    "start_time": "2025-07-14T20:51:03.097Z"
   },
   {
    "duration": 7,
    "start_time": "2025-07-14T20:51:03.433Z"
   },
   {
    "duration": 4,
    "start_time": "2025-07-14T20:51:03.729Z"
   },
   {
    "duration": 7,
    "start_time": "2025-07-14T20:51:04.049Z"
   },
   {
    "duration": 5,
    "start_time": "2025-07-14T20:51:05.361Z"
   },
   {
    "duration": 15,
    "start_time": "2025-07-14T20:51:05.665Z"
   },
   {
    "duration": 2,
    "start_time": "2025-07-14T20:51:08.650Z"
   },
   {
    "duration": 12,
    "start_time": "2025-07-14T20:51:10.378Z"
   },
   {
    "duration": 22,
    "start_time": "2025-07-14T20:51:13.662Z"
   },
   {
    "duration": 25,
    "start_time": "2025-07-14T20:52:30.497Z"
   },
   {
    "duration": 20,
    "start_time": "2025-07-14T20:53:06.143Z"
   },
   {
    "duration": 106,
    "start_time": "2025-07-14T20:54:57.185Z"
   },
   {
    "duration": 5,
    "start_time": "2025-07-14T20:58:08.597Z"
   },
   {
    "duration": 11,
    "start_time": "2025-07-14T20:58:11.399Z"
   },
   {
    "duration": 10,
    "start_time": "2025-07-14T20:58:37.871Z"
   },
   {
    "duration": 1182,
    "start_time": "2025-07-14T20:58:54.767Z"
   },
   {
    "duration": 82,
    "start_time": "2025-07-14T20:58:55.950Z"
   },
   {
    "duration": 16,
    "start_time": "2025-07-14T20:58:56.033Z"
   },
   {
    "duration": 115,
    "start_time": "2025-07-14T20:58:56.051Z"
   },
   {
    "duration": 10,
    "start_time": "2025-07-14T20:58:56.167Z"
   },
   {
    "duration": 12,
    "start_time": "2025-07-14T20:58:56.178Z"
   },
   {
    "duration": 22,
    "start_time": "2025-07-14T20:58:56.368Z"
   },
   {
    "duration": 14,
    "start_time": "2025-07-14T20:58:56.504Z"
   },
   {
    "duration": 24,
    "start_time": "2025-07-14T20:58:56.624Z"
   },
   {
    "duration": 7,
    "start_time": "2025-07-14T20:58:58.526Z"
   },
   {
    "duration": 5,
    "start_time": "2025-07-14T20:58:58.726Z"
   },
   {
    "duration": 8,
    "start_time": "2025-07-14T20:58:59.023Z"
   },
   {
    "duration": 11,
    "start_time": "2025-07-14T20:58:59.190Z"
   },
   {
    "duration": 11,
    "start_time": "2025-07-14T20:59:00.983Z"
   },
   {
    "duration": 5,
    "start_time": "2025-07-14T20:59:01.263Z"
   },
   {
    "duration": 7,
    "start_time": "2025-07-14T20:59:02.034Z"
   },
   {
    "duration": 6,
    "start_time": "2025-07-14T20:59:02.751Z"
   },
   {
    "duration": 20,
    "start_time": "2025-07-14T20:59:03.327Z"
   },
   {
    "duration": 15,
    "start_time": "2025-07-14T20:59:12.673Z"
   },
   {
    "duration": 3,
    "start_time": "2025-07-14T20:59:21.128Z"
   },
   {
    "duration": 25,
    "start_time": "2025-07-14T20:59:35.432Z"
   },
   {
    "duration": 50,
    "start_time": "2025-07-14T21:05:44.296Z"
   },
   {
    "duration": 12,
    "start_time": "2025-07-14T21:05:46.325Z"
   },
   {
    "duration": 1235,
    "start_time": "2025-07-14T21:06:24.629Z"
   },
   {
    "duration": 82,
    "start_time": "2025-07-14T21:06:25.866Z"
   },
   {
    "duration": 16,
    "start_time": "2025-07-14T21:06:25.950Z"
   },
   {
    "duration": 14,
    "start_time": "2025-07-14T21:06:25.969Z"
   },
   {
    "duration": 9,
    "start_time": "2025-07-14T21:06:25.985Z"
   },
   {
    "duration": 13,
    "start_time": "2025-07-14T21:06:25.996Z"
   },
   {
    "duration": 23,
    "start_time": "2025-07-14T21:06:26.278Z"
   },
   {
    "duration": 14,
    "start_time": "2025-07-14T21:06:26.382Z"
   },
   {
    "duration": 24,
    "start_time": "2025-07-14T21:06:26.486Z"
   },
   {
    "duration": 7,
    "start_time": "2025-07-14T21:06:26.898Z"
   },
   {
    "duration": 7,
    "start_time": "2025-07-14T21:06:27.030Z"
   },
   {
    "duration": 9,
    "start_time": "2025-07-14T21:06:27.285Z"
   },
   {
    "duration": 11,
    "start_time": "2025-07-14T21:06:28.984Z"
   },
   {
    "duration": 7,
    "start_time": "2025-07-14T21:06:29.114Z"
   },
   {
    "duration": 4,
    "start_time": "2025-07-14T21:06:29.246Z"
   },
   {
    "duration": 7,
    "start_time": "2025-07-14T21:06:29.402Z"
   },
   {
    "duration": 4,
    "start_time": "2025-07-14T21:06:29.533Z"
   },
   {
    "duration": 15,
    "start_time": "2025-07-14T21:06:31.015Z"
   },
   {
    "duration": 11,
    "start_time": "2025-07-14T21:06:32.285Z"
   },
   {
    "duration": 3,
    "start_time": "2025-07-14T21:06:34.337Z"
   },
   {
    "duration": 23,
    "start_time": "2025-07-14T21:06:36.469Z"
   },
   {
    "duration": 24,
    "start_time": "2025-07-14T21:07:01.327Z"
   },
   {
    "duration": 23,
    "start_time": "2025-07-14T21:07:24.038Z"
   },
   {
    "duration": 20,
    "start_time": "2025-07-14T21:07:51.694Z"
   },
   {
    "duration": 10,
    "start_time": "2025-07-14T21:08:46.006Z"
   },
   {
    "duration": 22,
    "start_time": "2025-07-14T21:09:16.415Z"
   },
   {
    "duration": 13,
    "start_time": "2025-07-14T21:09:45.799Z"
   },
   {
    "duration": 30,
    "start_time": "2025-07-14T21:11:17.535Z"
   },
   {
    "duration": 6,
    "start_time": "2025-07-14T21:14:26.526Z"
   },
   {
    "duration": 24,
    "start_time": "2025-07-14T21:14:29.189Z"
   },
   {
    "duration": 6,
    "start_time": "2025-07-14T21:14:54.958Z"
   },
   {
    "duration": 21,
    "start_time": "2025-07-14T21:15:00.869Z"
   },
   {
    "duration": 54,
    "start_time": "2025-07-14T21:15:33.092Z"
   },
   {
    "duration": 52,
    "start_time": "2025-07-14T21:15:56.505Z"
   },
   {
    "duration": 58,
    "start_time": "2025-07-14T21:16:02.436Z"
   },
   {
    "duration": 48,
    "start_time": "2025-07-14T21:16:56.613Z"
   },
   {
    "duration": 51,
    "start_time": "2025-07-14T21:18:29.528Z"
   },
   {
    "duration": 32,
    "start_time": "2025-07-14T21:18:40.432Z"
   },
   {
    "duration": 1185,
    "start_time": "2025-07-14T21:20:29.500Z"
   },
   {
    "duration": 88,
    "start_time": "2025-07-14T21:20:30.687Z"
   },
   {
    "duration": 16,
    "start_time": "2025-07-14T21:20:30.776Z"
   },
   {
    "duration": 15,
    "start_time": "2025-07-14T21:20:31.986Z"
   },
   {
    "duration": 10,
    "start_time": "2025-07-14T21:20:32.852Z"
   },
   {
    "duration": 11,
    "start_time": "2025-07-14T21:20:33.290Z"
   },
   {
    "duration": 20,
    "start_time": "2025-07-14T21:20:35.909Z"
   },
   {
    "duration": 14,
    "start_time": "2025-07-14T21:20:38.187Z"
   },
   {
    "duration": 25,
    "start_time": "2025-07-14T21:20:38.716Z"
   },
   {
    "duration": 6,
    "start_time": "2025-07-14T21:20:40.795Z"
   },
   {
    "duration": 9,
    "start_time": "2025-07-14T21:20:41.247Z"
   },
   {
    "duration": 9,
    "start_time": "2025-07-14T21:20:43.114Z"
   },
   {
    "duration": 12,
    "start_time": "2025-07-14T21:20:43.790Z"
   },
   {
    "duration": 8,
    "start_time": "2025-07-14T21:20:45.310Z"
   },
   {
    "duration": 4,
    "start_time": "2025-07-14T21:20:45.532Z"
   },
   {
    "duration": 6,
    "start_time": "2025-07-14T21:20:45.762Z"
   },
   {
    "duration": 5,
    "start_time": "2025-07-14T21:20:49.814Z"
   },
   {
    "duration": 14,
    "start_time": "2025-07-14T21:20:50.303Z"
   },
   {
    "duration": 12,
    "start_time": "2025-07-14T21:20:51.789Z"
   },
   {
    "duration": 6,
    "start_time": "2025-07-14T21:27:44.307Z"
   },
   {
    "duration": 23,
    "start_time": "2025-07-14T21:27:46.385Z"
   },
   {
    "duration": 20,
    "start_time": "2025-07-14T21:30:15.490Z"
   },
   {
    "duration": 116,
    "start_time": "2025-07-14T21:31:45.081Z"
   },
   {
    "duration": 64,
    "start_time": "2025-07-14T21:32:08.570Z"
   },
   {
    "duration": 22,
    "start_time": "2025-07-14T21:32:12.885Z"
   },
   {
    "duration": 44,
    "start_time": "2025-07-14T21:37:19.327Z"
   },
   {
    "duration": 27,
    "start_time": "2025-07-14T21:37:22.632Z"
   },
   {
    "duration": 19,
    "start_time": "2025-07-14T21:37:30.713Z"
   },
   {
    "duration": 1185,
    "start_time": "2025-07-14T21:37:44.662Z"
   },
   {
    "duration": 81,
    "start_time": "2025-07-14T21:37:45.849Z"
   },
   {
    "duration": 15,
    "start_time": "2025-07-14T21:37:45.933Z"
   },
   {
    "duration": 14,
    "start_time": "2025-07-14T21:37:45.950Z"
   },
   {
    "duration": 10,
    "start_time": "2025-07-14T21:37:45.965Z"
   },
   {
    "duration": 39,
    "start_time": "2025-07-14T21:37:45.977Z"
   },
   {
    "duration": 22,
    "start_time": "2025-07-14T21:37:46.040Z"
   },
   {
    "duration": 14,
    "start_time": "2025-07-14T21:37:46.136Z"
   },
   {
    "duration": 26,
    "start_time": "2025-07-14T21:37:46.240Z"
   },
   {
    "duration": 6,
    "start_time": "2025-07-14T21:37:46.431Z"
   },
   {
    "duration": 6,
    "start_time": "2025-07-14T21:37:46.528Z"
   },
   {
    "duration": 8,
    "start_time": "2025-07-14T21:37:46.710Z"
   },
   {
    "duration": 11,
    "start_time": "2025-07-14T21:37:46.816Z"
   },
   {
    "duration": 6,
    "start_time": "2025-07-14T21:37:46.921Z"
   },
   {
    "duration": 4,
    "start_time": "2025-07-14T21:37:47.068Z"
   },
   {
    "duration": 6,
    "start_time": "2025-07-14T21:37:47.179Z"
   },
   {
    "duration": 4,
    "start_time": "2025-07-14T21:37:47.293Z"
   },
   {
    "duration": 26,
    "start_time": "2025-07-14T21:37:47.434Z"
   },
   {
    "duration": 13,
    "start_time": "2025-07-14T21:37:47.562Z"
   },
   {
    "duration": 3,
    "start_time": "2025-07-14T21:37:49.342Z"
   },
   {
    "duration": 7,
    "start_time": "2025-07-14T21:37:51.357Z"
   },
   {
    "duration": 49,
    "start_time": "2025-07-14T21:37:54.984Z"
   },
   {
    "duration": 21,
    "start_time": "2025-07-14T21:37:57.864Z"
   },
   {
    "duration": 22,
    "start_time": "2025-07-14T21:38:25.850Z"
   },
   {
    "duration": 12,
    "start_time": "2025-07-14T21:38:34.537Z"
   },
   {
    "duration": 144,
    "start_time": "2025-07-14T21:38:40.921Z"
   },
   {
    "duration": 7,
    "start_time": "2025-07-14T21:38:47.557Z"
   },
   {
    "duration": 7,
    "start_time": "2025-07-14T21:38:54.316Z"
   },
   {
    "duration": 24,
    "start_time": "2025-07-14T21:41:57.071Z"
   },
   {
    "duration": 10,
    "start_time": "2025-07-14T21:43:52.984Z"
   },
   {
    "duration": 24,
    "start_time": "2025-07-14T21:44:04.431Z"
   },
   {
    "duration": 17,
    "start_time": "2025-07-14T21:44:43.939Z"
   },
   {
    "duration": 37,
    "start_time": "2025-07-14T21:44:47.096Z"
   },
   {
    "duration": 23,
    "start_time": "2025-07-14T21:46:36.799Z"
   },
   {
    "duration": 12,
    "start_time": "2025-07-14T21:49:24.801Z"
   },
   {
    "duration": 11,
    "start_time": "2025-07-14T21:51:05.605Z"
   },
   {
    "duration": 11,
    "start_time": "2025-07-14T21:51:13.012Z"
   },
   {
    "duration": 9,
    "start_time": "2025-07-14T21:51:26.126Z"
   },
   {
    "duration": 10,
    "start_time": "2025-07-14T21:51:39.478Z"
   },
   {
    "duration": 12,
    "start_time": "2025-07-14T21:52:17.814Z"
   },
   {
    "duration": 15,
    "start_time": "2025-07-14T21:53:51.910Z"
   },
   {
    "duration": 51,
    "start_time": "2025-07-14T21:54:46.084Z"
   },
   {
    "duration": 10,
    "start_time": "2025-07-14T21:54:50.782Z"
   },
   {
    "duration": 36,
    "start_time": "2025-07-14T21:54:57.517Z"
   },
   {
    "duration": 21,
    "start_time": "2025-07-14T21:55:24.796Z"
   },
   {
    "duration": 47,
    "start_time": "2025-07-14T21:55:43.653Z"
   },
   {
    "duration": 33,
    "start_time": "2025-07-14T21:55:48.604Z"
   },
   {
    "duration": 1246,
    "start_time": "2025-07-14T21:56:54.254Z"
   },
   {
    "duration": 82,
    "start_time": "2025-07-14T21:56:55.502Z"
   },
   {
    "duration": 17,
    "start_time": "2025-07-14T21:56:55.586Z"
   },
   {
    "duration": 14,
    "start_time": "2025-07-14T21:56:55.605Z"
   },
   {
    "duration": 9,
    "start_time": "2025-07-14T21:56:55.621Z"
   },
   {
    "duration": 19,
    "start_time": "2025-07-14T21:56:55.640Z"
   },
   {
    "duration": 21,
    "start_time": "2025-07-14T21:56:55.964Z"
   },
   {
    "duration": 14,
    "start_time": "2025-07-14T21:56:56.050Z"
   },
   {
    "duration": 23,
    "start_time": "2025-07-14T21:56:56.130Z"
   },
   {
    "duration": 7,
    "start_time": "2025-07-14T21:56:56.282Z"
   },
   {
    "duration": 5,
    "start_time": "2025-07-14T21:56:56.378Z"
   },
   {
    "duration": 11,
    "start_time": "2025-07-14T21:56:56.554Z"
   },
   {
    "duration": 12,
    "start_time": "2025-07-14T21:56:56.626Z"
   },
   {
    "duration": 7,
    "start_time": "2025-07-14T21:56:56.714Z"
   },
   {
    "duration": 3,
    "start_time": "2025-07-14T21:56:56.899Z"
   },
   {
    "duration": 8,
    "start_time": "2025-07-14T21:56:57.059Z"
   },
   {
    "duration": 6,
    "start_time": "2025-07-14T21:56:57.251Z"
   },
   {
    "duration": 15,
    "start_time": "2025-07-14T21:56:57.412Z"
   },
   {
    "duration": 12,
    "start_time": "2025-07-14T21:56:57.590Z"
   },
   {
    "duration": 3,
    "start_time": "2025-07-14T21:56:57.690Z"
   },
   {
    "duration": 6,
    "start_time": "2025-07-14T21:56:57.779Z"
   },
   {
    "duration": 49,
    "start_time": "2025-07-14T21:56:59.595Z"
   },
   {
    "duration": 48,
    "start_time": "2025-07-14T21:57:00.048Z"
   },
   {
    "duration": 22,
    "start_time": "2025-07-14T21:57:00.458Z"
   },
   {
    "duration": 5,
    "start_time": "2025-07-14T21:57:29.779Z"
   },
   {
    "duration": 11,
    "start_time": "2025-07-14T22:01:12.121Z"
   },
   {
    "duration": 6,
    "start_time": "2025-07-14T22:01:34.219Z"
   },
   {
    "duration": 1197,
    "start_time": "2025-07-14T22:01:54.905Z"
   },
   {
    "duration": 89,
    "start_time": "2025-07-14T22:01:56.104Z"
   },
   {
    "duration": 15,
    "start_time": "2025-07-14T22:01:56.195Z"
   },
   {
    "duration": 28,
    "start_time": "2025-07-14T22:01:56.212Z"
   },
   {
    "duration": 12,
    "start_time": "2025-07-14T22:01:56.242Z"
   },
   {
    "duration": 13,
    "start_time": "2025-07-14T22:01:56.255Z"
   },
   {
    "duration": 31,
    "start_time": "2025-07-14T22:01:56.270Z"
   },
   {
    "duration": 14,
    "start_time": "2025-07-14T22:01:56.303Z"
   },
   {
    "duration": 42,
    "start_time": "2025-07-14T22:01:56.319Z"
   },
   {
    "duration": 7,
    "start_time": "2025-07-14T22:01:56.481Z"
   },
   {
    "duration": 5,
    "start_time": "2025-07-14T22:01:56.535Z"
   },
   {
    "duration": 9,
    "start_time": "2025-07-14T22:01:56.705Z"
   },
   {
    "duration": 10,
    "start_time": "2025-07-14T22:01:56.793Z"
   },
   {
    "duration": 6,
    "start_time": "2025-07-14T22:01:56.874Z"
   },
   {
    "duration": 3,
    "start_time": "2025-07-14T22:01:56.978Z"
   },
   {
    "duration": 6,
    "start_time": "2025-07-14T22:01:57.066Z"
   },
   {
    "duration": 5,
    "start_time": "2025-07-14T22:01:57.145Z"
   },
   {
    "duration": 15,
    "start_time": "2025-07-14T22:01:57.354Z"
   },
   {
    "duration": 12,
    "start_time": "2025-07-14T22:01:59.619Z"
   },
   {
    "duration": 6,
    "start_time": "2025-07-14T22:02:00.000Z"
   },
   {
    "duration": 47,
    "start_time": "2025-07-14T22:02:00.576Z"
   },
   {
    "duration": 7,
    "start_time": "2025-07-14T22:02:00.904Z"
   },
   {
    "duration": 13,
    "start_time": "2025-07-14T22:02:23.082Z"
   },
   {
    "duration": 6,
    "start_time": "2025-07-14T22:02:46.883Z"
   },
   {
    "duration": 8,
    "start_time": "2025-07-14T22:02:47.369Z"
   },
   {
    "duration": 7,
    "start_time": "2025-07-14T22:02:47.809Z"
   },
   {
    "duration": 7,
    "start_time": "2025-07-14T22:02:48.385Z"
   },
   {
    "duration": 5,
    "start_time": "2025-07-14T22:04:27.993Z"
   },
   {
    "duration": 6,
    "start_time": "2025-07-14T22:04:46.609Z"
   },
   {
    "duration": 7,
    "start_time": "2025-07-14T22:04:56.185Z"
   },
   {
    "duration": 5,
    "start_time": "2025-07-14T22:05:06.706Z"
   },
   {
    "duration": 7,
    "start_time": "2025-07-14T22:05:08.224Z"
   },
   {
    "duration": 6,
    "start_time": "2025-07-14T22:05:21.994Z"
   },
   {
    "duration": 142,
    "start_time": "2025-07-14T22:07:20.921Z"
   },
   {
    "duration": 54,
    "start_time": "2025-07-14T22:07:33.748Z"
   },
   {
    "duration": 26,
    "start_time": "2025-07-14T22:07:40.626Z"
   },
   {
    "duration": 5,
    "start_time": "2025-07-14T22:08:05.457Z"
   },
   {
    "duration": 7,
    "start_time": "2025-07-14T22:09:19.307Z"
   },
   {
    "duration": 7,
    "start_time": "2025-07-14T22:09:19.526Z"
   },
   {
    "duration": 12,
    "start_time": "2025-07-14T22:09:19.734Z"
   },
   {
    "duration": 7,
    "start_time": "2025-07-14T22:09:19.910Z"
   },
   {
    "duration": 57,
    "start_time": "2025-07-14T22:09:20.263Z"
   },
   {
    "duration": 13,
    "start_time": "2025-07-14T22:09:27.415Z"
   },
   {
    "duration": 12,
    "start_time": "2025-07-14T22:10:46.787Z"
   },
   {
    "duration": 5,
    "start_time": "2025-07-14T22:11:21.624Z"
   },
   {
    "duration": 6,
    "start_time": "2025-07-14T22:11:47.176Z"
   },
   {
    "duration": 9,
    "start_time": "2025-07-14T22:12:37.631Z"
   },
   {
    "duration": 18,
    "start_time": "2025-07-14T22:12:40.953Z"
   },
   {
    "duration": 6,
    "start_time": "2025-07-14T22:13:48.512Z"
   },
   {
    "duration": 5,
    "start_time": "2025-07-14T22:13:52.415Z"
   },
   {
    "duration": 16,
    "start_time": "2025-07-14T22:14:29.302Z"
   },
   {
    "duration": 107,
    "start_time": "2025-07-14T22:15:31.807Z"
   },
   {
    "duration": 10,
    "start_time": "2025-07-14T22:15:44.951Z"
   },
   {
    "duration": 8,
    "start_time": "2025-07-14T22:15:59.583Z"
   },
   {
    "duration": 15,
    "start_time": "2025-07-14T22:16:12.335Z"
   },
   {
    "duration": 21,
    "start_time": "2025-07-14T22:16:41.511Z"
   },
   {
    "duration": 4,
    "start_time": "2025-07-14T22:18:00.689Z"
   },
   {
    "duration": 3,
    "start_time": "2025-07-14T22:18:00.853Z"
   },
   {
    "duration": 3,
    "start_time": "2025-07-14T22:18:01.006Z"
   },
   {
    "duration": 1285,
    "start_time": "2025-07-14T22:18:01.318Z"
   },
   {
    "duration": 101,
    "start_time": "2025-07-14T22:18:02.605Z"
   },
   {
    "duration": 18,
    "start_time": "2025-07-14T22:18:02.708Z"
   },
   {
    "duration": 74,
    "start_time": "2025-07-14T22:18:02.728Z"
   },
   {
    "duration": 54,
    "start_time": "2025-07-14T22:18:02.804Z"
   },
   {
    "duration": 26,
    "start_time": "2025-07-14T22:18:02.860Z"
   },
   {
    "duration": 112,
    "start_time": "2025-07-14T22:18:02.888Z"
   },
   {
    "duration": 14,
    "start_time": "2025-07-14T22:18:03.002Z"
   },
   {
    "duration": 46,
    "start_time": "2025-07-14T22:18:03.018Z"
   },
   {
    "duration": 20,
    "start_time": "2025-07-14T22:18:03.334Z"
   },
   {
    "duration": 5,
    "start_time": "2025-07-14T22:18:03.498Z"
   },
   {
    "duration": 8,
    "start_time": "2025-07-14T22:18:03.852Z"
   },
   {
    "duration": 10,
    "start_time": "2025-07-14T22:18:04.014Z"
   },
   {
    "duration": 6,
    "start_time": "2025-07-14T22:18:04.182Z"
   },
   {
    "duration": 4,
    "start_time": "2025-07-14T22:18:04.366Z"
   },
   {
    "duration": 6,
    "start_time": "2025-07-14T22:18:04.566Z"
   },
   {
    "duration": 5,
    "start_time": "2025-07-14T22:18:04.762Z"
   },
   {
    "duration": 15,
    "start_time": "2025-07-14T22:18:04.952Z"
   },
   {
    "duration": 12,
    "start_time": "2025-07-14T22:18:05.190Z"
   },
   {
    "duration": 5,
    "start_time": "2025-07-14T22:18:05.352Z"
   },
   {
    "duration": 56,
    "start_time": "2025-07-14T22:18:05.551Z"
   },
   {
    "duration": 6,
    "start_time": "2025-07-14T22:18:05.766Z"
   },
   {
    "duration": 8,
    "start_time": "2025-07-14T22:18:05.974Z"
   },
   {
    "duration": 8,
    "start_time": "2025-07-14T22:18:06.206Z"
   },
   {
    "duration": 6,
    "start_time": "2025-07-14T22:18:06.414Z"
   },
   {
    "duration": 51,
    "start_time": "2025-07-14T22:18:06.567Z"
   },
   {
    "duration": 98,
    "start_time": "2025-07-14T22:18:06.774Z"
   },
   {
    "duration": 17,
    "start_time": "2025-07-14T22:18:18.096Z"
   },
   {
    "duration": 21,
    "start_time": "2025-07-14T22:18:19.030Z"
   },
   {
    "duration": 7,
    "start_time": "2025-07-14T22:19:16.079Z"
   },
   {
    "duration": 42,
    "start_time": "2025-07-14T22:20:29.384Z"
   },
   {
    "duration": 46,
    "start_time": "2025-07-14T22:20:36.739Z"
   },
   {
    "duration": 104,
    "start_time": "2025-07-14T22:21:11.630Z"
   },
   {
    "duration": 12,
    "start_time": "2025-07-14T22:21:22.398Z"
   },
   {
    "duration": 4,
    "start_time": "2025-07-14T22:23:33.349Z"
   },
   {
    "duration": 29,
    "start_time": "2025-07-14T22:23:37.359Z"
   },
   {
    "duration": 27,
    "start_time": "2025-07-14T22:26:50.449Z"
   },
   {
    "duration": 49,
    "start_time": "2025-07-14T22:26:55.478Z"
   },
   {
    "duration": 32,
    "start_time": "2025-07-14T22:27:15.751Z"
   },
   {
    "duration": 50,
    "start_time": "2025-07-16T11:50:05.674Z"
   },
   {
    "duration": 1455,
    "start_time": "2025-07-16T11:50:14.057Z"
   },
   {
    "duration": 94,
    "start_time": "2025-07-16T11:50:15.514Z"
   },
   {
    "duration": 15,
    "start_time": "2025-07-16T11:50:15.610Z"
   },
   {
    "duration": 22,
    "start_time": "2025-07-16T11:50:15.627Z"
   },
   {
    "duration": 9,
    "start_time": "2025-07-16T11:50:15.651Z"
   },
   {
    "duration": 10,
    "start_time": "2025-07-16T11:50:15.662Z"
   },
   {
    "duration": 24,
    "start_time": "2025-07-16T11:50:16.528Z"
   },
   {
    "duration": 14,
    "start_time": "2025-07-16T11:50:16.720Z"
   },
   {
    "duration": 25,
    "start_time": "2025-07-16T11:50:16.928Z"
   },
   {
    "duration": 7,
    "start_time": "2025-07-16T11:50:17.361Z"
   },
   {
    "duration": 7,
    "start_time": "2025-07-16T11:50:17.552Z"
   },
   {
    "duration": 8,
    "start_time": "2025-07-16T11:50:17.880Z"
   },
   {
    "duration": 11,
    "start_time": "2025-07-16T11:50:18.032Z"
   },
   {
    "duration": 6,
    "start_time": "2025-07-16T11:50:18.185Z"
   },
   {
    "duration": 4,
    "start_time": "2025-07-16T11:50:18.344Z"
   },
   {
    "duration": 7,
    "start_time": "2025-07-16T11:50:18.512Z"
   },
   {
    "duration": 5,
    "start_time": "2025-07-16T11:50:18.664Z"
   },
   {
    "duration": 15,
    "start_time": "2025-07-16T11:50:18.824Z"
   },
   {
    "duration": 12,
    "start_time": "2025-07-16T11:50:18.993Z"
   },
   {
    "duration": 6,
    "start_time": "2025-07-16T11:50:19.165Z"
   },
   {
    "duration": 48,
    "start_time": "2025-07-16T11:50:19.314Z"
   },
   {
    "duration": 6,
    "start_time": "2025-07-16T11:50:19.480Z"
   },
   {
    "duration": 6,
    "start_time": "2025-07-16T11:50:19.657Z"
   },
   {
    "duration": 6,
    "start_time": "2025-07-16T11:50:19.832Z"
   },
   {
    "duration": 8,
    "start_time": "2025-07-16T11:50:20.016Z"
   },
   {
    "duration": 59,
    "start_time": "2025-07-16T11:50:20.185Z"
   },
   {
    "duration": 12,
    "start_time": "2025-07-16T11:50:20.545Z"
   },
   {
    "duration": 8,
    "start_time": "2025-07-16T11:50:20.731Z"
   },
   {
    "duration": 29,
    "start_time": "2025-07-16T11:50:22.473Z"
   },
   {
    "duration": 22,
    "start_time": "2025-07-16T11:50:28.674Z"
   },
   {
    "duration": 65,
    "start_time": "2025-07-16T13:03:08.884Z"
   },
   {
    "duration": 7,
    "start_time": "2025-07-16T13:03:29.726Z"
   },
   {
    "duration": 5,
    "start_time": "2025-07-16T13:03:38.573Z"
   },
   {
    "duration": 4,
    "start_time": "2025-07-16T13:11:56.691Z"
   },
   {
    "duration": 7,
    "start_time": "2025-07-16T13:12:01.259Z"
   },
   {
    "duration": 410,
    "start_time": "2025-07-16T13:13:58.554Z"
   },
   {
    "duration": 313,
    "start_time": "2025-07-16T13:14:09.370Z"
   },
   {
    "duration": 318,
    "start_time": "2025-07-16T13:14:14.859Z"
   },
   {
    "duration": 312,
    "start_time": "2025-07-16T13:14:20.164Z"
   },
   {
    "duration": 318,
    "start_time": "2025-07-16T13:14:27.019Z"
   },
   {
    "duration": 315,
    "start_time": "2025-07-16T13:14:30.827Z"
   },
   {
    "duration": 425,
    "start_time": "2025-07-16T13:14:35.171Z"
   },
   {
    "duration": 325,
    "start_time": "2025-07-16T13:14:41.258Z"
   },
   {
    "duration": 342,
    "start_time": "2025-07-16T13:14:46.779Z"
   },
   {
    "duration": 366,
    "start_time": "2025-07-16T13:15:15.092Z"
   },
   {
    "duration": 308,
    "start_time": "2025-07-16T13:16:01.762Z"
   },
   {
    "duration": 302,
    "start_time": "2025-07-16T13:16:19.836Z"
   },
   {
    "duration": 302,
    "start_time": "2025-07-16T13:18:35.943Z"
   },
   {
    "duration": 318,
    "start_time": "2025-07-16T13:18:42.009Z"
   },
   {
    "duration": 324,
    "start_time": "2025-07-16T13:18:51.057Z"
   },
   {
    "duration": 313,
    "start_time": "2025-07-16T13:18:55.522Z"
   },
   {
    "duration": 299,
    "start_time": "2025-07-16T13:18:59.242Z"
   },
   {
    "duration": 409,
    "start_time": "2025-07-16T13:19:05.139Z"
   },
   {
    "duration": 321,
    "start_time": "2025-07-16T13:19:11.425Z"
   },
   {
    "duration": 315,
    "start_time": "2025-07-16T13:19:16.571Z"
   },
   {
    "duration": 190,
    "start_time": "2025-07-16T13:19:46.593Z"
   },
   {
    "duration": 334,
    "start_time": "2025-07-16T13:19:51.369Z"
   },
   {
    "duration": 187,
    "start_time": "2025-07-16T13:19:57.288Z"
   },
   {
    "duration": 355,
    "start_time": "2025-07-16T13:20:02.865Z"
   },
   {
    "duration": 310,
    "start_time": "2025-07-16T13:20:35.825Z"
   },
   {
    "duration": 1496,
    "start_time": "2025-07-16T13:21:19.626Z"
   },
   {
    "duration": 589,
    "start_time": "2025-07-16T13:21:46.808Z"
   },
   {
    "duration": 7,
    "start_time": "2025-07-16T13:25:56.648Z"
   },
   {
    "duration": 7,
    "start_time": "2025-07-16T13:26:05.543Z"
   },
   {
    "duration": 7,
    "start_time": "2025-07-16T13:26:09.488Z"
   },
   {
    "duration": 10,
    "start_time": "2025-07-16T13:26:14.579Z"
   },
   {
    "duration": 6,
    "start_time": "2025-07-16T13:26:17.568Z"
   },
   {
    "duration": 6,
    "start_time": "2025-07-16T13:26:21.310Z"
   },
   {
    "duration": 401,
    "start_time": "2025-07-16T13:26:35.010Z"
   },
   {
    "duration": 14,
    "start_time": "2025-07-16T13:26:44.055Z"
   },
   {
    "duration": 3274,
    "start_time": "2025-07-16T13:26:54.728Z"
   },
   {
    "duration": 2998,
    "start_time": "2025-07-16T13:27:05.771Z"
   },
   {
    "duration": 2987,
    "start_time": "2025-07-16T13:27:40.895Z"
   },
   {
    "duration": 3005,
    "start_time": "2025-07-16T13:28:02.495Z"
   },
   {
    "duration": 3579,
    "start_time": "2025-07-16T13:28:22.306Z"
   },
   {
    "duration": 355,
    "start_time": "2025-07-16T13:28:59.207Z"
   },
   {
    "duration": 16,
    "start_time": "2025-07-16T13:29:28.241Z"
   },
   {
    "duration": 348,
    "start_time": "2025-07-16T13:29:36.062Z"
   },
   {
    "duration": 3709,
    "start_time": "2025-07-16T13:33:02.549Z"
   },
   {
    "duration": 366,
    "start_time": "2025-07-16T13:33:32.461Z"
   },
   {
    "duration": 1416,
    "start_time": "2025-07-16T13:36:38.140Z"
   },
   {
    "duration": 1431,
    "start_time": "2025-07-16T13:36:52.790Z"
   },
   {
    "duration": 14,
    "start_time": "2025-07-16T13:37:12.063Z"
   },
   {
    "duration": 6,
    "start_time": "2025-07-16T13:37:19.382Z"
   },
   {
    "duration": 24,
    "start_time": "2025-07-16T13:38:03.701Z"
   },
   {
    "duration": 27,
    "start_time": "2025-07-16T13:38:21.223Z"
   },
   {
    "duration": 8,
    "start_time": "2025-07-16T13:38:54.228Z"
   },
   {
    "duration": 7,
    "start_time": "2025-07-16T13:39:34.252Z"
   },
   {
    "duration": 241,
    "start_time": "2025-07-16T13:39:50.676Z"
   },
   {
    "duration": 1444,
    "start_time": "2025-07-16T13:40:34.644Z"
   },
   {
    "duration": 0,
    "start_time": "2025-07-16T13:40:36.090Z"
   },
   {
    "duration": 6,
    "start_time": "2025-07-16T13:41:05.124Z"
   },
   {
    "duration": 487,
    "start_time": "2025-07-16T13:41:06.950Z"
   },
   {
    "duration": 313,
    "start_time": "2025-07-16T13:47:34.034Z"
   },
   {
    "duration": 5,
    "start_time": "2025-07-16T13:49:17.275Z"
   },
   {
    "duration": 95,
    "start_time": "2025-07-16T13:49:45.034Z"
   },
   {
    "duration": 92,
    "start_time": "2025-07-16T13:50:37.931Z"
   },
   {
    "duration": 93,
    "start_time": "2025-07-16T13:50:41.874Z"
   },
   {
    "duration": 94,
    "start_time": "2025-07-16T13:50:45.538Z"
   },
   {
    "duration": 335,
    "start_time": "2025-07-16T13:51:26.147Z"
   },
   {
    "duration": 390,
    "start_time": "2025-07-16T13:51:46.668Z"
   },
   {
    "duration": 341,
    "start_time": "2025-07-16T13:52:04.642Z"
   },
   {
    "duration": 364,
    "start_time": "2025-07-16T13:52:16.169Z"
   },
   {
    "duration": 362,
    "start_time": "2025-07-16T13:52:42.481Z"
   },
   {
    "duration": 180,
    "start_time": "2025-07-16T13:53:44.494Z"
   },
   {
    "duration": 107,
    "start_time": "2025-07-16T13:53:54.938Z"
   },
   {
    "duration": 111,
    "start_time": "2025-07-16T13:55:42.020Z"
   },
   {
    "duration": 96,
    "start_time": "2025-07-16T13:56:22.145Z"
   },
   {
    "duration": 93,
    "start_time": "2025-07-16T13:56:44.906Z"
   },
   {
    "duration": 100,
    "start_time": "2025-07-16T13:57:12.168Z"
   },
   {
    "duration": 103,
    "start_time": "2025-07-16T13:57:40.825Z"
   },
   {
    "duration": 111,
    "start_time": "2025-07-16T13:58:10.705Z"
   },
   {
    "duration": 110,
    "start_time": "2025-07-16T13:58:34.577Z"
   },
   {
    "duration": 110,
    "start_time": "2025-07-16T13:59:54.808Z"
   },
   {
    "duration": 1349,
    "start_time": "2025-07-16T14:00:53.895Z"
   },
   {
    "duration": 90,
    "start_time": "2025-07-16T14:00:55.246Z"
   },
   {
    "duration": 87,
    "start_time": "2025-07-16T14:00:55.338Z"
   },
   {
    "duration": 15,
    "start_time": "2025-07-16T14:00:55.427Z"
   },
   {
    "duration": 11,
    "start_time": "2025-07-16T14:00:55.444Z"
   },
   {
    "duration": 18,
    "start_time": "2025-07-16T14:00:55.457Z"
   },
   {
    "duration": 28,
    "start_time": "2025-07-16T14:00:55.758Z"
   },
   {
    "duration": 18,
    "start_time": "2025-07-16T14:00:55.886Z"
   },
   {
    "duration": 32,
    "start_time": "2025-07-16T14:00:56.006Z"
   },
   {
    "duration": 7,
    "start_time": "2025-07-16T14:00:56.238Z"
   },
   {
    "duration": 6,
    "start_time": "2025-07-16T14:00:56.350Z"
   },
   {
    "duration": 12,
    "start_time": "2025-07-16T14:00:56.559Z"
   },
   {
    "duration": 12,
    "start_time": "2025-07-16T14:00:56.661Z"
   },
   {
    "duration": 7,
    "start_time": "2025-07-16T14:00:57.046Z"
   },
   {
    "duration": 4,
    "start_time": "2025-07-16T14:00:57.198Z"
   },
   {
    "duration": 7,
    "start_time": "2025-07-16T14:00:57.326Z"
   },
   {
    "duration": 5,
    "start_time": "2025-07-16T14:00:57.494Z"
   },
   {
    "duration": 16,
    "start_time": "2025-07-16T14:00:57.638Z"
   },
   {
    "duration": 13,
    "start_time": "2025-07-16T14:00:57.791Z"
   },
   {
    "duration": 7,
    "start_time": "2025-07-16T14:00:57.934Z"
   },
   {
    "duration": 55,
    "start_time": "2025-07-16T14:00:58.079Z"
   },
   {
    "duration": 7,
    "start_time": "2025-07-16T14:00:58.246Z"
   },
   {
    "duration": 8,
    "start_time": "2025-07-16T14:00:58.398Z"
   },
   {
    "duration": 7,
    "start_time": "2025-07-16T14:00:58.560Z"
   },
   {
    "duration": 8,
    "start_time": "2025-07-16T14:00:58.702Z"
   },
   {
    "duration": 61,
    "start_time": "2025-07-16T14:00:58.847Z"
   },
   {
    "duration": 14,
    "start_time": "2025-07-16T14:00:59.150Z"
   },
   {
    "duration": 9,
    "start_time": "2025-07-16T14:00:59.319Z"
   },
   {
    "duration": 30,
    "start_time": "2025-07-16T14:00:59.623Z"
   },
   {
    "duration": 23,
    "start_time": "2025-07-16T14:01:02.159Z"
   },
   {
    "duration": 6,
    "start_time": "2025-07-16T14:01:04.381Z"
   },
   {
    "duration": 335,
    "start_time": "2025-07-16T14:01:04.800Z"
   },
   {
    "duration": 6,
    "start_time": "2025-07-16T14:01:08.166Z"
   },
   {
    "duration": 364,
    "start_time": "2025-07-16T14:01:08.896Z"
   },
   {
    "duration": 7,
    "start_time": "2025-07-16T14:01:10.822Z"
   },
   {
    "duration": 381,
    "start_time": "2025-07-16T14:01:11.479Z"
   },
   {
    "duration": 125,
    "start_time": "2025-07-16T14:01:16.134Z"
   },
   {
    "duration": 280,
    "start_time": "2025-07-16T14:03:01.530Z"
   },
   {
    "duration": 6,
    "start_time": "2025-07-16T14:03:18.599Z"
   },
   {
    "duration": 104,
    "start_time": "2025-07-16T14:03:24.023Z"
   },
   {
    "duration": 5,
    "start_time": "2025-07-16T14:03:27.512Z"
   },
   {
    "duration": 5,
    "start_time": "2025-07-16T14:05:27.846Z"
   },
   {
    "duration": 4,
    "start_time": "2025-07-16T14:05:44.214Z"
   },
   {
    "duration": 5,
    "start_time": "2025-07-16T14:06:04.567Z"
   },
   {
    "duration": 7,
    "start_time": "2025-07-16T14:06:12.350Z"
   },
   {
    "duration": 6,
    "start_time": "2025-07-16T14:06:30.343Z"
   },
   {
    "duration": 8,
    "start_time": "2025-07-16T14:06:33.493Z"
   },
   {
    "duration": 202,
    "start_time": "2025-07-16T14:07:00.878Z"
   },
   {
    "duration": 84,
    "start_time": "2025-07-16T14:07:36.831Z"
   },
   {
    "duration": 206,
    "start_time": "2025-07-16T14:07:39.581Z"
   },
   {
    "duration": 208,
    "start_time": "2025-07-16T14:07:57.478Z"
   },
   {
    "duration": 15,
    "start_time": "2025-07-16T14:08:29.630Z"
   },
   {
    "duration": 273,
    "start_time": "2025-07-16T14:08:34.487Z"
   },
   {
    "duration": 184,
    "start_time": "2025-07-16T14:08:47.087Z"
   },
   {
    "duration": 7,
    "start_time": "2025-07-16T14:09:35.662Z"
   },
   {
    "duration": 183,
    "start_time": "2025-07-16T14:09:51.989Z"
   },
   {
    "duration": 196,
    "start_time": "2025-07-16T14:09:59.818Z"
   },
   {
    "duration": 185,
    "start_time": "2025-07-16T14:10:26.286Z"
   },
   {
    "duration": 225,
    "start_time": "2025-07-16T14:14:10.758Z"
   },
   {
    "duration": 6,
    "start_time": "2025-07-16T14:15:03.300Z"
   },
   {
    "duration": 8,
    "start_time": "2025-07-16T14:16:15.011Z"
   },
   {
    "duration": 8,
    "start_time": "2025-07-16T14:16:30.369Z"
   },
   {
    "duration": 5,
    "start_time": "2025-07-16T14:16:42.373Z"
   },
   {
    "duration": 168,
    "start_time": "2025-07-16T14:16:58.045Z"
   },
   {
    "duration": 165,
    "start_time": "2025-07-16T14:18:03.765Z"
   },
   {
    "duration": 140,
    "start_time": "2025-07-16T14:23:00.202Z"
   },
   {
    "duration": 143,
    "start_time": "2025-07-16T14:23:29.971Z"
   },
   {
    "duration": 203,
    "start_time": "2025-07-16T14:23:51.781Z"
   },
   {
    "duration": 372,
    "start_time": "2025-07-16T14:24:02.268Z"
   },
   {
    "duration": 314,
    "start_time": "2025-07-16T14:24:18.322Z"
   },
   {
    "duration": 205,
    "start_time": "2025-07-16T14:24:28.084Z"
   },
   {
    "duration": 107,
    "start_time": "2025-07-16T14:24:52.394Z"
   },
   {
    "duration": 1244,
    "start_time": "2025-07-16T14:25:47.740Z"
   },
   {
    "duration": 82,
    "start_time": "2025-07-16T14:25:48.986Z"
   },
   {
    "duration": 16,
    "start_time": "2025-07-16T14:25:49.069Z"
   },
   {
    "duration": 20,
    "start_time": "2025-07-16T14:25:49.087Z"
   },
   {
    "duration": 9,
    "start_time": "2025-07-16T14:25:49.108Z"
   },
   {
    "duration": 14,
    "start_time": "2025-07-16T14:25:49.118Z"
   },
   {
    "duration": 22,
    "start_time": "2025-07-16T14:25:49.336Z"
   },
   {
    "duration": 13,
    "start_time": "2025-07-16T14:25:49.480Z"
   },
   {
    "duration": 24,
    "start_time": "2025-07-16T14:25:49.616Z"
   },
   {
    "duration": 7,
    "start_time": "2025-07-16T14:25:49.904Z"
   },
   {
    "duration": 6,
    "start_time": "2025-07-16T14:25:50.064Z"
   },
   {
    "duration": 9,
    "start_time": "2025-07-16T14:25:51.768Z"
   },
   {
    "duration": 10,
    "start_time": "2025-07-16T14:25:52.105Z"
   },
   {
    "duration": 6,
    "start_time": "2025-07-16T14:25:52.361Z"
   },
   {
    "duration": 3,
    "start_time": "2025-07-16T14:25:53.849Z"
   },
   {
    "duration": 6,
    "start_time": "2025-07-16T14:25:54.025Z"
   },
   {
    "duration": 5,
    "start_time": "2025-07-16T14:25:54.209Z"
   },
   {
    "duration": 15,
    "start_time": "2025-07-16T14:25:54.377Z"
   },
   {
    "duration": 12,
    "start_time": "2025-07-16T14:25:54.561Z"
   },
   {
    "duration": 6,
    "start_time": "2025-07-16T14:25:54.713Z"
   },
   {
    "duration": 50,
    "start_time": "2025-07-16T14:25:55.987Z"
   },
   {
    "duration": 6,
    "start_time": "2025-07-16T14:25:56.170Z"
   },
   {
    "duration": 7,
    "start_time": "2025-07-16T14:25:56.306Z"
   },
   {
    "duration": 9,
    "start_time": "2025-07-16T14:25:56.458Z"
   },
   {
    "duration": 8,
    "start_time": "2025-07-16T14:25:56.619Z"
   },
   {
    "duration": 60,
    "start_time": "2025-07-16T14:25:56.754Z"
   },
   {
    "duration": 13,
    "start_time": "2025-07-16T14:25:57.072Z"
   },
   {
    "duration": 9,
    "start_time": "2025-07-16T14:25:57.255Z"
   },
   {
    "duration": 32,
    "start_time": "2025-07-16T14:25:57.535Z"
   },
   {
    "duration": 24,
    "start_time": "2025-07-16T14:25:59.956Z"
   },
   {
    "duration": 6,
    "start_time": "2025-07-16T14:26:00.472Z"
   },
   {
    "duration": 351,
    "start_time": "2025-07-16T14:26:02.313Z"
   },
   {
    "duration": 6,
    "start_time": "2025-07-16T14:26:05.065Z"
   },
   {
    "duration": 375,
    "start_time": "2025-07-16T14:26:06.099Z"
   },
   {
    "duration": 5,
    "start_time": "2025-07-16T14:26:13.075Z"
   },
   {
    "duration": 320,
    "start_time": "2025-07-16T14:26:13.540Z"
   },
   {
    "duration": 263,
    "start_time": "2025-07-16T14:26:16.137Z"
   },
   {
    "duration": 337,
    "start_time": "2025-07-16T14:26:53.185Z"
   },
   {
    "duration": 331,
    "start_time": "2025-07-16T14:27:23.691Z"
   },
   {
    "duration": 103,
    "start_time": "2025-07-16T14:27:36.712Z"
   },
   {
    "duration": 1223,
    "start_time": "2025-07-16T14:28:27.170Z"
   },
   {
    "duration": 82,
    "start_time": "2025-07-16T14:28:28.394Z"
   },
   {
    "duration": 15,
    "start_time": "2025-07-16T14:28:28.478Z"
   },
   {
    "duration": 49,
    "start_time": "2025-07-16T14:28:28.495Z"
   },
   {
    "duration": 10,
    "start_time": "2025-07-16T14:28:28.545Z"
   },
   {
    "duration": 13,
    "start_time": "2025-07-16T14:28:28.557Z"
   },
   {
    "duration": 24,
    "start_time": "2025-07-16T14:28:28.762Z"
   },
   {
    "duration": 14,
    "start_time": "2025-07-16T14:28:28.896Z"
   },
   {
    "duration": 34,
    "start_time": "2025-07-16T14:28:29.043Z"
   },
   {
    "duration": 6,
    "start_time": "2025-07-16T14:28:29.299Z"
   },
   {
    "duration": 5,
    "start_time": "2025-07-16T14:28:29.459Z"
   },
   {
    "duration": 8,
    "start_time": "2025-07-16T14:28:29.769Z"
   },
   {
    "duration": 10,
    "start_time": "2025-07-16T14:28:29.937Z"
   },
   {
    "duration": 7,
    "start_time": "2025-07-16T14:28:30.081Z"
   },
   {
    "duration": 4,
    "start_time": "2025-07-16T14:28:30.249Z"
   },
   {
    "duration": 6,
    "start_time": "2025-07-16T14:28:30.400Z"
   },
   {
    "duration": 5,
    "start_time": "2025-07-16T14:28:30.536Z"
   },
   {
    "duration": 15,
    "start_time": "2025-07-16T14:28:30.665Z"
   },
   {
    "duration": 11,
    "start_time": "2025-07-16T14:28:30.809Z"
   },
   {
    "duration": 6,
    "start_time": "2025-07-16T14:28:30.961Z"
   },
   {
    "duration": 69,
    "start_time": "2025-07-16T14:28:31.089Z"
   },
   {
    "duration": 7,
    "start_time": "2025-07-16T14:28:31.225Z"
   },
   {
    "duration": 8,
    "start_time": "2025-07-16T14:28:31.361Z"
   },
   {
    "duration": 8,
    "start_time": "2025-07-16T14:28:31.522Z"
   },
   {
    "duration": 8,
    "start_time": "2025-07-16T14:28:31.681Z"
   },
   {
    "duration": 61,
    "start_time": "2025-07-16T14:28:31.841Z"
   },
   {
    "duration": 13,
    "start_time": "2025-07-16T14:28:32.152Z"
   },
   {
    "duration": 8,
    "start_time": "2025-07-16T14:28:32.305Z"
   },
   {
    "duration": 28,
    "start_time": "2025-07-16T14:28:32.609Z"
   },
   {
    "duration": 25,
    "start_time": "2025-07-16T14:28:34.722Z"
   },
   {
    "duration": 10,
    "start_time": "2025-07-16T14:28:35.183Z"
   },
   {
    "duration": 354,
    "start_time": "2025-07-16T14:28:35.379Z"
   },
   {
    "duration": 7,
    "start_time": "2025-07-16T14:28:37.714Z"
   },
   {
    "duration": 370,
    "start_time": "2025-07-16T14:28:37.874Z"
   },
   {
    "duration": 14,
    "start_time": "2025-07-16T14:28:38.246Z"
   },
   {
    "duration": 340,
    "start_time": "2025-07-16T14:28:40.049Z"
   },
   {
    "duration": 262,
    "start_time": "2025-07-16T14:28:40.432Z"
   },
   {
    "duration": 342,
    "start_time": "2025-07-16T14:28:40.696Z"
   },
   {
    "duration": 294,
    "start_time": "2025-07-16T14:28:43.464Z"
   },
   {
    "duration": 7,
    "start_time": "2025-07-16T14:29:07.314Z"
   },
   {
    "duration": 2689,
    "start_time": "2025-07-16T14:29:40.961Z"
   },
   {
    "duration": 157,
    "start_time": "2025-07-16T14:29:50.128Z"
   },
   {
    "duration": 253,
    "start_time": "2025-07-16T14:30:04.227Z"
   },
   {
    "duration": 261,
    "start_time": "2025-07-16T14:31:10.720Z"
   },
   {
    "duration": 10,
    "start_time": "2025-07-16T14:31:19.065Z"
   },
   {
    "duration": 115,
    "start_time": "2025-07-16T14:31:49.927Z"
   },
   {
    "duration": 251,
    "start_time": "2025-07-16T14:31:54.025Z"
   },
   {
    "duration": 193,
    "start_time": "2025-07-16T14:32:26.730Z"
   },
   {
    "duration": 9,
    "start_time": "2025-07-16T14:34:17.906Z"
   },
   {
    "duration": 8,
    "start_time": "2025-07-16T14:34:22.664Z"
   },
   {
    "duration": 208,
    "start_time": "2025-07-16T14:35:34.026Z"
   },
   {
    "duration": 8,
    "start_time": "2025-07-16T14:36:18.577Z"
   },
   {
    "duration": 217,
    "start_time": "2025-07-16T14:36:36.522Z"
   },
   {
    "duration": 306,
    "start_time": "2025-07-16T14:36:43.399Z"
   },
   {
    "duration": 311,
    "start_time": "2025-07-16T14:37:36.969Z"
   },
   {
    "duration": 9,
    "start_time": "2025-07-16T14:38:05.103Z"
   },
   {
    "duration": 11,
    "start_time": "2025-07-16T14:39:41.047Z"
   },
   {
    "duration": 8,
    "start_time": "2025-07-16T14:40:24.375Z"
   },
   {
    "duration": 8,
    "start_time": "2025-07-16T14:41:39.830Z"
   },
   {
    "duration": 9,
    "start_time": "2025-07-16T14:41:53.031Z"
   },
   {
    "duration": 110,
    "start_time": "2025-07-16T14:42:05.342Z"
   },
   {
    "duration": 9,
    "start_time": "2025-07-16T14:42:08.827Z"
   },
   {
    "duration": 9,
    "start_time": "2025-07-16T14:42:40.868Z"
   },
   {
    "duration": 9,
    "start_time": "2025-07-16T14:45:12.862Z"
   },
   {
    "duration": 15,
    "start_time": "2025-07-16T14:47:38.888Z"
   },
   {
    "duration": 7,
    "start_time": "2025-07-16T15:01:24.227Z"
   },
   {
    "duration": 5,
    "start_time": "2025-07-16T15:01:44.636Z"
   },
   {
    "duration": 7,
    "start_time": "2025-07-16T15:01:54.508Z"
   },
   {
    "duration": 7,
    "start_time": "2025-07-16T15:02:09.604Z"
   },
   {
    "duration": 12,
    "start_time": "2025-07-16T15:02:31.707Z"
   },
   {
    "duration": 8,
    "start_time": "2025-07-16T15:03:11.275Z"
   },
   {
    "duration": 7,
    "start_time": "2025-07-16T15:03:18.188Z"
   },
   {
    "duration": 312,
    "start_time": "2025-07-16T15:03:39.491Z"
   },
   {
    "duration": 291,
    "start_time": "2025-07-16T15:05:30.019Z"
   },
   {
    "duration": 434,
    "start_time": "2025-07-16T15:05:38.004Z"
   },
   {
    "duration": 289,
    "start_time": "2025-07-16T15:05:48.442Z"
   },
   {
    "duration": 290,
    "start_time": "2025-07-16T15:05:54.451Z"
   },
   {
    "duration": 339,
    "start_time": "2025-07-16T15:06:09.172Z"
   },
   {
    "duration": 933,
    "start_time": "2025-07-16T15:06:27.985Z"
   },
   {
    "duration": 440,
    "start_time": "2025-07-16T15:06:35.979Z"
   },
   {
    "duration": 326,
    "start_time": "2025-07-16T15:06:44.084Z"
   },
   {
    "duration": 9,
    "start_time": "2025-07-16T15:07:28.762Z"
   },
   {
    "duration": 9,
    "start_time": "2025-07-16T15:08:28.285Z"
   },
   {
    "duration": 416,
    "start_time": "2025-07-16T15:09:01.058Z"
   },
   {
    "duration": 411,
    "start_time": "2025-07-16T15:09:09.401Z"
   },
   {
    "duration": 10,
    "start_time": "2025-07-16T15:09:53.849Z"
   },
   {
    "duration": 9,
    "start_time": "2025-07-16T15:09:59.608Z"
   },
   {
    "duration": 10,
    "start_time": "2025-07-16T15:10:05.857Z"
   },
   {
    "duration": 86,
    "start_time": "2025-07-16T15:10:24.786Z"
   },
   {
    "duration": 10,
    "start_time": "2025-07-16T15:10:27.696Z"
   },
   {
    "duration": 10,
    "start_time": "2025-07-16T15:10:35.201Z"
   },
   {
    "duration": 8,
    "start_time": "2025-07-16T15:10:48.383Z"
   },
   {
    "duration": 311,
    "start_time": "2025-07-16T15:11:19.816Z"
   },
   {
    "duration": 1364,
    "start_time": "2025-07-17T14:31:52.219Z"
   },
   {
    "duration": 82,
    "start_time": "2025-07-17T14:31:53.585Z"
   },
   {
    "duration": 16,
    "start_time": "2025-07-17T14:31:53.669Z"
   },
   {
    "duration": 147,
    "start_time": "2025-07-17T14:31:53.687Z"
   },
   {
    "duration": 21,
    "start_time": "2025-07-17T14:31:53.836Z"
   },
   {
    "duration": 29,
    "start_time": "2025-07-17T14:31:53.859Z"
   },
   {
    "duration": 65,
    "start_time": "2025-07-17T14:31:53.891Z"
   },
   {
    "duration": 23,
    "start_time": "2025-07-17T14:31:53.959Z"
   },
   {
    "duration": 27,
    "start_time": "2025-07-17T14:31:54.066Z"
   },
   {
    "duration": 6,
    "start_time": "2025-07-17T14:31:54.337Z"
   },
   {
    "duration": 149,
    "start_time": "2025-07-17T14:31:54.483Z"
   },
   {
    "duration": 8,
    "start_time": "2025-07-17T14:31:54.772Z"
   },
   {
    "duration": 11,
    "start_time": "2025-07-17T14:31:54.924Z"
   },
   {
    "duration": 6,
    "start_time": "2025-07-17T14:31:55.076Z"
   },
   {
    "duration": 4,
    "start_time": "2025-07-17T14:31:55.225Z"
   },
   {
    "duration": 103,
    "start_time": "2025-07-17T14:31:55.402Z"
   },
   {
    "duration": 41,
    "start_time": "2025-07-17T14:31:55.572Z"
   },
   {
    "duration": 14,
    "start_time": "2025-07-17T14:31:55.732Z"
   },
   {
    "duration": 15,
    "start_time": "2025-07-17T14:31:55.892Z"
   },
   {
    "duration": 6,
    "start_time": "2025-07-17T14:31:56.035Z"
   },
   {
    "duration": 49,
    "start_time": "2025-07-17T14:31:56.229Z"
   },
   {
    "duration": 6,
    "start_time": "2025-07-17T14:31:56.388Z"
   },
   {
    "duration": 7,
    "start_time": "2025-07-17T14:31:56.562Z"
   },
   {
    "duration": 8,
    "start_time": "2025-07-17T14:31:56.738Z"
   },
   {
    "duration": 6,
    "start_time": "2025-07-17T14:31:56.908Z"
   },
   {
    "duration": 55,
    "start_time": "2025-07-17T14:31:57.084Z"
   },
   {
    "duration": 14,
    "start_time": "2025-07-17T14:31:57.438Z"
   },
   {
    "duration": 8,
    "start_time": "2025-07-17T14:31:57.630Z"
   },
   {
    "duration": 30,
    "start_time": "2025-07-17T14:31:59.817Z"
   },
   {
    "duration": 20,
    "start_time": "2025-07-17T14:32:00.715Z"
   },
   {
    "duration": 6,
    "start_time": "2025-07-17T14:32:03.827Z"
   },
   {
    "duration": 386,
    "start_time": "2025-07-17T14:32:06.114Z"
   },
   {
    "duration": 6,
    "start_time": "2025-07-17T14:32:10.308Z"
   },
   {
    "duration": 350,
    "start_time": "2025-07-17T14:32:11.274Z"
   },
   {
    "duration": 6,
    "start_time": "2025-07-17T14:32:15.195Z"
   },
   {
    "duration": 350,
    "start_time": "2025-07-17T14:32:15.411Z"
   },
   {
    "duration": 262,
    "start_time": "2025-07-17T14:32:15.849Z"
   },
   {
    "duration": 340,
    "start_time": "2025-07-17T14:32:16.185Z"
   },
   {
    "duration": 314,
    "start_time": "2025-07-17T14:32:18.809Z"
   },
   {
    "duration": 3574,
    "start_time": "2025-07-17T14:34:03.931Z"
   },
   {
    "duration": 356,
    "start_time": "2025-07-17T14:34:21.195Z"
   },
   {
    "duration": 438,
    "start_time": "2025-07-17T14:37:02.865Z"
   },
   {
    "duration": 102,
    "start_time": "2025-07-17T14:37:43.241Z"
   },
   {
    "duration": 303,
    "start_time": "2025-07-17T14:39:00.158Z"
   },
   {
    "duration": 7,
    "start_time": "2025-07-17T14:40:22.698Z"
   },
   {
    "duration": 6,
    "start_time": "2025-07-17T14:40:37.530Z"
   },
   {
    "duration": 6,
    "start_time": "2025-07-17T14:40:50.544Z"
   },
   {
    "duration": 5,
    "start_time": "2025-07-17T14:41:38.537Z"
   },
   {
    "duration": 5,
    "start_time": "2025-07-17T14:41:45.912Z"
   },
   {
    "duration": 5,
    "start_time": "2025-07-17T14:41:59.568Z"
   },
   {
    "duration": 5,
    "start_time": "2025-07-17T14:42:03.805Z"
   },
   {
    "duration": 7,
    "start_time": "2025-07-17T14:42:13.977Z"
   },
   {
    "duration": 5,
    "start_time": "2025-07-17T14:42:28.920Z"
   },
   {
    "duration": 279,
    "start_time": "2025-07-17T14:42:40.450Z"
   },
   {
    "duration": 348,
    "start_time": "2025-07-17T14:44:15.816Z"
   },
   {
    "duration": 23,
    "start_time": "2025-07-17T14:44:46.992Z"
   },
   {
    "duration": 329,
    "start_time": "2025-07-17T14:44:58.408Z"
   },
   {
    "duration": 7,
    "start_time": "2025-07-17T14:45:25.940Z"
   },
   {
    "duration": 5,
    "start_time": "2025-07-17T14:45:32.489Z"
   },
   {
    "duration": 291,
    "start_time": "2025-07-17T14:46:43.273Z"
   },
   {
    "duration": 86,
    "start_time": "2025-07-17T14:46:49.232Z"
   },
   {
    "duration": 329,
    "start_time": "2025-07-17T14:46:54.177Z"
   },
   {
    "duration": 364,
    "start_time": "2025-07-17T14:47:06.777Z"
   },
   {
    "duration": 346,
    "start_time": "2025-07-17T14:47:11.292Z"
   },
   {
    "duration": 320,
    "start_time": "2025-07-17T14:47:19.767Z"
   },
   {
    "duration": 448,
    "start_time": "2025-07-17T14:48:18.679Z"
   },
   {
    "duration": 320,
    "start_time": "2025-07-17T14:48:38.070Z"
   },
   {
    "duration": 321,
    "start_time": "2025-07-17T14:48:56.407Z"
   },
   {
    "duration": 353,
    "start_time": "2025-07-17T14:50:48.990Z"
   },
   {
    "duration": 320,
    "start_time": "2025-07-17T14:50:54.055Z"
   },
   {
    "duration": 287,
    "start_time": "2025-07-17T14:50:59.352Z"
   },
   {
    "duration": 9,
    "start_time": "2025-07-17T14:51:48.830Z"
   },
   {
    "duration": 297,
    "start_time": "2025-07-17T14:51:49.636Z"
   },
   {
    "duration": 331,
    "start_time": "2025-07-17T14:52:10.566Z"
   },
   {
    "duration": 344,
    "start_time": "2025-07-17T14:53:28.184Z"
   },
   {
    "duration": 311,
    "start_time": "2025-07-17T14:53:36.622Z"
   },
   {
    "duration": 330,
    "start_time": "2025-07-17T14:55:40.396Z"
   },
   {
    "duration": 424,
    "start_time": "2025-07-17T14:55:57.693Z"
   },
   {
    "duration": 8,
    "start_time": "2025-07-17T14:56:53.573Z"
   },
   {
    "duration": 176,
    "start_time": "2025-07-17T14:57:16.976Z"
   },
   {
    "duration": 165,
    "start_time": "2025-07-17T14:57:29.916Z"
   },
   {
    "duration": 22,
    "start_time": "2025-07-17T14:58:12.311Z"
   },
   {
    "duration": 167,
    "start_time": "2025-07-17T14:58:23.788Z"
   },
   {
    "duration": 299,
    "start_time": "2025-07-17T14:58:53.836Z"
   },
   {
    "duration": 348,
    "start_time": "2025-07-17T14:59:10.021Z"
   },
   {
    "duration": 344,
    "start_time": "2025-07-17T14:59:32.132Z"
   },
   {
    "duration": 208,
    "start_time": "2025-07-17T15:03:40.133Z"
   },
   {
    "duration": 98,
    "start_time": "2025-07-17T15:04:32.642Z"
   },
   {
    "duration": 115,
    "start_time": "2025-07-17T15:05:34.661Z"
   },
   {
    "duration": 107,
    "start_time": "2025-07-17T15:05:42.123Z"
   },
   {
    "duration": 116,
    "start_time": "2025-07-17T15:07:13.754Z"
   },
   {
    "duration": 343,
    "start_time": "2025-07-17T15:07:33.370Z"
   },
   {
    "duration": 120,
    "start_time": "2025-07-17T15:10:33.529Z"
   },
   {
    "duration": 114,
    "start_time": "2025-07-17T15:11:12.403Z"
   },
   {
    "duration": 523,
    "start_time": "2025-07-17T15:13:07.466Z"
   },
   {
    "duration": 394,
    "start_time": "2025-07-17T15:14:09.977Z"
   },
   {
    "duration": 398,
    "start_time": "2025-07-17T15:14:29.756Z"
   },
   {
    "duration": 390,
    "start_time": "2025-07-17T15:14:42.487Z"
   },
   {
    "duration": 406,
    "start_time": "2025-07-17T15:14:49.456Z"
   },
   {
    "duration": 395,
    "start_time": "2025-07-17T15:14:56.392Z"
   },
   {
    "duration": 399,
    "start_time": "2025-07-17T15:15:08.330Z"
   },
   {
    "duration": 508,
    "start_time": "2025-07-17T15:15:25.064Z"
   },
   {
    "duration": 117,
    "start_time": "2025-07-17T15:15:41.128Z"
   },
   {
    "duration": 119,
    "start_time": "2025-07-17T15:15:44.718Z"
   },
   {
    "duration": 382,
    "start_time": "2025-07-17T15:15:58.633Z"
   },
   {
    "duration": 15,
    "start_time": "2025-07-17T15:16:29.161Z"
   },
   {
    "duration": 97,
    "start_time": "2025-07-17T15:16:39.121Z"
   },
   {
    "duration": 119,
    "start_time": "2025-07-17T15:17:03.593Z"
   },
   {
    "duration": 308,
    "start_time": "2025-07-17T15:17:51.367Z"
   },
   {
    "duration": 323,
    "start_time": "2025-07-17T15:19:17.912Z"
   },
   {
    "duration": 309,
    "start_time": "2025-07-17T15:19:25.831Z"
   },
   {
    "duration": 340,
    "start_time": "2025-07-17T15:19:31.986Z"
   },
   {
    "duration": 411,
    "start_time": "2025-07-17T15:19:40.031Z"
   },
   {
    "duration": 320,
    "start_time": "2025-07-17T15:19:44.414Z"
   },
   {
    "duration": 10,
    "start_time": "2025-07-17T15:22:35.311Z"
   },
   {
    "duration": 9,
    "start_time": "2025-07-17T15:23:17.281Z"
   },
   {
    "duration": 12,
    "start_time": "2025-07-17T15:24:22.303Z"
   },
   {
    "duration": 11,
    "start_time": "2025-07-17T15:24:38.470Z"
   },
   {
    "duration": 369,
    "start_time": "2025-07-17T15:25:32.199Z"
   },
   {
    "duration": 380,
    "start_time": "2025-07-17T15:25:48.877Z"
   },
   {
    "duration": 375,
    "start_time": "2025-07-17T15:25:54.790Z"
   },
   {
    "duration": 346,
    "start_time": "2025-07-17T15:25:59.647Z"
   },
   {
    "duration": 378,
    "start_time": "2025-07-17T15:26:04.301Z"
   },
   {
    "duration": 389,
    "start_time": "2025-07-17T15:26:09.471Z"
   },
   {
    "duration": 380,
    "start_time": "2025-07-17T15:26:53.599Z"
   },
   {
    "duration": 380,
    "start_time": "2025-07-17T15:26:58.790Z"
   },
   {
    "duration": 352,
    "start_time": "2025-07-17T15:27:28.454Z"
   },
   {
    "duration": 337,
    "start_time": "2025-07-17T15:27:34.717Z"
   },
   {
    "duration": 385,
    "start_time": "2025-07-17T15:27:39.790Z"
   },
   {
    "duration": 347,
    "start_time": "2025-07-17T15:27:48.439Z"
   },
   {
    "duration": 317,
    "start_time": "2025-07-17T15:28:32.221Z"
   },
   {
    "duration": 230,
    "start_time": "2025-07-17T15:28:58.581Z"
   },
   {
    "duration": 281,
    "start_time": "2025-07-17T15:29:05.613Z"
   },
   {
    "duration": 268,
    "start_time": "2025-07-17T15:29:10.537Z"
   },
   {
    "duration": 97,
    "start_time": "2025-07-17T15:29:28.287Z"
   },
   {
    "duration": 273,
    "start_time": "2025-07-17T15:29:49.814Z"
   },
   {
    "duration": 296,
    "start_time": "2025-07-17T15:30:29.142Z"
   },
   {
    "duration": 316,
    "start_time": "2025-07-17T15:30:32.617Z"
   },
   {
    "duration": 1514,
    "start_time": "2025-07-26T15:39:54.393Z"
   },
   {
    "duration": 164,
    "start_time": "2025-07-26T15:39:55.910Z"
   },
   {
    "duration": 22,
    "start_time": "2025-07-26T15:39:56.076Z"
   },
   {
    "duration": 14,
    "start_time": "2025-07-26T15:39:56.100Z"
   },
   {
    "duration": 8,
    "start_time": "2025-07-26T15:39:56.117Z"
   },
   {
    "duration": 11,
    "start_time": "2025-07-26T15:39:56.126Z"
   },
   {
    "duration": 52,
    "start_time": "2025-07-26T15:39:56.138Z"
   },
   {
    "duration": 12,
    "start_time": "2025-07-26T15:39:56.192Z"
   },
   {
    "duration": 37,
    "start_time": "2025-07-26T15:39:56.206Z"
   },
   {
    "duration": 24,
    "start_time": "2025-07-26T15:39:56.245Z"
   },
   {
    "duration": 36,
    "start_time": "2025-07-26T15:39:56.270Z"
   },
   {
    "duration": 21,
    "start_time": "2025-07-26T15:39:56.308Z"
   },
   {
    "duration": 11,
    "start_time": "2025-07-26T15:39:56.331Z"
   },
   {
    "duration": 6,
    "start_time": "2025-07-26T15:39:56.345Z"
   },
   {
    "duration": 8,
    "start_time": "2025-07-26T15:39:56.352Z"
   },
   {
    "duration": 33,
    "start_time": "2025-07-26T15:39:56.361Z"
   },
   {
    "duration": 5,
    "start_time": "2025-07-26T15:39:56.396Z"
   },
   {
    "duration": 14,
    "start_time": "2025-07-26T15:39:56.402Z"
   },
   {
    "duration": 10,
    "start_time": "2025-07-26T15:39:56.418Z"
   },
   {
    "duration": 11,
    "start_time": "2025-07-26T15:39:56.430Z"
   },
   {
    "duration": 91,
    "start_time": "2025-07-26T15:39:56.442Z"
   },
   {
    "duration": 30,
    "start_time": "2025-07-26T15:39:56.535Z"
   },
   {
    "duration": 26,
    "start_time": "2025-07-26T15:39:56.566Z"
   },
   {
    "duration": 68,
    "start_time": "2025-07-26T15:39:56.594Z"
   },
   {
    "duration": 26,
    "start_time": "2025-07-26T15:39:56.664Z"
   },
   {
    "duration": 56,
    "start_time": "2025-07-26T15:39:56.692Z"
   },
   {
    "duration": 13,
    "start_time": "2025-07-26T15:39:56.750Z"
   },
   {
    "duration": 25,
    "start_time": "2025-07-26T15:39:56.765Z"
   },
   {
    "duration": 29,
    "start_time": "2025-07-26T15:39:56.792Z"
   },
   {
    "duration": 17,
    "start_time": "2025-07-26T15:39:56.823Z"
   },
   {
    "duration": 27,
    "start_time": "2025-07-26T15:39:56.842Z"
   },
   {
    "duration": 21,
    "start_time": "2025-07-26T15:39:56.871Z"
   },
   {
    "duration": 354,
    "start_time": "2025-07-26T15:39:56.894Z"
   },
   {
    "duration": 6,
    "start_time": "2025-07-26T15:39:57.250Z"
   },
   {
    "duration": 401,
    "start_time": "2025-07-26T15:39:57.257Z"
   },
   {
    "duration": 22,
    "start_time": "2025-07-26T15:39:57.660Z"
   },
   {
    "duration": 320,
    "start_time": "2025-07-26T15:39:57.687Z"
   },
   {
    "duration": 307,
    "start_time": "2025-07-26T15:39:58.009Z"
   },
   {
    "duration": 227,
    "start_time": "2025-07-26T15:39:58.317Z"
   },
   {
    "duration": 343,
    "start_time": "2025-07-26T15:39:58.546Z"
   },
   {
    "duration": 7,
    "start_time": "2025-07-26T15:39:58.893Z"
   },
   {
    "duration": 219,
    "start_time": "2025-07-26T15:39:58.902Z"
   },
   {
    "duration": 219,
    "start_time": "2025-07-26T15:39:59.122Z"
   },
   {
    "duration": 10,
    "start_time": "2025-07-26T15:39:59.342Z"
   },
   {
    "duration": 748,
    "start_time": "2025-07-26T15:39:59.353Z"
   },
   {
    "duration": 355,
    "start_time": "2025-07-26T15:40:00.103Z"
   },
   {
    "duration": 33,
    "start_time": "2025-07-26T15:40:00.460Z"
   },
   {
    "duration": 658,
    "start_time": "2025-07-26T15:40:00.494Z"
   },
   {
    "duration": 0,
    "start_time": "2025-07-26T15:40:01.154Z"
   },
   {
    "duration": 0,
    "start_time": "2025-07-26T15:40:01.155Z"
   },
   {
    "duration": 0,
    "start_time": "2025-07-26T15:40:01.156Z"
   },
   {
    "duration": 0,
    "start_time": "2025-07-26T15:40:01.157Z"
   },
   {
    "duration": 0,
    "start_time": "2025-07-26T15:40:01.158Z"
   },
   {
    "duration": 7,
    "start_time": "2025-07-26T15:41:27.759Z"
   },
   {
    "duration": 759,
    "start_time": "2025-07-26T15:42:38.970Z"
   },
   {
    "duration": 18,
    "start_time": "2025-07-26T15:42:55.390Z"
   },
   {
    "duration": 1631,
    "start_time": "2025-07-26T15:42:55.562Z"
   },
   {
    "duration": 14,
    "start_time": "2025-07-26T15:43:39.620Z"
   },
   {
    "duration": 325,
    "start_time": "2025-07-26T15:43:39.769Z"
   },
   {
    "duration": 1462,
    "start_time": "2025-07-27T13:31:05.293Z"
   },
   {
    "duration": 0,
    "start_time": "2025-07-27T13:31:06.756Z"
   },
   {
    "duration": 3726,
    "start_time": "2025-07-27T13:31:55.950Z"
   },
   {
    "duration": 53,
    "start_time": "2025-07-27T13:31:59.678Z"
   },
   {
    "duration": 6,
    "start_time": "2025-07-27T13:32:01.635Z"
   },
   {
    "duration": 831,
    "start_time": "2025-07-27T13:32:02.879Z"
   },
   {
    "duration": 21,
    "start_time": "2025-07-27T13:32:03.713Z"
   },
   {
    "duration": 15,
    "start_time": "2025-07-27T13:32:05.848Z"
   },
   {
    "duration": 10,
    "start_time": "2025-07-27T13:32:06.218Z"
   },
   {
    "duration": 12,
    "start_time": "2025-07-27T13:32:06.564Z"
   },
   {
    "duration": 29,
    "start_time": "2025-07-27T13:32:07.851Z"
   },
   {
    "duration": 2602,
    "start_time": "2025-07-27T13:32:34.338Z"
   },
   {
    "duration": 1254,
    "start_time": "2025-07-27T13:32:36.942Z"
   },
   {
    "duration": 153,
    "start_time": "2025-07-27T13:32:44.139Z"
   },
   {
    "duration": 16,
    "start_time": "2025-07-27T13:32:44.569Z"
   },
   {
    "duration": 16,
    "start_time": "2025-07-27T13:32:45.095Z"
   },
   {
    "duration": 10,
    "start_time": "2025-07-27T13:32:47.408Z"
   },
   {
    "duration": 12,
    "start_time": "2025-07-27T13:32:47.908Z"
   },
   {
    "duration": 22,
    "start_time": "2025-07-27T13:33:01.384Z"
   },
   {
    "duration": 17,
    "start_time": "2025-07-27T13:33:19.390Z"
   },
   {
    "duration": 36,
    "start_time": "2025-07-27T13:33:20.651Z"
   },
   {
    "duration": 7,
    "start_time": "2025-07-27T13:33:23.384Z"
   },
   {
    "duration": 6,
    "start_time": "2025-07-27T13:33:25.559Z"
   },
   {
    "duration": 10,
    "start_time": "2025-07-27T13:33:26.052Z"
   },
   {
    "duration": 20,
    "start_time": "2025-07-27T13:33:27.436Z"
   },
   {
    "duration": 3,
    "start_time": "2025-07-27T13:33:34.211Z"
   },
   {
    "duration": 3,
    "start_time": "2025-07-27T13:33:40.279Z"
   },
   {
    "duration": 2,
    "start_time": "2025-07-27T13:33:45.570Z"
   },
   {
    "duration": 5,
    "start_time": "2025-07-27T13:33:51.460Z"
   },
   {
    "duration": 16,
    "start_time": "2025-07-27T13:33:51.787Z"
   },
   {
    "duration": 15,
    "start_time": "2025-07-27T13:33:52.328Z"
   },
   {
    "duration": 6,
    "start_time": "2025-07-27T13:33:58.231Z"
   },
   {
    "duration": 2,
    "start_time": "2025-07-27T13:34:11.851Z"
   },
   {
    "duration": 3,
    "start_time": "2025-07-27T13:34:27.895Z"
   },
   {
    "duration": 17,
    "start_time": "2025-07-27T13:34:29.298Z"
   },
   {
    "duration": 9,
    "start_time": "2025-07-27T13:34:30.786Z"
   },
   {
    "duration": 60,
    "start_time": "2025-07-27T13:34:31.450Z"
   },
   {
    "duration": 11,
    "start_time": "2025-07-27T13:34:47.463Z"
   },
   {
    "duration": 20,
    "start_time": "2025-07-27T13:34:49.453Z"
   },
   {
    "duration": 6,
    "start_time": "2025-07-27T13:34:53.387Z"
   },
   {
    "duration": 361,
    "start_time": "2025-07-27T13:34:54.765Z"
   },
   {
    "duration": 7,
    "start_time": "2025-07-27T13:35:13.701Z"
   },
   {
    "duration": 409,
    "start_time": "2025-07-27T13:35:14.240Z"
   },
   {
    "duration": 8,
    "start_time": "2025-07-27T13:35:16.564Z"
   },
   {
    "duration": 344,
    "start_time": "2025-07-27T13:35:17.222Z"
   },
   {
    "duration": 261,
    "start_time": "2025-07-27T13:35:33.724Z"
   },
   {
    "duration": 241,
    "start_time": "2025-07-27T13:35:46.907Z"
   },
   {
    "duration": 333,
    "start_time": "2025-07-27T13:36:09.752Z"
   },
   {
    "duration": 6,
    "start_time": "2025-07-27T13:36:24.759Z"
   },
   {
    "duration": 226,
    "start_time": "2025-07-27T13:36:25.391Z"
   },
   {
    "duration": 212,
    "start_time": "2025-07-27T13:36:27.295Z"
   },
   {
    "duration": 12,
    "start_time": "2025-07-27T13:36:39.353Z"
   },
   {
    "duration": 13,
    "start_time": "2025-07-27T13:36:39.978Z"
   },
   {
    "duration": 665,
    "start_time": "2025-07-27T13:36:48.859Z"
   },
   {
    "duration": 345,
    "start_time": "2025-07-27T13:37:14.814Z"
   },
   {
    "duration": 20,
    "start_time": "2025-07-27T13:37:57.821Z"
   },
   {
    "duration": 699,
    "start_time": "2025-07-27T13:38:05.064Z"
   },
   {
    "duration": 2578,
    "start_time": "2025-07-27T13:40:25.777Z"
   },
   {
    "duration": 23722,
    "start_time": "2025-07-27T13:40:34.929Z"
   },
   {
    "duration": 655,
    "start_time": "2025-07-27T13:41:11.080Z"
   },
   {
    "duration": 11934,
    "start_time": "2025-07-27T13:41:44.649Z"
   },
   {
    "duration": 1743,
    "start_time": "2025-07-27T13:41:56.586Z"
   },
   {
    "duration": 13,
    "start_time": "2025-07-27T13:43:36.278Z"
   },
   {
    "duration": 193,
    "start_time": "2025-07-27T13:43:39.355Z"
   },
   {
    "duration": 19,
    "start_time": "2025-07-27T13:43:39.600Z"
   },
   {
    "duration": 15,
    "start_time": "2025-07-27T13:43:39.791Z"
   },
   {
    "duration": 10,
    "start_time": "2025-07-27T13:43:40.015Z"
   },
   {
    "duration": 11,
    "start_time": "2025-07-27T13:43:40.185Z"
   },
   {
    "duration": 38,
    "start_time": "2025-07-27T13:43:41.031Z"
   },
   {
    "duration": 23,
    "start_time": "2025-07-27T13:43:41.324Z"
   },
   {
    "duration": 27,
    "start_time": "2025-07-27T13:43:41.505Z"
   },
   {
    "duration": 9,
    "start_time": "2025-07-27T13:43:42.489Z"
   },
   {
    "duration": 6,
    "start_time": "2025-07-27T13:43:42.644Z"
   },
   {
    "duration": 9,
    "start_time": "2025-07-27T13:43:42.961Z"
   },
   {
    "duration": 11,
    "start_time": "2025-07-27T13:43:43.094Z"
   },
   {
    "duration": 2,
    "start_time": "2025-07-27T13:43:43.409Z"
   },
   {
    "duration": 4,
    "start_time": "2025-07-27T13:43:43.727Z"
   },
   {
    "duration": 3,
    "start_time": "2025-07-27T13:43:43.886Z"
   },
   {
    "duration": 5,
    "start_time": "2025-07-27T13:43:44.180Z"
   },
   {
    "duration": 18,
    "start_time": "2025-07-27T13:43:44.333Z"
   },
   {
    "duration": 13,
    "start_time": "2025-07-27T13:43:44.503Z"
   },
   {
    "duration": 3,
    "start_time": "2025-07-27T13:43:44.662Z"
   },
   {
    "duration": 3,
    "start_time": "2025-07-27T13:43:44.998Z"
   },
   {
    "duration": 7,
    "start_time": "2025-07-27T13:43:45.323Z"
   },
   {
    "duration": 21,
    "start_time": "2025-07-27T13:43:45.662Z"
   },
   {
    "duration": 11,
    "start_time": "2025-07-27T13:43:45.806Z"
   },
   {
    "duration": 85,
    "start_time": "2025-07-27T13:43:46.110Z"
   },
   {
    "duration": 18,
    "start_time": "2025-07-27T13:43:46.726Z"
   },
   {
    "duration": 16,
    "start_time": "2025-07-27T13:43:46.880Z"
   },
   {
    "duration": 6,
    "start_time": "2025-07-27T13:43:47.759Z"
   },
   {
    "duration": 531,
    "start_time": "2025-07-27T13:43:47.929Z"
   },
   {
    "duration": 9,
    "start_time": "2025-07-27T13:43:48.642Z"
   },
   {
    "duration": 509,
    "start_time": "2025-07-27T13:43:49.269Z"
   },
   {
    "duration": 6,
    "start_time": "2025-07-27T13:43:51.249Z"
   },
   {
    "duration": 552,
    "start_time": "2025-07-27T13:43:51.433Z"
   },
   {
    "duration": 419,
    "start_time": "2025-07-27T13:43:52.636Z"
   },
   {
    "duration": 417,
    "start_time": "2025-07-27T13:43:53.057Z"
   },
   {
    "duration": 512,
    "start_time": "2025-07-27T13:43:53.476Z"
   },
   {
    "duration": 8,
    "start_time": "2025-07-27T13:43:58.165Z"
   },
   {
    "duration": 21,
    "start_time": "2025-07-27T13:43:58.321Z"
   },
   {
    "duration": 13,
    "start_time": "2025-07-27T13:44:36.013Z"
   },
   {
    "duration": 245,
    "start_time": "2025-07-27T13:44:36.293Z"
   },
   {
    "duration": 11,
    "start_time": "2025-07-27T13:44:37.230Z"
   },
   {
    "duration": 12,
    "start_time": "2025-07-27T13:44:37.554Z"
   },
   {
    "duration": 19,
    "start_time": "2025-07-27T13:44:38.177Z"
   },
   {
    "duration": 521,
    "start_time": "2025-07-27T13:44:40.128Z"
   },
   {
    "duration": 13,
    "start_time": "2025-07-27T13:44:43.525Z"
   },
   {
    "duration": 19,
    "start_time": "2025-07-27T13:44:44.696Z"
   },
   {
    "duration": 24,
    "start_time": "2025-07-27T13:44:48.120Z"
   },
   {
    "duration": 24,
    "start_time": "2025-07-27T13:44:51.720Z"
   },
   {
    "duration": 14,
    "start_time": "2025-07-27T13:44:52.199Z"
   },
   {
    "duration": 13,
    "start_time": "2025-07-27T13:44:53.662Z"
   },
   {
    "duration": 609,
    "start_time": "2025-07-27T13:44:55.407Z"
   },
   {
    "duration": 411,
    "start_time": "2025-07-27T13:46:53.994Z"
   },
   {
    "duration": 286,
    "start_time": "2025-07-27T13:47:49.767Z"
   },
   {
    "duration": 800,
    "start_time": "2025-07-27T13:47:56.829Z"
   },
   {
    "duration": 3405,
    "start_time": "2025-07-27T13:48:22.658Z"
   },
   {
    "duration": 385,
    "start_time": "2025-07-27T13:48:36.595Z"
   },
   {
    "duration": 2605,
    "start_time": "2025-07-27T13:48:44.515Z"
   },
   {
    "duration": 1106,
    "start_time": "2025-07-27T13:49:02.180Z"
   },
   {
    "duration": 9,
    "start_time": "2025-07-27T13:49:13.353Z"
   },
   {
    "duration": 9,
    "start_time": "2025-07-27T13:49:29.397Z"
   },
   {
    "duration": 13,
    "start_time": "2025-07-27T13:49:32.608Z"
   },
   {
    "duration": 9,
    "start_time": "2025-07-27T13:49:36.884Z"
   },
   {
    "duration": 10,
    "start_time": "2025-07-27T13:49:58.001Z"
   },
   {
    "duration": 494,
    "start_time": "2025-07-27T13:50:13.707Z"
   },
   {
    "duration": 6,
    "start_time": "2025-07-27T13:50:20.300Z"
   },
   {
    "duration": 447,
    "start_time": "2025-07-27T13:50:45.952Z"
   },
   {
    "duration": 55,
    "start_time": "2025-07-27T13:50:46.479Z"
   },
   {
    "duration": 1022,
    "start_time": "2025-07-27T13:51:37.185Z"
   },
   {
    "duration": 457,
    "start_time": "2025-07-27T13:51:47.720Z"
   },
   {
    "duration": 1118,
    "start_time": "2025-07-27T13:51:48.180Z"
   },
   {
    "duration": 13363,
    "start_time": "2025-07-27T13:52:56.356Z"
   },
   {
    "duration": 1396,
    "start_time": "2025-07-27T13:53:09.722Z"
   },
   {
    "duration": 1352,
    "start_time": "2025-07-27T13:53:17.385Z"
   },
   {
    "duration": 229,
    "start_time": "2025-07-27T13:53:19.296Z"
   },
   {
    "duration": 24,
    "start_time": "2025-07-27T13:53:19.830Z"
   },
   {
    "duration": 16,
    "start_time": "2025-07-27T13:53:20.005Z"
   },
   {
    "duration": 11,
    "start_time": "2025-07-27T13:53:20.159Z"
   },
   {
    "duration": 19,
    "start_time": "2025-07-27T13:53:20.325Z"
   },
   {
    "duration": 25,
    "start_time": "2025-07-27T13:53:21.158Z"
   },
   {
    "duration": 19,
    "start_time": "2025-07-27T13:53:21.430Z"
   },
   {
    "duration": 28,
    "start_time": "2025-07-27T13:53:21.552Z"
   },
   {
    "duration": 9,
    "start_time": "2025-07-27T13:53:21.835Z"
   },
   {
    "duration": 6,
    "start_time": "2025-07-27T13:53:21.989Z"
   },
   {
    "duration": 10,
    "start_time": "2025-07-27T13:53:22.286Z"
   },
   {
    "duration": 14,
    "start_time": "2025-07-27T13:53:22.438Z"
   },
   {
    "duration": 7,
    "start_time": "2025-07-27T13:53:22.734Z"
   },
   {
    "duration": 4,
    "start_time": "2025-07-27T13:53:23.020Z"
   },
   {
    "duration": 2,
    "start_time": "2025-07-27T13:53:23.187Z"
   },
   {
    "duration": 5,
    "start_time": "2025-07-27T13:53:23.477Z"
   },
   {
    "duration": 22,
    "start_time": "2025-07-27T13:53:23.632Z"
   },
   {
    "duration": 13,
    "start_time": "2025-07-27T13:53:23.766Z"
   },
   {
    "duration": 2,
    "start_time": "2025-07-27T13:53:23.925Z"
   },
   {
    "duration": 3,
    "start_time": "2025-07-27T13:53:24.217Z"
   },
   {
    "duration": 4,
    "start_time": "2025-07-27T13:53:24.531Z"
   },
   {
    "duration": 18,
    "start_time": "2025-07-27T13:53:24.846Z"
   },
   {
    "duration": 10,
    "start_time": "2025-07-27T13:53:25.020Z"
   },
   {
    "duration": 70,
    "start_time": "2025-07-27T13:53:25.334Z"
   },
   {
    "duration": 10,
    "start_time": "2025-07-27T13:53:25.956Z"
   },
   {
    "duration": 15,
    "start_time": "2025-07-27T13:53:26.094Z"
   },
   {
    "duration": 14,
    "start_time": "2025-07-27T13:53:26.732Z"
   },
   {
    "duration": 519,
    "start_time": "2025-07-27T13:53:26.887Z"
   },
   {
    "duration": 7,
    "start_time": "2025-07-27T13:53:27.578Z"
   },
   {
    "duration": 569,
    "start_time": "2025-07-27T13:53:27.747Z"
   },
   {
    "duration": 20,
    "start_time": "2025-07-27T13:53:28.318Z"
   },
   {
    "duration": 591,
    "start_time": "2025-07-27T13:53:28.343Z"
   },
   {
    "duration": 552,
    "start_time": "2025-07-27T13:53:29.017Z"
   },
   {
    "duration": 442,
    "start_time": "2025-07-27T13:53:29.572Z"
   },
   {
    "duration": 590,
    "start_time": "2025-07-27T13:53:30.016Z"
   },
   {
    "duration": 8,
    "start_time": "2025-07-27T13:53:30.608Z"
   },
   {
    "duration": 486,
    "start_time": "2025-07-27T13:53:30.617Z"
   },
   {
    "duration": 300,
    "start_time": "2025-07-27T13:53:31.105Z"
   },
   {
    "duration": 9,
    "start_time": "2025-07-27T13:53:31.407Z"
   },
   {
    "duration": 43,
    "start_time": "2025-07-27T13:53:31.417Z"
   },
   {
    "duration": 1046,
    "start_time": "2025-07-27T13:53:31.461Z"
   },
   {
    "duration": 574,
    "start_time": "2025-07-27T13:53:32.510Z"
   },
   {
    "duration": 14,
    "start_time": "2025-07-27T13:53:36.713Z"
   },
   {
    "duration": 817,
    "start_time": "2025-07-27T13:53:37.028Z"
   },
   {
    "duration": 652,
    "start_time": "2025-07-27T13:53:43.626Z"
   },
   {
    "duration": 21,
    "start_time": "2025-07-27T13:53:47.073Z"
   },
   {
    "duration": 1972,
    "start_time": "2025-07-27T13:53:47.259Z"
   },
   {
    "duration": 14,
    "start_time": "2025-07-27T13:53:53.643Z"
   },
   {
    "duration": 692,
    "start_time": "2025-07-27T13:53:54.012Z"
   },
   {
    "duration": 18233,
    "start_time": "2025-07-27T18:24:57.798Z"
   },
   {
    "duration": 1676,
    "start_time": "2025-07-27T18:25:16.034Z"
   },
   {
    "duration": 0,
    "start_time": "2025-07-27T18:25:17.714Z"
   },
   {
    "duration": 0,
    "start_time": "2025-07-27T18:25:17.715Z"
   },
   {
    "duration": 0,
    "start_time": "2025-07-27T18:25:17.717Z"
   },
   {
    "duration": 0,
    "start_time": "2025-07-27T18:25:17.719Z"
   },
   {
    "duration": 0,
    "start_time": "2025-07-27T18:25:17.721Z"
   },
   {
    "duration": 0,
    "start_time": "2025-07-27T18:25:17.722Z"
   },
   {
    "duration": 1,
    "start_time": "2025-07-27T18:25:17.739Z"
   },
   {
    "duration": 0,
    "start_time": "2025-07-27T18:25:17.741Z"
   },
   {
    "duration": 0,
    "start_time": "2025-07-27T18:25:17.743Z"
   },
   {
    "duration": 0,
    "start_time": "2025-07-27T18:25:17.744Z"
   },
   {
    "duration": 0,
    "start_time": "2025-07-27T18:25:17.746Z"
   },
   {
    "duration": 0,
    "start_time": "2025-07-27T18:25:17.748Z"
   },
   {
    "duration": 0,
    "start_time": "2025-07-27T18:25:17.749Z"
   },
   {
    "duration": 0,
    "start_time": "2025-07-27T18:25:17.750Z"
   },
   {
    "duration": 0,
    "start_time": "2025-07-27T18:25:17.752Z"
   },
   {
    "duration": 0,
    "start_time": "2025-07-27T18:25:17.754Z"
   },
   {
    "duration": 0,
    "start_time": "2025-07-27T18:25:17.755Z"
   },
   {
    "duration": 0,
    "start_time": "2025-07-27T18:25:17.757Z"
   },
   {
    "duration": 0,
    "start_time": "2025-07-27T18:25:17.758Z"
   },
   {
    "duration": 0,
    "start_time": "2025-07-27T18:25:17.760Z"
   },
   {
    "duration": 0,
    "start_time": "2025-07-27T18:25:17.761Z"
   },
   {
    "duration": 0,
    "start_time": "2025-07-27T18:25:17.762Z"
   },
   {
    "duration": 0,
    "start_time": "2025-07-27T18:25:17.765Z"
   },
   {
    "duration": 0,
    "start_time": "2025-07-27T18:25:17.766Z"
   },
   {
    "duration": 0,
    "start_time": "2025-07-27T18:25:17.768Z"
   },
   {
    "duration": 0,
    "start_time": "2025-07-27T18:25:17.769Z"
   },
   {
    "duration": 0,
    "start_time": "2025-07-27T18:25:17.771Z"
   },
   {
    "duration": 0,
    "start_time": "2025-07-27T18:25:17.772Z"
   },
   {
    "duration": 0,
    "start_time": "2025-07-27T18:25:17.774Z"
   },
   {
    "duration": 0,
    "start_time": "2025-07-27T18:25:17.775Z"
   },
   {
    "duration": 0,
    "start_time": "2025-07-27T18:25:17.776Z"
   },
   {
    "duration": 0,
    "start_time": "2025-07-27T18:25:17.777Z"
   },
   {
    "duration": 0,
    "start_time": "2025-07-27T18:25:17.778Z"
   },
   {
    "duration": 0,
    "start_time": "2025-07-27T18:25:17.839Z"
   },
   {
    "duration": 0,
    "start_time": "2025-07-27T18:25:17.841Z"
   },
   {
    "duration": 0,
    "start_time": "2025-07-27T18:25:17.842Z"
   },
   {
    "duration": 0,
    "start_time": "2025-07-27T18:25:17.843Z"
   },
   {
    "duration": 0,
    "start_time": "2025-07-27T18:25:17.844Z"
   },
   {
    "duration": 0,
    "start_time": "2025-07-27T18:25:17.845Z"
   },
   {
    "duration": 0,
    "start_time": "2025-07-27T18:25:17.846Z"
   },
   {
    "duration": 0,
    "start_time": "2025-07-27T18:25:17.847Z"
   },
   {
    "duration": 0,
    "start_time": "2025-07-27T18:25:17.849Z"
   },
   {
    "duration": 0,
    "start_time": "2025-07-27T18:25:17.850Z"
   },
   {
    "duration": 0,
    "start_time": "2025-07-27T18:25:17.852Z"
   },
   {
    "duration": 0,
    "start_time": "2025-07-27T18:25:17.853Z"
   },
   {
    "duration": 0,
    "start_time": "2025-07-27T18:25:17.855Z"
   },
   {
    "duration": 0,
    "start_time": "2025-07-27T18:25:17.857Z"
   },
   {
    "duration": 0,
    "start_time": "2025-07-27T18:25:17.859Z"
   },
   {
    "duration": 0,
    "start_time": "2025-07-27T18:25:17.860Z"
   },
   {
    "duration": 4,
    "start_time": "2025-07-27T18:25:39.888Z"
   },
   {
    "duration": 7250,
    "start_time": "2025-07-27T18:25:39.893Z"
   },
   {
    "duration": 1593,
    "start_time": "2025-07-27T18:25:47.145Z"
   },
   {
    "duration": 188,
    "start_time": "2025-07-27T18:25:48.740Z"
   },
   {
    "duration": 18,
    "start_time": "2025-07-27T18:25:48.930Z"
   },
   {
    "duration": 18,
    "start_time": "2025-07-27T18:25:48.949Z"
   },
   {
    "duration": 21,
    "start_time": "2025-07-27T18:25:48.969Z"
   },
   {
    "duration": 42,
    "start_time": "2025-07-27T18:25:48.991Z"
   },
   {
    "duration": 49,
    "start_time": "2025-07-27T18:25:49.035Z"
   },
   {
    "duration": 19,
    "start_time": "2025-07-27T18:25:49.087Z"
   },
   {
    "duration": 46,
    "start_time": "2025-07-27T18:25:49.108Z"
   },
   {
    "duration": 6,
    "start_time": "2025-07-27T18:25:49.156Z"
   },
   {
    "duration": 25,
    "start_time": "2025-07-27T18:25:49.164Z"
   },
   {
    "duration": 36,
    "start_time": "2025-07-27T18:25:49.191Z"
   },
   {
    "duration": 35,
    "start_time": "2025-07-27T18:25:49.229Z"
   },
   {
    "duration": 27,
    "start_time": "2025-07-27T18:25:49.265Z"
   },
   {
    "duration": 29,
    "start_time": "2025-07-27T18:25:49.294Z"
   },
   {
    "duration": 12,
    "start_time": "2025-07-27T18:25:49.325Z"
   },
   {
    "duration": 27,
    "start_time": "2025-07-27T18:25:49.338Z"
   },
   {
    "duration": 42,
    "start_time": "2025-07-27T18:25:49.367Z"
   },
   {
    "duration": 41,
    "start_time": "2025-07-27T18:25:49.411Z"
   },
   {
    "duration": 27,
    "start_time": "2025-07-27T18:25:49.453Z"
   },
   {
    "duration": 39,
    "start_time": "2025-07-27T18:25:49.482Z"
   },
   {
    "duration": 50,
    "start_time": "2025-07-27T18:25:49.522Z"
   },
   {
    "duration": 64,
    "start_time": "2025-07-27T18:25:49.574Z"
   },
   {
    "duration": 21,
    "start_time": "2025-07-27T18:25:49.640Z"
   },
   {
    "duration": 84,
    "start_time": "2025-07-27T18:25:49.663Z"
   },
   {
    "duration": 9,
    "start_time": "2025-07-27T18:25:49.751Z"
   },
   {
    "duration": 39,
    "start_time": "2025-07-27T18:25:49.762Z"
   },
   {
    "duration": 30,
    "start_time": "2025-07-27T18:25:49.803Z"
   },
   {
    "duration": 519,
    "start_time": "2025-07-27T18:25:49.835Z"
   },
   {
    "duration": 7,
    "start_time": "2025-07-27T18:25:50.356Z"
   },
   {
    "duration": 554,
    "start_time": "2025-07-27T18:25:50.365Z"
   },
   {
    "duration": 7,
    "start_time": "2025-07-27T18:25:50.921Z"
   },
   {
    "duration": 563,
    "start_time": "2025-07-27T18:25:50.938Z"
   },
   {
    "duration": 448,
    "start_time": "2025-07-27T18:25:51.503Z"
   },
   {
    "duration": 419,
    "start_time": "2025-07-27T18:25:51.952Z"
   },
   {
    "duration": 534,
    "start_time": "2025-07-27T18:25:52.372Z"
   },
   {
    "duration": 7,
    "start_time": "2025-07-27T18:25:52.908Z"
   },
   {
    "duration": 409,
    "start_time": "2025-07-27T18:25:52.916Z"
   },
   {
    "duration": 280,
    "start_time": "2025-07-27T18:25:53.327Z"
   },
   {
    "duration": 9,
    "start_time": "2025-07-27T18:25:53.608Z"
   },
   {
    "duration": 30,
    "start_time": "2025-07-27T18:25:53.618Z"
   },
   {
    "duration": 1006,
    "start_time": "2025-07-27T18:25:53.650Z"
   },
   {
    "duration": 523,
    "start_time": "2025-07-27T18:25:54.658Z"
   },
   {
    "duration": 12,
    "start_time": "2025-07-27T18:25:55.182Z"
   },
   {
    "duration": 795,
    "start_time": "2025-07-27T18:25:55.196Z"
   },
   {
    "duration": 674,
    "start_time": "2025-07-27T18:25:55.993Z"
   },
   {
    "duration": 21,
    "start_time": "2025-07-27T18:25:56.669Z"
   },
   {
    "duration": 1903,
    "start_time": "2025-07-27T18:25:56.692Z"
   },
   {
    "duration": 14,
    "start_time": "2025-07-27T18:25:58.597Z"
   },
   {
    "duration": 657,
    "start_time": "2025-07-27T18:25:58.612Z"
   },
   {
    "duration": 55,
    "start_time": "2025-07-28T14:40:57.755Z"
   },
   {
    "duration": 1433,
    "start_time": "2025-07-28T14:41:05.311Z"
   },
   {
    "duration": 0,
    "start_time": "2025-07-28T14:41:06.747Z"
   },
   {
    "duration": 0,
    "start_time": "2025-07-28T14:41:06.748Z"
   },
   {
    "duration": 0,
    "start_time": "2025-07-28T14:41:06.750Z"
   },
   {
    "duration": 0,
    "start_time": "2025-07-28T14:41:06.751Z"
   },
   {
    "duration": 0,
    "start_time": "2025-07-28T14:41:06.752Z"
   },
   {
    "duration": 10,
    "start_time": "2025-07-28T14:41:07.368Z"
   },
   {
    "duration": 8,
    "start_time": "2025-07-28T14:41:07.767Z"
   },
   {
    "duration": 3,
    "start_time": "2025-07-28T14:41:28.414Z"
   },
   {
    "duration": 3601,
    "start_time": "2025-07-28T14:41:29.796Z"
   },
   {
    "duration": 1219,
    "start_time": "2025-07-28T14:41:33.400Z"
   },
   {
    "duration": 224,
    "start_time": "2025-07-28T14:41:38.703Z"
   },
   {
    "duration": 16,
    "start_time": "2025-07-28T14:41:39.001Z"
   },
   {
    "duration": 15,
    "start_time": "2025-07-28T14:41:41.490Z"
   },
   {
    "duration": 11,
    "start_time": "2025-07-28T14:41:42.293Z"
   },
   {
    "duration": 10,
    "start_time": "2025-07-28T14:41:44.399Z"
   },
   {
    "duration": 23,
    "start_time": "2025-07-28T14:41:46.110Z"
   },
   {
    "duration": 19,
    "start_time": "2025-07-28T14:41:47.451Z"
   },
   {
    "duration": 28,
    "start_time": "2025-07-28T14:41:47.861Z"
   },
   {
    "duration": 6,
    "start_time": "2025-07-28T14:41:48.232Z"
   },
   {
    "duration": 6,
    "start_time": "2025-07-28T14:41:48.392Z"
   },
   {
    "duration": 11,
    "start_time": "2025-07-28T14:41:48.705Z"
   },
   {
    "duration": 13,
    "start_time": "2025-07-28T14:41:48.866Z"
   },
   {
    "duration": 3,
    "start_time": "2025-07-28T14:41:49.163Z"
   },
   {
    "duration": 3,
    "start_time": "2025-07-28T14:41:49.620Z"
   },
   {
    "duration": 3,
    "start_time": "2025-07-28T14:41:49.781Z"
   },
   {
    "duration": 7,
    "start_time": "2025-07-28T14:41:50.243Z"
   },
   {
    "duration": 11,
    "start_time": "2025-07-28T14:41:50.387Z"
   },
   {
    "duration": 14,
    "start_time": "2025-07-28T14:41:50.530Z"
   },
   {
    "duration": 2,
    "start_time": "2025-07-28T14:41:50.690Z"
   },
   {
    "duration": 3,
    "start_time": "2025-07-28T14:41:51.158Z"
   },
   {
    "duration": 4,
    "start_time": "2025-07-28T14:41:51.651Z"
   },
   {
    "duration": 17,
    "start_time": "2025-07-28T14:41:51.965Z"
   },
   {
    "duration": 9,
    "start_time": "2025-07-28T14:41:52.126Z"
   },
   {
    "duration": 57,
    "start_time": "2025-07-28T14:41:52.460Z"
   },
   {
    "duration": 9,
    "start_time": "2025-07-28T14:41:53.103Z"
   },
   {
    "duration": 16,
    "start_time": "2025-07-28T14:41:53.269Z"
   },
   {
    "duration": 6,
    "start_time": "2025-07-28T14:41:53.913Z"
   },
   {
    "duration": 358,
    "start_time": "2025-07-28T14:41:54.066Z"
   },
   {
    "duration": 7,
    "start_time": "2025-07-28T14:41:54.710Z"
   },
   {
    "duration": 388,
    "start_time": "2025-07-28T14:41:54.870Z"
   },
   {
    "duration": 7,
    "start_time": "2025-07-28T14:41:57.221Z"
   },
   {
    "duration": 385,
    "start_time": "2025-07-28T14:41:57.459Z"
   },
   {
    "duration": 292,
    "start_time": "2025-07-28T14:42:00.368Z"
   },
   {
    "duration": 258,
    "start_time": "2025-07-28T14:42:01.484Z"
   },
   {
    "duration": 372,
    "start_time": "2025-07-28T14:42:02.777Z"
   },
   {
    "duration": 8,
    "start_time": "2025-07-28T14:42:04.994Z"
   },
   {
    "duration": 255,
    "start_time": "2025-07-28T14:42:05.217Z"
   },
   {
    "duration": 225,
    "start_time": "2025-07-28T14:42:05.499Z"
   },
   {
    "duration": 12,
    "start_time": "2025-07-28T14:42:06.442Z"
   },
   {
    "duration": 11,
    "start_time": "2025-07-28T14:42:07.680Z"
   },
   {
    "duration": 696,
    "start_time": "2025-07-28T14:42:08.420Z"
   },
   {
    "duration": 692,
    "start_time": "2025-07-28T14:42:19.400Z"
   },
   {
    "duration": 649,
    "start_time": "2025-07-28T14:42:28.893Z"
   },
   {
    "duration": 312,
    "start_time": "2025-07-28T14:43:41.615Z"
   },
   {
    "duration": 12,
    "start_time": "2025-07-28T14:43:42.474Z"
   },
   {
    "duration": 631,
    "start_time": "2025-07-28T14:43:42.816Z"
   },
   {
    "duration": 14574,
    "start_time": "2025-07-28T14:44:02.832Z"
   },
   {
    "duration": 3026,
    "start_time": "2025-07-28T14:44:30.692Z"
   },
   {
    "duration": 2528,
    "start_time": "2025-07-28T14:44:43.782Z"
   },
   {
    "duration": 7272,
    "start_time": "2025-07-28T14:44:47.563Z"
   },
   {
    "duration": 1393,
    "start_time": "2025-07-28T14:44:54.837Z"
   },
   {
    "duration": 329,
    "start_time": "2025-07-28T14:44:56.232Z"
   },
   {
    "duration": 20,
    "start_time": "2025-07-28T14:44:56.563Z"
   },
   {
    "duration": 15,
    "start_time": "2025-07-28T14:44:56.586Z"
   },
   {
    "duration": 19,
    "start_time": "2025-07-28T14:44:56.603Z"
   },
   {
    "duration": 25,
    "start_time": "2025-07-28T14:44:56.623Z"
   },
   {
    "duration": 27,
    "start_time": "2025-07-28T14:45:01.032Z"
   },
   {
    "duration": 15,
    "start_time": "2025-07-28T14:45:01.974Z"
   },
   {
    "duration": 29,
    "start_time": "2025-07-28T14:45:02.617Z"
   },
   {
    "duration": 7,
    "start_time": "2025-07-28T14:45:03.207Z"
   },
   {
    "duration": 5,
    "start_time": "2025-07-28T14:45:03.379Z"
   },
   {
    "duration": 11,
    "start_time": "2025-07-28T14:45:03.697Z"
   },
   {
    "duration": 13,
    "start_time": "2025-07-28T14:45:03.851Z"
   },
   {
    "duration": 2,
    "start_time": "2025-07-28T14:45:04.159Z"
   },
   {
    "duration": 4,
    "start_time": "2025-07-28T14:45:04.761Z"
   },
   {
    "duration": 10,
    "start_time": "2025-07-28T14:45:04.819Z"
   },
   {
    "duration": 5,
    "start_time": "2025-07-28T14:45:05.122Z"
   },
   {
    "duration": 13,
    "start_time": "2025-07-28T14:45:05.281Z"
   },
   {
    "duration": 12,
    "start_time": "2025-07-28T14:45:05.340Z"
   },
   {
    "duration": 3,
    "start_time": "2025-07-28T14:45:05.446Z"
   },
   {
    "duration": 3,
    "start_time": "2025-07-28T14:45:05.675Z"
   },
   {
    "duration": 3,
    "start_time": "2025-07-28T14:45:05.946Z"
   },
   {
    "duration": 18,
    "start_time": "2025-07-28T14:45:06.112Z"
   },
   {
    "duration": 10,
    "start_time": "2025-07-28T14:45:06.180Z"
   },
   {
    "duration": 56,
    "start_time": "2025-07-28T14:45:06.351Z"
   },
   {
    "duration": 10,
    "start_time": "2025-07-28T14:45:06.703Z"
   },
   {
    "duration": 15,
    "start_time": "2025-07-28T14:45:06.820Z"
   },
   {
    "duration": 6,
    "start_time": "2025-07-28T14:45:07.171Z"
   },
   {
    "duration": 517,
    "start_time": "2025-07-28T14:45:07.222Z"
   },
   {
    "duration": 7,
    "start_time": "2025-07-28T14:45:07.741Z"
   },
   {
    "duration": 581,
    "start_time": "2025-07-28T14:45:07.750Z"
   },
   {
    "duration": 7,
    "start_time": "2025-07-28T14:45:08.338Z"
   },
   {
    "duration": 777,
    "start_time": "2025-07-28T14:45:08.347Z"
   },
   {
    "duration": 422,
    "start_time": "2025-07-28T14:45:09.127Z"
   },
   {
    "duration": 421,
    "start_time": "2025-07-28T14:45:09.551Z"
   },
   {
    "duration": 534,
    "start_time": "2025-07-28T14:45:09.974Z"
   },
   {
    "duration": 7,
    "start_time": "2025-07-28T14:45:10.511Z"
   },
   {
    "duration": 440,
    "start_time": "2025-07-28T14:45:10.520Z"
   },
   {
    "duration": 271,
    "start_time": "2025-07-28T14:45:10.963Z"
   },
   {
    "duration": 8,
    "start_time": "2025-07-28T14:45:11.240Z"
   },
   {
    "duration": 14,
    "start_time": "2025-07-28T14:45:11.250Z"
   },
   {
    "duration": 997,
    "start_time": "2025-07-28T14:45:11.265Z"
   },
   {
    "duration": 470,
    "start_time": "2025-07-28T14:45:12.264Z"
   },
   {
    "duration": 12,
    "start_time": "2025-07-28T14:45:12.796Z"
   },
   {
    "duration": 783,
    "start_time": "2025-07-28T14:45:14.210Z"
   },
   {
    "duration": 652,
    "start_time": "2025-07-28T14:45:31.259Z"
   },
   {
    "duration": 3,
    "start_time": "2025-07-28T14:46:29.209Z"
   },
   {
    "duration": 5,
    "start_time": "2025-07-28T14:46:33.463Z"
   },
   {
    "duration": 5,
    "start_time": "2025-07-28T14:46:54.064Z"
   },
   {
    "duration": 8,
    "start_time": "2025-07-28T14:47:00.728Z"
   },
   {
    "duration": 7,
    "start_time": "2025-07-28T14:47:45.430Z"
   },
   {
    "duration": 7,
    "start_time": "2025-07-28T14:47:51.225Z"
   },
   {
    "duration": 11,
    "start_time": "2025-07-28T14:47:59.511Z"
   },
   {
    "duration": 116,
    "start_time": "2025-07-28T14:48:41.367Z"
   },
   {
    "duration": 108,
    "start_time": "2025-07-28T14:48:51.492Z"
   },
   {
    "duration": 14,
    "start_time": "2025-07-28T14:49:00.767Z"
   },
   {
    "duration": 12,
    "start_time": "2025-07-28T14:49:14.087Z"
   },
   {
    "duration": 12,
    "start_time": "2025-07-28T14:49:22.710Z"
   },
   {
    "duration": 12,
    "start_time": "2025-07-28T14:50:04.745Z"
   },
   {
    "duration": 13,
    "start_time": "2025-07-28T14:50:15.396Z"
   },
   {
    "duration": 23,
    "start_time": "2025-07-28T14:52:10.638Z"
   },
   {
    "duration": 1898,
    "start_time": "2025-07-28T14:52:11.664Z"
   },
   {
    "duration": 14,
    "start_time": "2025-07-28T14:52:20.561Z"
   },
   {
    "duration": 637,
    "start_time": "2025-07-28T14:52:21.354Z"
   },
   {
    "duration": 17376,
    "start_time": "2025-07-28T15:02:25.195Z"
   },
   {
    "duration": 7280,
    "start_time": "2025-07-28T15:02:42.573Z"
   },
   {
    "duration": 1606,
    "start_time": "2025-07-28T15:02:49.855Z"
   },
   {
    "duration": 213,
    "start_time": "2025-07-28T15:02:51.462Z"
   },
   {
    "duration": 21,
    "start_time": "2025-07-28T15:02:51.677Z"
   },
   {
    "duration": 42,
    "start_time": "2025-07-28T15:02:51.700Z"
   },
   {
    "duration": 14,
    "start_time": "2025-07-28T15:02:51.744Z"
   },
   {
    "duration": 13,
    "start_time": "2025-07-28T15:02:51.760Z"
   },
   {
    "duration": 25,
    "start_time": "2025-07-28T15:02:51.774Z"
   },
   {
    "duration": 15,
    "start_time": "2025-07-28T15:02:51.801Z"
   },
   {
    "duration": 54,
    "start_time": "2025-07-28T15:02:51.818Z"
   },
   {
    "duration": 7,
    "start_time": "2025-07-28T15:02:51.874Z"
   },
   {
    "duration": 20,
    "start_time": "2025-07-28T15:02:51.882Z"
   },
   {
    "duration": 114,
    "start_time": "2025-07-28T15:02:51.905Z"
   },
   {
    "duration": 15,
    "start_time": "2025-07-28T15:02:52.021Z"
   },
   {
    "duration": 7,
    "start_time": "2025-07-28T15:02:52.038Z"
   },
   {
    "duration": 13,
    "start_time": "2025-07-28T15:02:52.046Z"
   },
   {
    "duration": 5,
    "start_time": "2025-07-28T15:02:52.061Z"
   },
   {
    "duration": 5,
    "start_time": "2025-07-28T15:02:52.068Z"
   },
   {
    "duration": 33,
    "start_time": "2025-07-28T15:02:52.075Z"
   },
   {
    "duration": 34,
    "start_time": "2025-07-28T15:02:52.110Z"
   },
   {
    "duration": 3,
    "start_time": "2025-07-28T15:02:52.146Z"
   },
   {
    "duration": 3,
    "start_time": "2025-07-28T15:02:52.151Z"
   },
   {
    "duration": 32,
    "start_time": "2025-07-28T15:02:52.156Z"
   },
   {
    "duration": 25,
    "start_time": "2025-07-28T15:02:52.190Z"
   },
   {
    "duration": 25,
    "start_time": "2025-07-28T15:02:52.216Z"
   },
   {
    "duration": 61,
    "start_time": "2025-07-28T15:02:52.243Z"
   },
   {
    "duration": 9,
    "start_time": "2025-07-28T15:02:52.307Z"
   },
   {
    "duration": 15,
    "start_time": "2025-07-28T15:02:52.318Z"
   },
   {
    "duration": 21,
    "start_time": "2025-07-28T15:02:52.335Z"
   },
   {
    "duration": 539,
    "start_time": "2025-07-28T15:02:52.358Z"
   },
   {
    "duration": 7,
    "start_time": "2025-07-28T15:02:52.899Z"
   },
   {
    "duration": 777,
    "start_time": "2025-07-28T15:02:52.907Z"
   },
   {
    "duration": 179,
    "start_time": "2025-07-28T15:02:53.686Z"
   },
   {
    "duration": 964,
    "start_time": "2025-07-28T15:02:53.867Z"
   },
   {
    "duration": 446,
    "start_time": "2025-07-28T15:02:54.833Z"
   },
   {
    "duration": 428,
    "start_time": "2025-07-28T15:02:55.280Z"
   },
   {
    "duration": 527,
    "start_time": "2025-07-28T15:02:55.710Z"
   },
   {
    "duration": 12,
    "start_time": "2025-07-28T15:02:56.238Z"
   },
   {
    "duration": 481,
    "start_time": "2025-07-28T15:02:56.252Z"
   },
   {
    "duration": 304,
    "start_time": "2025-07-28T15:02:56.737Z"
   },
   {
    "duration": 8,
    "start_time": "2025-07-28T15:02:57.050Z"
   },
   {
    "duration": 123,
    "start_time": "2025-07-28T15:02:57.060Z"
   },
   {
    "duration": 1009,
    "start_time": "2025-07-28T15:02:57.185Z"
   },
   {
    "duration": 512,
    "start_time": "2025-07-28T15:02:58.196Z"
   },
   {
    "duration": 12,
    "start_time": "2025-07-28T15:02:58.710Z"
   },
   {
    "duration": 793,
    "start_time": "2025-07-28T15:02:58.724Z"
   },
   {
    "duration": 671,
    "start_time": "2025-07-28T15:02:59.518Z"
   },
   {
    "duration": 13,
    "start_time": "2025-07-28T15:03:00.191Z"
   },
   {
    "duration": 43,
    "start_time": "2025-07-28T15:03:00.206Z"
   },
   {
    "duration": 1962,
    "start_time": "2025-07-28T15:03:00.250Z"
   },
   {
    "duration": 14,
    "start_time": "2025-07-28T15:03:02.215Z"
   },
   {
    "duration": 669,
    "start_time": "2025-07-28T15:03:02.230Z"
   }
  ],
  "colab": {
   "provenance": []
  },
  "kernelspec": {
   "display_name": "Python 3 (ipykernel)",
   "language": "python",
   "name": "python3"
  },
  "language_info": {
   "codemirror_mode": {
    "name": "ipython",
    "version": 3
   },
   "file_extension": ".py",
   "mimetype": "text/x-python",
   "name": "python",
   "nbconvert_exporter": "python",
   "pygments_lexer": "ipython3",
   "version": "3.12.7"
  },
  "toc": {
   "base_numbering": 1,
   "nav_menu": {},
   "number_sections": true,
   "sideBar": true,
   "skip_h1_title": true,
   "title_cell": "Table of Contents",
   "title_sidebar": "Contents",
   "toc_cell": false,
   "toc_position": {},
   "toc_section_display": true,
   "toc_window_display": false
  }
 },
 "nbformat": 4,
 "nbformat_minor": 5
}
